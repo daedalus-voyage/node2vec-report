{
 "cells": [
  {
   "cell_type": "markdown",
   "source": [
    "# Predicting class labels using Node2Vec"
   ],
   "metadata": {
    "collapsed": false,
    "pycharm": {
     "name": "#%% md\n"
    }
   },
   "outputs": []
  },
  {
   "cell_type": "code",
   "execution_count": 1,
   "outputs": [],
   "source": [
    "import numpy as np\n",
    "import pandas as pd\n",
    "\n",
    "from lib.DataSet import DataSet\n",
    "from matplotlib import pyplot as plt"
   ],
   "metadata": {
    "collapsed": false,
    "pycharm": {
     "name": "#%%\n"
    }
   }
  },
  {
   "cell_type": "markdown",
   "source": [
    "## Introduction\n",
    "\n",
    "This report explores the effect of different parameter values on the performance of the [Node2Vec algorithm](https://snap.stanford.edu/node2vec/)."
   ],
   "metadata": {
    "collapsed": false,
    "pycharm": {
     "name": "#%% md\n"
    }
   }
  },
  {
   "cell_type": "markdown",
   "source": [
    "## Data\n",
    "\n",
    "### Introduction\n",
    "\n",
    "The original multilabel classification data from the [Node2Vec paper](https://arxiv.org/abs/1607.00653) were used, from which 2 datasets were selected.\n",
    "\n",
    "Both datasets consist of a `network` (an adjacency matrix) and a `group` (the set of labels for each node id)."
   ],
   "metadata": {
    "collapsed": false,
    "pycharm": {
     "name": "#%% md\n"
    }
   },
   "outputs": []
  },
  {
   "cell_type": "code",
   "execution_count": 2,
   "outputs": [],
   "source": [
    "hosap_data = DataSet('./data/Homo_sapiens.mat')\n",
    "pos_data = DataSet('./data/POS.mat')"
   ],
   "metadata": {
    "collapsed": false,
    "pycharm": {
     "name": "#%%\n"
    }
   }
  },
  {
   "cell_type": "markdown",
   "source": [
    "#### [Protein-Protein interactions dataset](https://downloads.thebiogrid.org/BioGRID)\n",
    "\n",
    "This dataset contains data on protein-protein interactions for Homo Sapiens. Each label describes a biological state of a protein involved in such interactions. Links and nodes are both unweighted.\n",
    "\n",
    "The labels in the dataset are well distributed, with sufficient number to both train and test a classifier."
   ],
   "metadata": {
    "collapsed": false,
    "pycharm": {
     "name": "#%% md\n"
    }
   },
   "outputs": []
  },
  {
   "cell_type": "code",
   "execution_count": 3,
   "outputs": [
    {
     "data": {
      "text/plain": "[]"
     },
     "execution_count": 3,
     "metadata": {},
     "output_type": "execute_result"
    },
    {
     "data": {
      "text/plain": "<Figure size 432x288 with 1 Axes>",
      "image/png": "[encoded data removed]"
     },
     "metadata": {
      "needs_background": "light"
     },
     "output_type": "display_data"
    }
   ],
   "source": [
    "sums = np.sum(hosap_data.group, axis=0)\n",
    "plt.hist(sums, bins=100)\n",
    "plt.plot()"
   ],
   "metadata": {
    "collapsed": false,
    "pycharm": {
     "name": "#%%\n"
    }
   }
  },
  {
   "cell_type": "code",
   "execution_count": 4,
   "outputs": [
    {
     "data": {
      "text/plain": "array([ 33,  51, 180, 176,  94, 194, 166, 178, 182, 188, 170,  31, 189,\n       177,  47, 185,  90,  81, 167, 137, 111,  71, 189, 148,  30, 197,\n       146, 183,  82, 112, 190, 176,  55, 198, 183,  92, 132, 154,  94,\n       177, 184, 179, 100, 195,  34, 173,  37, 147, 124,  31])"
     },
     "execution_count": 4,
     "metadata": {},
     "output_type": "execute_result"
    }
   ],
   "source": [
    "category_sizes = np.sum(hosap_data.group, axis=0)\n",
    "category_sizes"
   ],
   "metadata": {
    "collapsed": false,
    "pycharm": {
     "name": "#%%\n"
    }
   }
  },
  {
   "cell_type": "code",
   "execution_count": 5,
   "outputs": [
    {
     "data": {
      "text/plain": "array([0, 0, 0, ..., 0, 1, 0])"
     },
     "execution_count": 5,
     "metadata": {},
     "output_type": "execute_result"
    }
   ],
   "source": [
    "max_category_size = np.amax(category_sizes)\n",
    "hosap_data.group[:,33]"
   ],
   "metadata": {
    "collapsed": false,
    "pycharm": {
     "name": "#%%\n"
    }
   }
  },
  {
   "cell_type": "code",
   "execution_count": 6,
   "outputs": [
    {
     "data": {
      "text/plain": "array([33])"
     },
     "execution_count": 6,
     "metadata": {},
     "output_type": "execute_result"
    }
   ],
   "source": [
    "max_category_index = np.where(category_sizes == max_category_size)\n",
    "max_category_index[0]"
   ],
   "metadata": {
    "collapsed": false,
    "pycharm": {
     "name": "#%%\n"
    }
   }
  },
  {
   "cell_type": "code",
   "execution_count": 51,
   "outputs": [
    {
     "data": {
      "text/plain": "198.0"
     },
     "execution_count": 51,
     "metadata": {},
     "output_type": "execute_result"
    }
   ],
   "source": [
    "# def retain_largest_category(dataset_labels):\n",
    "#     label_sizes = np.sum(dataset_labels, axis=0)\n",
    "#     biggest_label_size = np.amax(label_sizes)\n",
    "#     biggest_label_index = np.where(label_sizes == biggest_label_size)[0]\n",
    "#\n",
    "#     return (dataset_labels[:,biggest_label_index], biggest_label_index)\n",
    "#\n",
    "# np.sum(retain_largest_category(hosap_data.group)[0])"
   ],
   "metadata": {
    "collapsed": false,
    "pycharm": {
     "name": "#%%\n"
    }
   }
  },
  {
   "cell_type": "markdown",
   "source": [
    "What is the size of largest category in the PPI dataset?"
   ],
   "metadata": {
    "collapsed": false,
    "pycharm": {
     "name": "#%% md\n"
    }
   }
  },
  {
   "cell_type": "code",
   "execution_count": 52,
   "outputs": [
    {
     "data": {
      "text/plain": "198.0"
     },
     "execution_count": 52,
     "metadata": {},
     "output_type": "execute_result"
    }
   ],
   "source": [
    "from lib.ProjectGraph import retain_largest_category\n",
    "\n",
    "(hosap_labels, hosap_index) = retain_largest_category(hosap_data.group)\n",
    "np.sum(hosap_labels)"
   ],
   "metadata": {
    "collapsed": false,
    "pycharm": {
     "name": "#%%\n"
    }
   }
  },
  {
   "cell_type": "code",
   "execution_count": 53,
   "outputs": [
    {
     "data": {
      "text/plain": "array([[0.],\n       [0.],\n       [0.],\n       ...,\n       [0.],\n       [1.],\n       [0.]])"
     },
     "execution_count": 53,
     "metadata": {},
     "output_type": "execute_result"
    }
   ],
   "source": [
    "hosap_labels"
   ],
   "metadata": {
    "collapsed": false,
    "pycharm": {
     "name": "#%%\n"
    }
   }
  },
  {
   "cell_type": "markdown",
   "source": [
    "What category to investigate on the Wikipedia dataset?"
   ],
   "metadata": {
    "collapsed": false,
    "pycharm": {
     "name": "#%% md\n"
    }
   }
  },
  {
   "cell_type": "code",
   "execution_count": 8,
   "outputs": [
    {
     "name": "stderr",
     "output_type": "stream",
     "text": [
      "2022-05-19 12:36:33.532508: I tensorflow/core/platform/cpu_feature_guard.cc:151] This TensorFlow binary is optimized with oneAPI Deep Neural Network Library (oneDNN) to use the following CPU instructions in performance-critical operations:  AVX2 FMA\n",
      "To enable them in other operations, rebuild TensorFlow with the appropriate compiler flags.\n"
     ]
    },
    {
     "data": {
      "text/plain": "'IGRAPH D--- 3852 76546 -- \\n+ attr: labels (v)'"
     },
     "execution_count": 7,
     "metadata": {},
     "output_type": "execute_result"
    },
    {
     "data": {
      "text/plain": "'IGRAPH D--- 3852 76546 -- \\n+ attr: labels (v)'"
     },
     "execution_count": 8,
     "metadata": {},
     "output_type": "execute_result"
    }
   ],
   "source": [
    "from igraph import Graph\n",
    "from lib.ProjectGraph import init_igraph\n",
    "\n",
    "graph: Graph = init_igraph(hosap_data, only_largest_component=True)\n",
    "graph.summary()"
   ],
   "metadata": {
    "collapsed": false,
    "pycharm": {
     "name": "#%%\n"
    }
   }
  },
  {
   "cell_type": "markdown",
   "source": [
    "Retain only the labels for the largest category:"
   ],
   "metadata": {
    "collapsed": false,
    "pycharm": {
     "name": "#%% md\n"
    }
   }
  },
  {
   "cell_type": "code",
   "execution_count": 11,
   "outputs": [
    {
     "data": {
      "text/plain": "'IGRAPH D--- 3852 76546 -- \\n+ attr: category (v), labels (v)'"
     },
     "execution_count": 11,
     "metadata": {},
     "output_type": "execute_result"
    }
   ],
   "source": [
    "from lib.ProjectGraph import retain_largest_category\n",
    "\n",
    "labels, graph = retain_largest_category(graph)\n",
    "graph.summary()"
   ],
   "metadata": {
    "collapsed": false,
    "pycharm": {
     "name": "#%%\n"
    }
   }
  },
  {
   "cell_type": "code",
   "execution_count": 13,
   "outputs": [],
   "source": [
    "# graph.vs.get_attribute_values(\"category\")"
   ],
   "metadata": {
    "collapsed": false,
    "pycharm": {
     "name": "#%%\n"
    }
   }
  },
  {
   "cell_type": "code",
   "execution_count": 14,
   "outputs": [],
   "source": [
    "# (pos_labels, pos_index) = retain_largest_category(pos_data.group)\n",
    "# np.sum(pos_labels)"
   ],
   "metadata": {
    "collapsed": false,
    "pycharm": {
     "name": "#%%\n"
    }
   }
  },
  {
   "cell_type": "code",
   "execution_count": 15,
   "outputs": [],
   "source": [
    "# pos_labels"
   ],
   "metadata": {
    "collapsed": false,
    "pycharm": {
     "name": "#%%\n"
    }
   }
  },
  {
   "cell_type": "markdown",
   "source": [
    "#### [Wikipedia POS dataset](http://www.mattmahoney.net/dc/textdata)\n",
    "\n",
    "This dataset contains data on POS tags for words in wikipedia articles. The edges represent co-occurrences of these words. Based on co-occurrence patterns of words, POS labels are predicted. The nodes are weighed, the edges are not. In the classification task, we ignore the weights though.\n",
    "\n",
    "One difficulty in this dataset is the label distribution, with most of the labels only occurring a few times. This leads to test sets with too few labels if we don't account for this."
   ],
   "metadata": {
    "collapsed": false,
    "pycharm": {
     "name": "#%% md\n"
    }
   }
  },
  {
   "cell_type": "code",
   "execution_count": 4,
   "outputs": [
    {
     "data": {
      "text/plain": "[]"
     },
     "execution_count": 4,
     "metadata": {},
     "output_type": "execute_result"
    },
    {
     "data": {
      "text/plain": "<Figure size 432x288 with 1 Axes>",
      "image/png": "[encoded data removed]"
     },
     "metadata": {
      "needs_background": "light"
     },
     "output_type": "display_data"
    }
   ],
   "source": [
    "sums = np.sum(pos_data.group, axis=0)\n",
    "plt.hist(sums, bins=100)\n",
    "plt.plot()"
   ],
   "metadata": {
    "collapsed": false,
    "pycharm": {
     "name": "#%%\n"
    }
   }
  },
  {
   "cell_type": "markdown",
   "source": [
    "## Method: Node2Vec\n",
    "\n",
    "Node2Vec is an unsupervised transductive machine learning algorithm to learn feature representation for nodes in a network. To achieve this, first a dataset of node sequences is collected by a biased random walker. Viewing the node id's encountered in random walks as the words in a sentence, Word2Vec is then used to produce feature embeddings encoding a node's context. Armed with these embeddings, a classifier can use them to predict node properties. Alternatively, edge properties might be predicted if node embeddings can first be converted to edge embeddings.\n",
    "\n",
    "### Biased Random Walker\n",
    "\n",
    "#### Motivation\n",
    "\n",
    "From the previous, it follows that the Word2Vec algorithm needs a representation of the context of node. Two simple neighborhood sampling strategies are DFS (depth-first) and BFS (breadth-first).\n",
    "\n",
    "A DFS approach can explore large parts of the network, providing a macro view of the neighborhood, inferring communities based on _homophily_ when nodes are highly interconnected and belong to similar communities. Not a lot of nodes tend to repeat in walks DFS, so variance of a characterization is high.\n",
    "\n",
    "A BFS approach restricts exploration to the immediate neighborhood of a node, providing a microscopic view with low characterization variance as lots of nodes tend to repeat in our sampling. Such an approach can identify _structural equivalence_ based on network roles (bridges, hubs, ...).\n",
    "\n",
    "The Node2Vec paper identifies limitations in both these approaches and points out their rigidity. Node2Vec proposes to create a flexible approach that can tune the DFS and BFS bias of the random walker so that this bias can be customized towards a specific case.\n",
    "\n",
    "#### Implementation\n",
    "\n",
    "The random walk will be a $2^{nd}$ order random walk, parameterized with $p$ and $q$. For a random walk that just traversed edge $(t, v)$ and currently residing at node $v$, we need to calculate a transition probability $\\pi_{vx}$ on edges $(v, x)$ leading from $v$. The unnormalized transition probability is set as $\\pi_{v x}=\\alpha_{p q}(t, x) \\cdot w_{v x}$, with the search Bias $\\alpha$ taking values as follows:\n",
    "\n",
    "$$\n",
    "\\alpha_{p q}(t, x)=\\left\\{\\begin{array}{ll}\n",
    "\\frac{1}{p} & \\text { if } d_{t x}=0 \\\\\n",
    "1 & \\text { if } d_{t x}=1 \\\\\n",
    "\\frac{1}{q} & \\text { if } d_{t x}=2\n",
    "\\end{array}\\right.\n",
    "$$\n",
    "\n",
    "After walking from $t$ to $v$ to $x$, $d_{tx}$ represents the shortest path between $t$ and $x$. Intuitively, this means that $p$ and $q$ encode both the speed with which the walker explores and how easily it leaves the neighborhood. Tweaking these parameters allows the algorithm to interpolate between DFS and BFS approaches.\n",
    "\n",
    "This report will research which values for $p$ and $q$ are best fit for the datasets given and interpret those results.\n",
    "\n",
    "Two more random walk parameters can be set. First, we can set the number of random walks to generate, $n$. Second, we can set the length of a random walk, $length$. All configuration can be done using the `WalkerConfig` class.\n",
    "\n",
    "### Word2Vec\n",
    "\n",
    "The Word2Vec algorithm is not a singular algorithm, but has 1 of 2 implementations, skip-gram or CBOW. The project implementation uses the skip-gram version where a context of a word is predicted given the target word. Optimizing for this objective leaves us with a feature vector for each word.\n",
    "\n",
    "[Word2VecConfig](./lib/Word2VecConfig.py) provides configuration options for the Word2Vec algorithm. Default values can be found in the class file. Of note are the following parameters:\n",
    "\n",
    "- **size**: what is the size of our feature vector (default: 128)\n",
    "- **window**: what is the size of the surrounding context window for each target word to predict? The larger, the bigger the context we try to predict. (default: 5)\n",
    "- **min_count**: the algorithm ignores all words with a frequency lower than this (default: 0, probably should keep it here to get a feature vector for all nodes)\n",
    "- **epochs**: how many epochs to train the algorithm for (default: 3, set high enough until no further improvement is possible)\n",
    "\n",
    "### Logistic Regression Classifier\n",
    "\n",
    "A simple logistic regression classifier is used to evaluate the efficiency of the generated embeddings for our classification task. A fast and simple algorithm is preferred as the classification itself is our main focus. How the parameters of the random walker influence the results is what needs to be determined.\n",
    "\n",
    "80% of the data is used for training, while 20% is kept aside for testing. The training data is then used to train the classifier while cross-validating using 10 folds. An F1 (micro) score is used for scoring individual binary classifiers due to the unbalanced nature of our labels for which using accuracy would be less than ideal.\n",
    "\n",
    "At the end of training the classifiers, accuracy and F1 scores are collected and reviewed for different configuration settings.\n",
    "\n",
    "### Example run\n",
    "\n",
    "Runs the embedding and downstream classifier on the default configuration."
   ],
   "metadata": {
    "collapsed": false,
    "pycharm": {
     "name": "#%% md\n"
    }
   }
  },
  {
   "cell_type": "code",
   "execution_count": 17,
   "outputs": [],
   "source": [
    "from lib.WalkerConfig import WalkerConfig\n",
    "from lib.Word2VecConfig import Word2VecConfig\n",
    "from lib.ProjectGraph import ProjectGraph\n",
    "from lib.DataSet import DataSet\n",
    "from lib.LogisticRegressionClassifier import LogisticRegressionClassifier"
   ],
   "metadata": {
    "collapsed": false,
    "pycharm": {
     "name": "#%%\n"
    }
   }
  },
  {
   "cell_type": "code",
   "execution_count": 18,
   "outputs": [
    {
     "ename": "TypeError",
     "evalue": "descriptor 'get_edgelist' for 'igraph._igraph.GraphBase' objects doesn't apply to a 'DataSet' object",
     "output_type": "error",
     "traceback": [
      "\u001B[0;31m---------------------------------------------------------------------------\u001B[0m",
      "\u001B[0;31mTypeError\u001B[0m                                 Traceback (most recent call last)",
      "Input \u001B[0;32mIn [18]\u001B[0m, in \u001B[0;36m<cell line: 20>\u001B[0;34m()\u001B[0m\n\u001B[1;32m     17\u001B[0m     \u001B[38;5;28mprint\u001B[39m(\u001B[38;5;124m'\u001B[39m\u001B[38;5;124mF1 (micro) score = \u001B[39m\u001B[38;5;124m'\u001B[39m, results\u001B[38;5;241m.\u001B[39mf1_micro)\n\u001B[1;32m     18\u001B[0m     \u001B[38;5;28mprint\u001B[39m(\u001B[38;5;124m'\u001B[39m\u001B[38;5;124mF1 (macro) score = \u001B[39m\u001B[38;5;124m'\u001B[39m, results\u001B[38;5;241m.\u001B[39mf1_macro)\n\u001B[0;32m---> 20\u001B[0m \u001B[43mexample\u001B[49m\u001B[43m(\u001B[49m\u001B[43mhosap_data\u001B[49m\u001B[43m)\u001B[49m\n",
      "Input \u001B[0;32mIn [18]\u001B[0m, in \u001B[0;36mexample\u001B[0;34m(ds)\u001B[0m\n\u001B[1;32m      1\u001B[0m \u001B[38;5;28;01mdef\u001B[39;00m \u001B[38;5;21mexample\u001B[39m(ds):\n\u001B[1;32m      2\u001B[0m \n\u001B[1;32m      3\u001B[0m     \u001B[38;5;66;03m# initialize the graph with data\u001B[39;00m\n\u001B[0;32m----> 4\u001B[0m     project \u001B[38;5;241m=\u001B[39m \u001B[43mProjectGraph\u001B[49m\u001B[43m(\u001B[49m\u001B[43mds\u001B[49m\u001B[43m)\u001B[49m\n\u001B[1;32m      6\u001B[0m     \u001B[38;5;66;03m# create configs\u001B[39;00m\n\u001B[1;32m      7\u001B[0m     wc \u001B[38;5;241m=\u001B[39m WalkerConfig()\n",
      "File \u001B[0;32m~/Projects/MAI/node2vec-report/lib/ProjectGraph.py:97\u001B[0m, in \u001B[0;36m__init__\u001B[0;34m(self, ds)\u001B[0m\n\u001B[1;32m     96\u001B[0m \u001B[38;5;28;01mdef\u001B[39;00m \u001B[38;5;21m__init__\u001B[39m(\u001B[38;5;28mself\u001B[39m, ds: DataSet):\n\u001B[0;32m---> 97\u001B[0m     \u001B[38;5;28mself\u001B[39m\u001B[38;5;241m.\u001B[39m__dataset \u001B[38;5;241m=\u001B[39m ds\n\u001B[1;32m     98\u001B[0m     \u001B[38;5;28mself\u001B[39m\u001B[38;5;241m.\u001B[39m__igraph \u001B[38;5;241m=\u001B[39m init_igraph(ds, only_largest_component\u001B[38;5;241m=\u001B[39m\u001B[38;5;28;01mTrue\u001B[39;00m)\n\u001B[1;32m     99\u001B[0m     \u001B[38;5;28mself\u001B[39m\u001B[38;5;241m.\u001B[39m__stellarGraph \u001B[38;5;241m=\u001B[39m init_stellar_graph(\u001B[38;5;28mself\u001B[39m\u001B[38;5;241m.\u001B[39m__igraph)\n",
      "File \u001B[0;32m~/Projects/MAI/node2vec-report/lib/ProjectGraph.py:76\u001B[0m, in \u001B[0;36minit_stellar_graph\u001B[0;34m(graph)\u001B[0m\n\u001B[1;32m     73\u001B[0m \u001B[38;5;28;01mdef\u001B[39;00m \u001B[38;5;21minit_stellar_graph\u001B[39m(graph: Graph) \u001B[38;5;241m-\u001B[39m\u001B[38;5;241m>\u001B[39m StellarGraph:\n\u001B[1;32m     74\u001B[0m \n\u001B[1;32m     75\u001B[0m     \u001B[38;5;66;03m# prepare graph data format\u001B[39;00m\n\u001B[0;32m---> 76\u001B[0m     edge_list \u001B[38;5;241m=\u001B[39m np\u001B[38;5;241m.\u001B[39marray(\u001B[43mig\u001B[49m\u001B[38;5;241;43m.\u001B[39;49m\u001B[43mGraph\u001B[49m\u001B[38;5;241;43m.\u001B[39;49m\u001B[43mget_edgelist\u001B[49m\u001B[43m(\u001B[49m\u001B[43mgraph\u001B[49m\u001B[43m)\u001B[49m)\n\u001B[1;32m     77\u001B[0m     sources \u001B[38;5;241m=\u001B[39m edge_list[:, \u001B[38;5;241m0\u001B[39m]\n\u001B[1;32m     78\u001B[0m     targets \u001B[38;5;241m=\u001B[39m edge_list[:, \u001B[38;5;241m1\u001B[39m]\n",
      "\u001B[0;31mTypeError\u001B[0m: descriptor 'get_edgelist' for 'igraph._igraph.GraphBase' objects doesn't apply to a 'DataSet' object"
     ]
    }
   ],
   "source": [
    "def example(ds):\n",
    "\n",
    "    # initialize the graph with data\n",
    "    project = ProjectGraph(ds)\n",
    "\n",
    "    # create configs\n",
    "    wc = WalkerConfig()\n",
    "    w2vc = Word2VecConfig()\n",
    "\n",
    "    # generate embeddings\n",
    "    embedding_model = project.create_embeddings(wc, w2vc)\n",
    "\n",
    "    # train and test a classifier on the embeddings\n",
    "    c = LogisticRegressionClassifier(embedding_model)\n",
    "    results = c.train_and_predict()\n",
    "    print('Accuracy = ', results.accuracy)\n",
    "    print('F1 (micro) score = ', results.f1_micro)\n",
    "    print('F1 (macro) score = ', results.f1_macro)\n",
    "\n",
    "example(hosap_data)"
   ],
   "metadata": {
    "collapsed": false,
    "pycharm": {
     "name": "#%%\n"
    }
   }
  },
  {
   "cell_type": "markdown",
   "source": [
    "## Analysis"
   ],
   "metadata": {
    "collapsed": false,
    "pycharm": {
     "name": "#%% md\n"
    }
   }
  },
  {
   "cell_type": "code",
   "execution_count": 7,
   "outputs": [],
   "source": [
    "p_values = np.append(\n",
    "    np.arange(0.1, 1.0, 0.1),\n",
    "    np.arange(1, 11, 1)\n",
    ")\n",
    "q_values = p_values.copy()"
   ],
   "metadata": {
    "collapsed": false,
    "pycharm": {
     "name": "#%%\n"
    }
   }
  },
  {
   "cell_type": "code",
   "execution_count": 8,
   "outputs": [
    {
     "data": {
      "text/plain": "array([0, 1])"
     },
     "execution_count": 8,
     "metadata": {},
     "output_type": "execute_result"
    }
   ],
   "source": [
    "# Testing values (uncomment for live run)\n",
    "# p_values = np.array([1,2])\n",
    "# q_values = np.array([1.0])\n",
    "np.arange(0,2)"
   ],
   "metadata": {
    "collapsed": false,
    "pycharm": {
     "name": "#%%\n"
    }
   }
  },
  {
   "cell_type": "code",
   "execution_count": 17,
   "outputs": [
    {
     "name": "stdout",
     "output_type": "stream",
     "text": [
      "        p     q  accuracy  f1 (micro)  f1 (macro)\n",
      "0     0.1   0.1  0.964159    0.964159    0.020036\n",
      "1     0.2   0.1  0.962309    0.962309    0.020016\n",
      "2     0.3   0.1  0.962145    0.962145    0.020014\n",
      "3     0.4   0.1  0.963832    0.963832    0.020032\n",
      "4     0.5   0.1  0.959696    0.959696    0.019988\n",
      "..    ...   ...       ...         ...         ...\n",
      "356   6.0  10.0  0.963125    0.963125    0.020025\n",
      "357   7.0  10.0  0.962629    0.962629    0.020020\n",
      "358   8.0  10.0  0.962146    0.962146    0.020431\n",
      "359   9.0  10.0  0.959398    0.959398    0.019985\n",
      "360  10.0  10.0  0.962667    0.962667    0.020020\n",
      "\n",
      "[361 rows x 5 columns]\n"
     ]
    }
   ],
   "source": [
    "from lib.ClassifierResult import ClassifierResult\n",
    "from IPython.core.display_functions import clear_output\n",
    "\n",
    "repeats = 1\n",
    "\n",
    "# initialize the graph with data\n",
    "project = ProjectGraph(hosap_data)\n",
    "\n",
    "r_count = len(q_values) * len(p_values)\n",
    "results = np.zeros([r_count, 5])\n",
    "r = 0\n",
    "for q in q_values:\n",
    "    for p in p_values:\n",
    "\n",
    "        aggregated_result = ClassifierResult()\n",
    "        for i in np.arange(1, repeats+1):\n",
    "\n",
    "            # create configs\n",
    "            wc = WalkerConfig()\n",
    "            wc.p = p\n",
    "            wc.q = q\n",
    "            wc.n = 3\n",
    "            wc.length = 10\n",
    "\n",
    "            w2vc = Word2VecConfig()\n",
    "            w2vc.size = 16\n",
    "            w2vc.window = 5\n",
    "            w2vc.min_count = 20\n",
    "            w2vc.workers = 6\n",
    "\n",
    "            # generate embeddings\n",
    "            embedding_model = project.create_embeddings(wc, w2vc)\n",
    "\n",
    "            # train and test a classifier on the embeddings\n",
    "            c = LogisticRegressionClassifier(embedding_model)\n",
    "            c_result = c.train_and_predict(repeats=1)\n",
    "\n",
    "            aggregated_result = aggregated_result.append(c_result)\n",
    "\n",
    "        # collect aggregated result into a result table\n",
    "        results[r, :] = [\n",
    "            p, q, aggregated_result.accuracy(), aggregated_result.f1_micro(), aggregated_result.f1_macro()\n",
    "        ]\n",
    "\n",
    "        # print output\n",
    "        clear_output(wait=True)\n",
    "        results_df = pd.DataFrame(results[:r+1,:], columns=['p', 'q', 'accuracy', 'f1 (micro)', 'f1 (macro)'])\n",
    "        results_df.to_pickle('./pq_variations.pkl')\n",
    "        results_df.to_excel('./pq_variations.xlsx')\n",
    "        print(results_df)\n",
    "\n",
    "        # increment index for results\n",
    "        r += 1"
   ],
   "metadata": {
    "collapsed": false,
    "pycharm": {
     "name": "#%%\n"
    }
   }
  },
  {
   "cell_type": "code",
   "execution_count": 10,
   "outputs": [
    {
     "data": {
      "text/plain": "0      0.1\n1      0.2\n2      0.3\n3      0.4\n4      0.5\n5      0.6\n6      0.7\n7      0.8\n8      0.9\n9      1.0\n10     2.0\n11     3.0\n12     4.0\n13     5.0\n14     6.0\n15     7.0\n16     8.0\n17     9.0\n18    10.0\nName: p, dtype: float64"
     },
     "execution_count": 10,
     "metadata": {},
     "output_type": "execute_result"
    }
   ],
   "source": [
    "df_selection = results_df.loc[results_df['q'] == 1.0]\n",
    "# x = df_selection.loc[df_selection['p']]\n",
    "\n",
    "df_selection['p']"
   ],
   "metadata": {
    "collapsed": false,
    "pycharm": {
     "name": "#%%\n"
    }
   }
  },
  {
   "cell_type": "code",
   "execution_count": 12,
   "outputs": [
    {
     "data": {
      "text/plain": "<Figure size 144x144 with 1 Axes>",
      "image/png": "[encoded data removed]"
     },
     "metadata": {
      "needs_background": "light"
     },
     "output_type": "display_data"
    }
   ],
   "source": [
    "plt.style.use('_mpl-gallery')\n",
    "\n",
    "# influence of p?\n",
    "\n",
    "df_selection = results_df.loc[results_df['q'] == 1.0]\n",
    "x = df_selection['p']\n",
    "y = df_selection['f1 (micro)']\n",
    "\n",
    "# make data\n",
    "# x = np.linspace(0, 10, 100)\n",
    "# y = 4 + 2 * np.sin(2 * x)\n",
    "\n",
    "# plot\n",
    "fig, ax = plt.subplots()\n",
    "# ax = plt.plot()\n",
    "\n",
    "ax.plot(x, y, linewidth=1.0)\n",
    "\n",
    "# ax.set(xlim=(0, 2), xticks=np.arange(0.1, 2.0, 0.1),\n",
    "#        ylim=(0, 1), yticks=np.arange(0.1, 1.0, 0.1))\n",
    "\n",
    "plt.show()"
   ],
   "metadata": {
    "collapsed": false,
    "pycharm": {
     "name": "#%%\n"
    }
   }
  },
  {
   "cell_type": "code",
   "execution_count": null,
   "outputs": [],
   "source": [],
   "metadata": {
    "collapsed": false,
    "pycharm": {
     "name": "#%%\n"
    }
   }
  }
 ],
 "metadata": {
  "kernelspec": {
   "display_name": "Python 3",
   "language": "python",
   "name": "python3"
  },
  "language_info": {
   "codemirror_mode": {
    "name": "ipython",
    "version": 2
   },
   "file_extension": ".py",
   "mimetype": "text/x-python",
   "name": "python",
   "nbconvert_exporter": "python",
   "pygments_lexer": "ipython2",
   "version": "2.7.6"
  }
 },
 "nbformat": 4,
 "nbformat_minor": 0
}