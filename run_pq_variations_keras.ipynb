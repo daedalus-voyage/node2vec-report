{
 "cells": [
  {
   "cell_type": "markdown",
   "source": [
    "# Node classification with keras\n",
    "\n",
    "alternatives:\n",
    "- http://vlado.fmf.uni-lj.si/pub/networks/data/bio/Yeast/Yeast.htm\n",
    "- https://paperswithcode.com/dataset/yeast\n",
    "- https://paperswithcode.com/dataset/wiki-cs\n",
    "- https://paperswithcode.com/dataset/pubmed\n",
    "- https://paperswithcode.com/datasets?mod=graphs&task=node-classification\n",
    "- http://www-personal.umich.edu/~mejn/netdata/\n",
    "- https://studentwork.prattsi.org/infovis/visualization/les-miserables-character-network-visualization/\n",
    "\n",
    "Uses the tutorial at StellarGraph as a start: https://stellargraph.readthedocs.io/en/stable/demos/node-classification/keras-node2vec-node-classification.html"
   ],
   "metadata": {
    "collapsed": false,
    "pycharm": {
     "name": "#%% md\n"
    }
   }
  },
  {
   "cell_type": "code",
   "execution_count": 1,
   "outputs": [
    {
     "name": "stderr",
     "output_type": "stream",
     "text": [
      "2022-05-22 08:09:18.345439: I tensorflow/core/platform/cpu_feature_guard.cc:151] This TensorFlow binary is optimized with oneAPI Deep Neural Network Library (oneDNN) to use the following CPU instructions in performance-critical operations:  AVX2 FMA\n",
      "To enable them in other operations, rebuild TensorFlow with the appropriate compiler flags.\n"
     ]
    }
   ],
   "source": [
    "import numpy as np\n",
    "from IPython.core.display_functions import display\n",
    "from igraph import Graph\n",
    "from ipywidgets import HTML\n",
    "from matplotlib import pyplot as plt\n",
    "from sklearn.manifold import TSNE\n",
    "from stellargraph.data import BiasedRandomWalk, UnsupervisedSampler\n",
    "from stellargraph.datasets import datasets\n",
    "from stellargraph.layer import Node2Vec, link_classification\n",
    "from stellargraph.mapper import Node2VecLinkGenerator, Node2VecNodeGenerator\n",
    "from tensorflow import keras\n",
    "\n",
    "from lib.DataSet import DataSet\n",
    "from lib.ProjectGraph import init_stellar_graph, retain_largest_category, init_igraph, largest_component"
   ],
   "metadata": {
    "collapsed": false,
    "pycharm": {
     "name": "#%%\n"
    }
   }
  },
  {
   "cell_type": "markdown",
   "source": [
    "## Datasets"
   ],
   "metadata": {
    "collapsed": false,
    "pycharm": {
     "name": "#%% md\n"
    }
   }
  },
  {
   "cell_type": "markdown",
   "source": [
    "### Alternative datasets"
   ],
   "metadata": {
    "collapsed": false,
    "pycharm": {
     "name": "#%% md\n"
    }
   }
  },
  {
   "cell_type": "markdown",
   "source": [
    "#### Yeast\n",
    "\n",
    "See:\n",
    "- https://paperswithcode.com/dataset/yeast\n",
    "- http://vlado.fmf.uni-lj.si/pub/networks/data/bio/Yeast/Yeast.htm\n",
    "\n",
    "Files:\n",
    "- yeastS.net    -> X interacts with Y relation, short names.\n",
    "- yeastL.net    -> X interacts with Y relation, long labels.\n",
    "- yeast.clu     -> PIN class partition of vertices, see encoding.\n",
    "- yeast.paj     -> Pajek project file with complete dataset."
   ],
   "metadata": {
    "collapsed": false,
    "pycharm": {
     "name": "#%% md\n"
    }
   }
  },
  {
   "cell_type": "code",
   "execution_count": 2,
   "outputs": [
    {
     "data": {
      "text/plain": "'IGRAPH UN-- 2361 7182 -- \\n+ attr: id (v), name (v)'"
     },
     "execution_count": 2,
     "metadata": {},
     "output_type": "execute_result"
    }
   ],
   "source": [
    "yeast: Graph = Graph.Read('./data/yeast/YeastS.net')\n",
    "yeast.summary()"
   ],
   "metadata": {
    "collapsed": false,
    "pycharm": {
     "name": "#%%\n"
    }
   }
  },
  {
   "cell_type": "code",
   "execution_count": 3,
   "outputs": [
    {
     "ename": "InternalError",
     "evalue": "Error at src/io/pajek.c:168: Parse error in Pajek file, line 1 (syntax error, unexpected NEWLINE, expecting VERTICESLINE). -- Parse error",
     "output_type": "error",
     "traceback": [
      "\u001B[0;31m---------------------------------------------------------------------------\u001B[0m",
      "\u001B[0;31mInternalError\u001B[0m                             Traceback (most recent call last)",
      "Input \u001B[0;32mIn [3]\u001B[0m, in \u001B[0;36m<cell line: 1>\u001B[0;34m()\u001B[0m\n\u001B[0;32m----> 1\u001B[0m yeast: Graph \u001B[38;5;241m=\u001B[39m \u001B[43mGraph\u001B[49m\u001B[38;5;241;43m.\u001B[39;49m\u001B[43mRead\u001B[49m\u001B[43m(\u001B[49m\u001B[38;5;124;43m'\u001B[39;49m\u001B[38;5;124;43m./data/yeast/Yeast.paj\u001B[39;49m\u001B[38;5;124;43m'\u001B[39;49m\u001B[43m,\u001B[49m\u001B[43m \u001B[49m\u001B[38;5;28;43mformat\u001B[39;49m\u001B[38;5;241;43m=\u001B[39;49m\u001B[38;5;124;43m'\u001B[39;49m\u001B[38;5;124;43mpajek\u001B[39;49m\u001B[38;5;124;43m'\u001B[39;49m\u001B[43m)\u001B[49m\n\u001B[1;32m      2\u001B[0m yeast\u001B[38;5;241m.\u001B[39msummary()\n",
      "File \u001B[0;32m~/Library/Caches/pypoetry/virtualenvs/graph-classification-experiments-RDFHJCIl-py3.8/lib/python3.8/site-packages/igraph/__init__.py:2929\u001B[0m, in \u001B[0;36mGraph.Read\u001B[0;34m(cls, f, format, *args, **kwds)\u001B[0m\n\u001B[1;32m   2927\u001B[0m     \u001B[38;5;28;01mraise\u001B[39;00m \u001B[38;5;167;01mIOError\u001B[39;00m(\u001B[38;5;124m\"\u001B[39m\u001B[38;5;124mno reader method for file format: \u001B[39m\u001B[38;5;132;01m%s\u001B[39;00m\u001B[38;5;124m\"\u001B[39m \u001B[38;5;241m%\u001B[39m \u001B[38;5;28mstr\u001B[39m(\u001B[38;5;28mformat\u001B[39m))\n\u001B[1;32m   2928\u001B[0m reader \u001B[38;5;241m=\u001B[39m \u001B[38;5;28mgetattr\u001B[39m(\u001B[38;5;28mcls\u001B[39m, reader)\n\u001B[0;32m-> 2929\u001B[0m \u001B[38;5;28;01mreturn\u001B[39;00m \u001B[43mreader\u001B[49m\u001B[43m(\u001B[49m\u001B[43mf\u001B[49m\u001B[43m,\u001B[49m\u001B[43m \u001B[49m\u001B[38;5;241;43m*\u001B[39;49m\u001B[43margs\u001B[49m\u001B[43m,\u001B[49m\u001B[43m \u001B[49m\u001B[38;5;241;43m*\u001B[39;49m\u001B[38;5;241;43m*\u001B[39;49m\u001B[43mkwds\u001B[49m\u001B[43m)\u001B[49m\n",
      "\u001B[0;31mInternalError\u001B[0m: Error at src/io/pajek.c:168: Parse error in Pajek file, line 1 (syntax error, unexpected NEWLINE, expecting VERTICESLINE). -- Parse error"
     ]
    }
   ],
   "source": [
    "yeast: Graph = Graph.Read('./data/yeast/Yeast.paj', format='pajek')\n",
    "yeast.summary()"
   ],
   "metadata": {
    "collapsed": false,
    "pycharm": {
     "name": "#%%\n"
    }
   }
  },
  {
   "cell_type": "markdown",
   "source": [
    "#### Les Misérables"
   ],
   "metadata": {
    "collapsed": false,
    "pycharm": {
     "name": "#%% md\n"
    }
   }
  },
  {
   "cell_type": "code",
   "execution_count": null,
   "outputs": [],
   "source": [
    "g: Graph = Graph.Read('./data/lesmis/lesmis.gml')\n",
    "g.summary()"
   ],
   "metadata": {
    "collapsed": false,
    "pycharm": {
     "name": "#%%\n"
    }
   }
  },
  {
   "cell_type": "code",
   "execution_count": null,
   "outputs": [],
   "source": [
    "# len(g.vs.get_attribute_values(\"id\"))\n",
    "len(g.vs.get_attribute_values(\"label\"))"
   ],
   "metadata": {
    "collapsed": false,
    "pycharm": {
     "name": "#%%\n"
    }
   }
  },
  {
   "cell_type": "markdown",
   "source": [
    "### Regular datasets"
   ],
   "metadata": {
    "collapsed": false,
    "pycharm": {
     "name": "#%% md\n"
    }
   }
  },
  {
   "cell_type": "code",
   "execution_count": null,
   "outputs": [],
   "source": [
    "dataset = datasets.Cora()\n",
    "display(HTML(dataset.description))\n",
    "graph, subjects = dataset.load(largest_connected_component_only=True)"
   ],
   "metadata": {
    "collapsed": false,
    "pycharm": {
     "name": "#%%\n"
    }
   }
  },
  {
   "cell_type": "code",
   "execution_count": null,
   "outputs": [],
   "source": [
    "print(graph.info())"
   ],
   "metadata": {
    "collapsed": false,
    "pycharm": {
     "name": "#%%\n"
    }
   }
  },
  {
   "cell_type": "code",
   "execution_count": 4,
   "outputs": [],
   "source": [
    "hosap_data = DataSet('./data/Homo_sapiens.mat')"
   ],
   "metadata": {
    "collapsed": false,
    "pycharm": {
     "name": "#%%\n"
    }
   }
  },
  {
   "cell_type": "code",
   "execution_count": null,
   "outputs": [],
   "source": [
    "np.max(hosap_data.network[3,:])"
   ],
   "metadata": {
    "collapsed": false,
    "pycharm": {
     "name": "#%%\n"
    }
   }
  },
  {
   "cell_type": "code",
   "execution_count": null,
   "outputs": [],
   "source": [
    "\n",
    "# g: Graph = Graph.Read_Adjacency('././data/Homo_sapiens.mat')\n",
    "g: Graph = Graph.Adjacency(hosap_data.network)\n",
    "g.summary()"
   ],
   "metadata": {
    "collapsed": false,
    "pycharm": {
     "name": "#%%\n"
    }
   }
  },
  {
   "cell_type": "code",
   "execution_count": null,
   "outputs": [],
   "source": [
    "\n",
    "\n",
    "# experiments with igraph components\n",
    "hosap_data = DataSet('./data/Homo_sapiens.mat')\n",
    "hosap_graph = init_igraph(hosap_data)\n",
    "hosap_graph.summary()"
   ],
   "metadata": {
    "collapsed": false,
    "pycharm": {
     "name": "#%%\n"
    }
   }
  },
  {
   "cell_type": "code",
   "execution_count": null,
   "outputs": [],
   "source": [
    "\n",
    "hosap_graph = largest_component(hosap_graph)\n",
    "hosap_graph.summary()"
   ],
   "metadata": {
    "collapsed": false,
    "pycharm": {
     "name": "#%%\n"
    }
   }
  },
  {
   "cell_type": "markdown",
   "source": [
    "Choose which dataset to use:"
   ],
   "metadata": {
    "collapsed": false,
    "pycharm": {
     "name": "#%% md\n"
    }
   }
  },
  {
   "cell_type": "code",
   "execution_count": null,
   "outputs": [],
   "source": [
    "data = DataSet('./data/Homo_sapiens.mat')\n",
    "# data = DataSet('./data/POS.mat')"
   ],
   "metadata": {
    "collapsed": false,
    "pycharm": {
     "name": "#%%\n"
    }
   }
  },
  {
   "cell_type": "markdown",
   "source": [
    "Initialize iGraph:"
   ],
   "metadata": {
    "collapsed": false,
    "pycharm": {
     "name": "#%% md\n"
    }
   }
  },
  {
   "cell_type": "code",
   "execution_count": null,
   "outputs": [],
   "source": [
    "graph = init_igraph(data, only_largest_component=True)\n",
    "graph.summary()"
   ],
   "metadata": {
    "collapsed": false,
    "pycharm": {
     "name": "#%%\n"
    }
   }
  },
  {
   "cell_type": "markdown",
   "source": [
    "Only use the category data of the largest category (given that categories are not unique):"
   ],
   "metadata": {
    "collapsed": false,
    "pycharm": {
     "name": "#%% md\n"
    }
   }
  },
  {
   "cell_type": "code",
   "execution_count": null,
   "outputs": [],
   "source": [
    "# graph.get_vertex_dataframe()['category'].to_numpy()"
   ],
   "metadata": {
    "collapsed": false,
    "pycharm": {
     "name": "#%%\n"
    }
   }
  },
  {
   "cell_type": "code",
   "execution_count": 4,
   "outputs": [
    {
     "ename": "NameError",
     "evalue": "name 'graph' is not defined",
     "output_type": "error",
     "traceback": [
      "\u001B[0;31m---------------------------------------------------------------------------\u001B[0m",
      "\u001B[0;31mNameError\u001B[0m                                 Traceback (most recent call last)",
      "Input \u001B[0;32mIn [4]\u001B[0m, in \u001B[0;36m<cell line: 1>\u001B[0;34m()\u001B[0m\n\u001B[0;32m----> 1\u001B[0m labels, graph \u001B[38;5;241m=\u001B[39m retain_largest_category(\u001B[43mgraph\u001B[49m)\n\u001B[1;32m      2\u001B[0m graph\u001B[38;5;241m.\u001B[39msummary()\n",
      "\u001B[0;31mNameError\u001B[0m: name 'graph' is not defined"
     ]
    }
   ],
   "source": [
    "labels, graph = retain_largest_category(graph)\n",
    "graph.summary()"
   ],
   "metadata": {
    "collapsed": false,
    "pycharm": {
     "name": "#%%\n"
    }
   }
  },
  {
   "cell_type": "code",
   "execution_count": 5,
   "outputs": [
    {
     "ename": "NameError",
     "evalue": "name 'labels' is not defined",
     "output_type": "error",
     "traceback": [
      "\u001B[0;31m---------------------------------------------------------------------------\u001B[0m",
      "\u001B[0;31mNameError\u001B[0m                                 Traceback (most recent call last)",
      "Input \u001B[0;32mIn [5]\u001B[0m, in \u001B[0;36m<cell line: 1>\u001B[0;34m()\u001B[0m\n\u001B[0;32m----> 1\u001B[0m \u001B[43mlabels\u001B[49m\n",
      "\u001B[0;31mNameError\u001B[0m: name 'labels' is not defined"
     ]
    }
   ],
   "source": [
    "labels"
   ],
   "metadata": {
    "collapsed": false,
    "pycharm": {
     "name": "#%%\n"
    }
   }
  },
  {
   "cell_type": "markdown",
   "source": [
    "Convert to StellarGraph:"
   ],
   "metadata": {
    "collapsed": false,
    "pycharm": {
     "name": "#%% md\n"
    }
   }
  },
  {
   "cell_type": "code",
   "execution_count": 6,
   "outputs": [
    {
     "ename": "NameError",
     "evalue": "name 'graph' is not defined",
     "output_type": "error",
     "traceback": [
      "\u001B[0;31m---------------------------------------------------------------------------\u001B[0m",
      "\u001B[0;31mNameError\u001B[0m                                 Traceback (most recent call last)",
      "Input \u001B[0;32mIn [6]\u001B[0m, in \u001B[0;36m<cell line: 10>\u001B[0;34m()\u001B[0m\n\u001B[1;32m      7\u001B[0m p_values \u001B[38;5;241m=\u001B[39m np\u001B[38;5;241m.\u001B[39marray([\u001B[38;5;241m0.5\u001B[39m, \u001B[38;5;241m2\u001B[39m])\n\u001B[1;32m      8\u001B[0m q_values \u001B[38;5;241m=\u001B[39m np\u001B[38;5;241m.\u001B[39marray([\u001B[38;5;241m0.5\u001B[39m, \u001B[38;5;241m2\u001B[39m])\n\u001B[0;32m---> 10\u001B[0m graph \u001B[38;5;241m=\u001B[39m init_stellar_graph(\u001B[43mgraph\u001B[49m)\n\u001B[1;32m     11\u001B[0m \u001B[38;5;28mprint\u001B[39m(graph\u001B[38;5;241m.\u001B[39minfo())\n",
      "\u001B[0;31mNameError\u001B[0m: name 'graph' is not defined"
     ]
    }
   ],
   "source": [
    "# which p/q values to explore\n",
    "# p_values = np.append(\n",
    "#     np.arange(0.1, 1.0, 0.1),\n",
    "#     np.arange(1, 11, 1)\n",
    "# )\n",
    "# q_values = p_values.copy()\n",
    "p_values = np.array([0.5, 2])\n",
    "q_values = np.array([0.5, 2])\n",
    "\n",
    "graph = init_stellar_graph(graph)\n",
    "print(graph.info())"
   ],
   "metadata": {
    "collapsed": false,
    "pycharm": {
     "name": "#%%\n"
    }
   }
  },
  {
   "cell_type": "markdown",
   "source": [
    "Limit the category labels to the largest category only since the category labels are not exclusive:"
   ],
   "metadata": {
    "collapsed": false,
    "pycharm": {
     "name": "#%% md\n"
    }
   }
  },
  {
   "cell_type": "code",
   "execution_count": 7,
   "outputs": [],
   "source": [
    "# from lib.ProjectGraph import retain_largest_category\n",
    "#\n",
    "# labels, graph = retain_largest_category(graph)"
   ],
   "metadata": {
    "collapsed": false,
    "pycharm": {
     "name": "#%%\n"
    }
   }
  },
  {
   "cell_type": "markdown",
   "source": [
    "Configure a random walker to generate sentences for node2vec"
   ],
   "metadata": {
    "collapsed": false,
    "pycharm": {
     "name": "#%% md\n"
    }
   }
  },
  {
   "cell_type": "code",
   "execution_count": 8,
   "outputs": [
    {
     "ename": "NameError",
     "evalue": "name 'graph' is not defined",
     "output_type": "error",
     "traceback": [
      "\u001B[0;31m---------------------------------------------------------------------------\u001B[0m",
      "\u001B[0;31mNameError\u001B[0m                                 Traceback (most recent call last)",
      "Input \u001B[0;32mIn [8]\u001B[0m, in \u001B[0;36m<cell line: 8>\u001B[0;34m()\u001B[0m\n\u001B[1;32m      1\u001B[0m \u001B[38;5;66;03m# walker = BiasedRandomWalk(\u001B[39;00m\n\u001B[1;32m      2\u001B[0m \u001B[38;5;66;03m#     graph,\u001B[39;00m\n\u001B[1;32m      3\u001B[0m \u001B[38;5;66;03m#     n=100,\u001B[39;00m\n\u001B[0;32m   (...)\u001B[0m\n\u001B[1;32m      6\u001B[0m \u001B[38;5;66;03m#     q=2.0,  # defines probability, 1/q, for moving to a node away from the source node\u001B[39;00m\n\u001B[1;32m      7\u001B[0m \u001B[38;5;66;03m# )\u001B[39;00m\n\u001B[1;32m      8\u001B[0m walker \u001B[38;5;241m=\u001B[39m BiasedRandomWalk(\n\u001B[0;32m----> 9\u001B[0m     \u001B[43mgraph\u001B[49m,\n\u001B[1;32m     10\u001B[0m     n\u001B[38;5;241m=\u001B[39m\u001B[38;5;241m50\u001B[39m,\n\u001B[1;32m     11\u001B[0m     length\u001B[38;5;241m=\u001B[39m\u001B[38;5;241m5\u001B[39m,\n\u001B[1;32m     12\u001B[0m     p\u001B[38;5;241m=\u001B[39m\u001B[38;5;241m2.0\u001B[39m,  \u001B[38;5;66;03m# defines probability, 1/p, of returning to source node\u001B[39;00m\n\u001B[1;32m     13\u001B[0m     q\u001B[38;5;241m=\u001B[39m\u001B[38;5;241m1.0\u001B[39m,  \u001B[38;5;66;03m# defines probability, 1/q, for moving to a node away from the source node\u001B[39;00m\n\u001B[1;32m     14\u001B[0m )\n",
      "\u001B[0;31mNameError\u001B[0m: name 'graph' is not defined"
     ]
    }
   ],
   "source": [
    "# walker = BiasedRandomWalk(\n",
    "#     graph,\n",
    "#     n=100,\n",
    "#     length=5,\n",
    "#     p=0.5,  # defines probability, 1/p, of returning to source node\n",
    "#     q=2.0,  # defines probability, 1/q, for moving to a node away from the source node\n",
    "# )\n",
    "walker = BiasedRandomWalk(\n",
    "    graph,\n",
    "    n=50,\n",
    "    length=5,\n",
    "    p=2.0,  # defines probability, 1/p, of returning to source node\n",
    "    q=1.0,  # defines probability, 1/q, for moving to a node away from the source node\n",
    ")"
   ],
   "metadata": {
    "collapsed": false,
    "pycharm": {
     "name": "#%%\n"
    }
   }
  },
  {
   "cell_type": "markdown",
   "source": [
    "Create a sampler with the walker (this generates positive and negative samples for our algorithm):"
   ],
   "metadata": {
    "collapsed": false,
    "pycharm": {
     "name": "#%% md\n"
    }
   }
  },
  {
   "cell_type": "code",
   "execution_count": 9,
   "outputs": [
    {
     "ename": "NameError",
     "evalue": "name 'graph' is not defined",
     "output_type": "error",
     "traceback": [
      "\u001B[0;31m---------------------------------------------------------------------------\u001B[0m",
      "\u001B[0;31mNameError\u001B[0m                                 Traceback (most recent call last)",
      "Input \u001B[0;32mIn [9]\u001B[0m, in \u001B[0;36m<cell line: 1>\u001B[0;34m()\u001B[0m\n\u001B[0;32m----> 1\u001B[0m unsupervised_samples \u001B[38;5;241m=\u001B[39m UnsupervisedSampler(\u001B[43mgraph\u001B[49m, nodes\u001B[38;5;241m=\u001B[39m\u001B[38;5;28mlist\u001B[39m(graph\u001B[38;5;241m.\u001B[39mnodes()), walker\u001B[38;5;241m=\u001B[39mwalker)\n",
      "\u001B[0;31mNameError\u001B[0m: name 'graph' is not defined"
     ]
    }
   ],
   "source": [
    "unsupervised_samples = UnsupervisedSampler(graph, nodes=list(graph.nodes()), walker=walker)"
   ],
   "metadata": {
    "collapsed": false,
    "pycharm": {
     "name": "#%%\n"
    }
   }
  },
  {
   "cell_type": "markdown",
   "source": [],
   "metadata": {
    "collapsed": false,
    "pycharm": {
     "name": "#%% md\n"
    }
   }
  },
  {
   "cell_type": "code",
   "execution_count": 10,
   "outputs": [
    {
     "ename": "NameError",
     "evalue": "name 'graph' is not defined",
     "output_type": "error",
     "traceback": [
      "\u001B[0;31m---------------------------------------------------------------------------\u001B[0m",
      "\u001B[0;31mNameError\u001B[0m                                 Traceback (most recent call last)",
      "Input \u001B[0;32mIn [10]\u001B[0m, in \u001B[0;36m<cell line: 4>\u001B[0;34m()\u001B[0m\n\u001B[1;32m      1\u001B[0m batch_size \u001B[38;5;241m=\u001B[39m \u001B[38;5;241m50\u001B[39m\n\u001B[1;32m      2\u001B[0m epochs \u001B[38;5;241m=\u001B[39m \u001B[38;5;241m2\u001B[39m\n\u001B[0;32m----> 4\u001B[0m generator \u001B[38;5;241m=\u001B[39m Node2VecLinkGenerator(\u001B[43mgraph\u001B[49m, batch_size)\n",
      "\u001B[0;31mNameError\u001B[0m: name 'graph' is not defined"
     ]
    }
   ],
   "source": [
    "batch_size = 50\n",
    "epochs = 2\n",
    "\n",
    "generator = Node2VecLinkGenerator(graph, batch_size)"
   ],
   "metadata": {
    "collapsed": false,
    "pycharm": {
     "name": "#%%\n"
    }
   }
  },
  {
   "cell_type": "code",
   "execution_count": 11,
   "outputs": [
    {
     "ename": "NameError",
     "evalue": "name 'generator' is not defined",
     "output_type": "error",
     "traceback": [
      "\u001B[0;31m---------------------------------------------------------------------------\u001B[0m",
      "\u001B[0;31mNameError\u001B[0m                                 Traceback (most recent call last)",
      "Input \u001B[0;32mIn [11]\u001B[0m, in \u001B[0;36m<cell line: 3>\u001B[0;34m()\u001B[0m\n\u001B[1;32m      1\u001B[0m \u001B[38;5;66;03m# emb_size = 128\u001B[39;00m\n\u001B[1;32m      2\u001B[0m emb_size \u001B[38;5;241m=\u001B[39m \u001B[38;5;241m128\u001B[39m\n\u001B[0;32m----> 3\u001B[0m node2vec \u001B[38;5;241m=\u001B[39m Node2Vec(emb_size, generator\u001B[38;5;241m=\u001B[39m\u001B[43mgenerator\u001B[49m)\n",
      "\u001B[0;31mNameError\u001B[0m: name 'generator' is not defined"
     ]
    }
   ],
   "source": [
    "# emb_size = 128\n",
    "emb_size = 128\n",
    "node2vec = Node2Vec(emb_size, generator=generator)"
   ],
   "metadata": {
    "collapsed": false,
    "pycharm": {
     "name": "#%%\n"
    }
   }
  },
  {
   "cell_type": "code",
   "execution_count": 12,
   "outputs": [
    {
     "ename": "NameError",
     "evalue": "name 'node2vec' is not defined",
     "output_type": "error",
     "traceback": [
      "\u001B[0;31m---------------------------------------------------------------------------\u001B[0m",
      "\u001B[0;31mNameError\u001B[0m                                 Traceback (most recent call last)",
      "Input \u001B[0;32mIn [12]\u001B[0m, in \u001B[0;36m<cell line: 1>\u001B[0;34m()\u001B[0m\n\u001B[0;32m----> 1\u001B[0m x_inp, x_out \u001B[38;5;241m=\u001B[39m \u001B[43mnode2vec\u001B[49m\u001B[38;5;241m.\u001B[39min_out_tensors()\n",
      "\u001B[0;31mNameError\u001B[0m: name 'node2vec' is not defined"
     ]
    }
   ],
   "source": [
    "x_inp, x_out = node2vec.in_out_tensors()"
   ],
   "metadata": {
    "collapsed": false,
    "pycharm": {
     "name": "#%%\n"
    }
   }
  },
  {
   "cell_type": "code",
   "execution_count": 13,
   "outputs": [
    {
     "name": "stdout",
     "output_type": "stream",
     "text": [
      "link_classification: using 'dot' method to combine node embeddings into edge embeddings\n"
     ]
    },
    {
     "ename": "NameError",
     "evalue": "name 'x_out' is not defined",
     "output_type": "error",
     "traceback": [
      "\u001B[0;31m---------------------------------------------------------------------------\u001B[0m",
      "\u001B[0;31mNameError\u001B[0m                                 Traceback (most recent call last)",
      "Input \u001B[0;32mIn [13]\u001B[0m, in \u001B[0;36m<cell line: 1>\u001B[0;34m()\u001B[0m\n\u001B[1;32m      1\u001B[0m prediction \u001B[38;5;241m=\u001B[39m link_classification(\n\u001B[1;32m      2\u001B[0m     output_dim\u001B[38;5;241m=\u001B[39m\u001B[38;5;241m1\u001B[39m, output_act\u001B[38;5;241m=\u001B[39m\u001B[38;5;124m\"\u001B[39m\u001B[38;5;124msigmoid\u001B[39m\u001B[38;5;124m\"\u001B[39m, edge_embedding_method\u001B[38;5;241m=\u001B[39m\u001B[38;5;124m\"\u001B[39m\u001B[38;5;124mdot\u001B[39m\u001B[38;5;124m\"\u001B[39m\n\u001B[0;32m----> 3\u001B[0m )(\u001B[43mx_out\u001B[49m)\n",
      "\u001B[0;31mNameError\u001B[0m: name 'x_out' is not defined"
     ]
    }
   ],
   "source": [
    "prediction = link_classification(\n",
    "    output_dim=1, output_act=\"sigmoid\", edge_embedding_method=\"dot\"\n",
    ")(x_out)"
   ],
   "metadata": {
    "collapsed": false,
    "pycharm": {
     "name": "#%%\n"
    }
   }
  },
  {
   "cell_type": "code",
   "execution_count": 14,
   "outputs": [
    {
     "ename": "NameError",
     "evalue": "name 'x_inp' is not defined",
     "output_type": "error",
     "traceback": [
      "\u001B[0;31m---------------------------------------------------------------------------\u001B[0m",
      "\u001B[0;31mNameError\u001B[0m                                 Traceback (most recent call last)",
      "Input \u001B[0;32mIn [14]\u001B[0m, in \u001B[0;36m<cell line: 1>\u001B[0;34m()\u001B[0m\n\u001B[0;32m----> 1\u001B[0m model \u001B[38;5;241m=\u001B[39m keras\u001B[38;5;241m.\u001B[39mModel(inputs\u001B[38;5;241m=\u001B[39m\u001B[43mx_inp\u001B[49m, outputs\u001B[38;5;241m=\u001B[39mprediction)\n\u001B[1;32m      3\u001B[0m model\u001B[38;5;241m.\u001B[39mcompile(\n\u001B[1;32m      4\u001B[0m     optimizer\u001B[38;5;241m=\u001B[39mkeras\u001B[38;5;241m.\u001B[39moptimizers\u001B[38;5;241m.\u001B[39mAdam(learning_rate\u001B[38;5;241m=\u001B[39m\u001B[38;5;241m1e-3\u001B[39m),\n\u001B[1;32m      5\u001B[0m     loss\u001B[38;5;241m=\u001B[39mkeras\u001B[38;5;241m.\u001B[39mlosses\u001B[38;5;241m.\u001B[39mbinary_crossentropy,\n\u001B[1;32m      6\u001B[0m     metrics\u001B[38;5;241m=\u001B[39m[keras\u001B[38;5;241m.\u001B[39mmetrics\u001B[38;5;241m.\u001B[39mbinary_accuracy],\n\u001B[1;32m      7\u001B[0m )\n",
      "\u001B[0;31mNameError\u001B[0m: name 'x_inp' is not defined"
     ]
    }
   ],
   "source": [
    "model = keras.Model(inputs=x_inp, outputs=prediction)\n",
    "\n",
    "model.compile(\n",
    "    optimizer=keras.optimizers.Adam(learning_rate=1e-3),\n",
    "    loss=keras.losses.binary_crossentropy,\n",
    "    metrics=[keras.metrics.binary_accuracy],\n",
    ")"
   ],
   "metadata": {
    "collapsed": false,
    "pycharm": {
     "name": "#%%\n"
    }
   }
  },
  {
   "cell_type": "code",
   "execution_count": 15,
   "outputs": [
    {
     "ename": "NameError",
     "evalue": "name 'model' is not defined",
     "output_type": "error",
     "traceback": [
      "\u001B[0;31m---------------------------------------------------------------------------\u001B[0m",
      "\u001B[0;31mNameError\u001B[0m                                 Traceback (most recent call last)",
      "Input \u001B[0;32mIn [15]\u001B[0m, in \u001B[0;36m<cell line: 1>\u001B[0;34m()\u001B[0m\n\u001B[0;32m----> 1\u001B[0m history \u001B[38;5;241m=\u001B[39m \u001B[43mmodel\u001B[49m\u001B[38;5;241m.\u001B[39mfit(\n\u001B[1;32m      2\u001B[0m     generator\u001B[38;5;241m.\u001B[39mflow(unsupervised_samples),\n\u001B[1;32m      3\u001B[0m     epochs\u001B[38;5;241m=\u001B[39mepochs,\n\u001B[1;32m      4\u001B[0m     verbose\u001B[38;5;241m=\u001B[39m\u001B[38;5;241m1\u001B[39m,\n\u001B[1;32m      5\u001B[0m     use_multiprocessing\u001B[38;5;241m=\u001B[39m\u001B[38;5;28;01mFalse\u001B[39;00m,\n\u001B[1;32m      6\u001B[0m     workers\u001B[38;5;241m=\u001B[39m\u001B[38;5;241m4\u001B[39m,\n\u001B[1;32m      7\u001B[0m     shuffle\u001B[38;5;241m=\u001B[39m\u001B[38;5;28;01mTrue\u001B[39;00m,\n\u001B[1;32m      8\u001B[0m )\n",
      "\u001B[0;31mNameError\u001B[0m: name 'model' is not defined"
     ]
    }
   ],
   "source": [
    "history = model.fit(\n",
    "    generator.flow(unsupervised_samples),\n",
    "    epochs=epochs,\n",
    "    verbose=1,\n",
    "    use_multiprocessing=False,\n",
    "    workers=4,\n",
    "    shuffle=True,\n",
    ")"
   ],
   "metadata": {
    "collapsed": false,
    "pycharm": {
     "name": "#%%\n"
    }
   }
  },
  {
   "cell_type": "markdown",
   "source": [
    "# Node prediction model\n",
    "\n",
    "Builds the node prediction model using the node2vec embeddings"
   ],
   "metadata": {
    "collapsed": false,
    "pycharm": {
     "name": "#%% md\n"
    }
   }
  },
  {
   "cell_type": "code",
   "execution_count": 60,
   "outputs": [],
   "source": [
    "x_inp_src = x_inp[0]\n",
    "x_out_src = x_out[0]\n",
    "embedding_model = keras.Model(inputs=x_inp_src, outputs=x_out_src)"
   ],
   "metadata": {
    "collapsed": false,
    "pycharm": {
     "name": "#%%\n"
    }
   }
  },
  {
   "cell_type": "markdown",
   "source": [
    "Access the node embeddings"
   ],
   "metadata": {
    "collapsed": false,
    "pycharm": {
     "name": "#%% md\n"
    }
   }
  },
  {
   "cell_type": "code",
   "execution_count": 61,
   "outputs": [],
   "source": [
    "# subjects = graph.retain_largest_category()\n",
    "node_ids = graph.nodes()\n",
    "# node_count = largest_y.shape[0]\n",
    "# node_ids = np.arange(0,node_count)\n",
    "# subjects = largest_y"
   ],
   "metadata": {
    "collapsed": false,
    "pycharm": {
     "name": "#%%\n"
    }
   }
  },
  {
   "cell_type": "markdown",
   "source": [
    "Should return count of node ids"
   ],
   "metadata": {
    "collapsed": false,
    "pycharm": {
     "name": "#%% md\n"
    }
   }
  },
  {
   "cell_type": "code",
   "execution_count": 62,
   "outputs": [
    {
     "data": {
      "text/plain": "Int64Index([   0,    1,    2,    3,    4,    5,    6,    7,    8,    9,\n            ...\n            3842, 3843, 3844, 3845, 3846, 3847, 3848, 3849, 3850, 3851],\n           dtype='int64', length=3852)"
     },
     "execution_count": 62,
     "metadata": {},
     "output_type": "execute_result"
    }
   ],
   "source": [
    "node_ids"
   ],
   "metadata": {
    "collapsed": false,
    "pycharm": {
     "name": "#%%\n"
    }
   }
  },
  {
   "cell_type": "markdown",
   "source": [
    "Should return an nx1 array with category labels:"
   ],
   "metadata": {
    "collapsed": false,
    "pycharm": {
     "name": "#%% md\n"
    }
   }
  },
  {
   "cell_type": "code",
   "execution_count": 63,
   "outputs": [],
   "source": [
    "# subjects"
   ],
   "metadata": {
    "collapsed": false,
    "pycharm": {
     "name": "#%%\n"
    }
   }
  },
  {
   "cell_type": "code",
   "execution_count": 64,
   "outputs": [],
   "source": [
    "# p = -1\n",
    "# for n in graph.nodes():\n",
    "#     if n > (p + 1):\n",
    "#         print(\"Skipping node {}\".format(p+1))\n",
    "#\n",
    "#     p = n\n"
   ],
   "metadata": {
    "collapsed": false,
    "pycharm": {
     "name": "#%%\n"
    }
   }
  },
  {
   "cell_type": "code",
   "execution_count": 65,
   "outputs": [],
   "source": [
    "# subjects"
   ],
   "metadata": {
    "collapsed": false,
    "pycharm": {
     "name": "#%%\n"
    }
   }
  },
  {
   "cell_type": "code",
   "execution_count": 66,
   "outputs": [],
   "source": [
    "# hosap_data.group[:,1]\n",
    "# largest_y_index[0]"
   ],
   "metadata": {
    "collapsed": false,
    "pycharm": {
     "name": "#%%\n"
    }
   }
  },
  {
   "cell_type": "code",
   "execution_count": 67,
   "outputs": [],
   "source": [
    "# original\n",
    "# node_gen = Node2VecNodeGenerator(graph, batch_size).flow(subjects.index)\n",
    "# node_embeddings = embedding_model.predict(node_gen, workers=4, verbose=1)"
   ],
   "metadata": {
    "collapsed": false,
    "pycharm": {
     "name": "#%%\n"
    }
   }
  },
  {
   "cell_type": "code",
   "execution_count": 67,
   "outputs": [],
   "source": [],
   "metadata": {
    "collapsed": false,
    "pycharm": {
     "name": "#%%\n"
    }
   }
  },
  {
   "cell_type": "code",
   "execution_count": 68,
   "outputs": [
    {
     "name": "stdout",
     "output_type": "stream",
     "text": [
      "78/78 [==============================] - 0s 2ms/step\n"
     ]
    }
   ],
   "source": [
    "batch_size = 50\n",
    "node_gen = Node2VecNodeGenerator(graph, batch_size).flow(node_ids)\n",
    "node_embeddings = embedding_model.predict(node_gen, workers=4, verbose=1)"
   ],
   "metadata": {
    "collapsed": false,
    "pycharm": {
     "name": "#%%\n"
    }
   }
  },
  {
   "cell_type": "markdown",
   "source": [
    "## Visualization"
   ],
   "metadata": {
    "collapsed": false,
    "pycharm": {
     "name": "#%% md\n"
    }
   }
  },
  {
   "cell_type": "code",
   "execution_count": 69,
   "outputs": [
    {
     "name": "stderr",
     "output_type": "stream",
     "text": [
      "/Users/jamescauwelier/Library/Caches/pypoetry/virtualenvs/graph-classification-experiments-RDFHJCIl-py3.8/lib/python3.8/site-packages/sklearn/manifold/_t_sne.py:790: FutureWarning: The default learning rate in TSNE will change from 200.0 to 'auto' in 1.2.\n",
      "  warnings.warn(\n",
      "/Users/jamescauwelier/Library/Caches/pypoetry/virtualenvs/graph-classification-experiments-RDFHJCIl-py3.8/lib/python3.8/site-packages/sklearn/manifold/_t_sne.py:982: FutureWarning: The PCA initialization in TSNE will change to have the standard deviation of PC1 equal to 1e-4 in 1.2. This will ensure better convergence.\n",
      "  warnings.warn(\n"
     ]
    }
   ],
   "source": [
    "transform = TSNE  # PCA\n",
    "\n",
    "trans = transform(init='pca', n_components=2)\n",
    "node_embeddings_2d = trans.fit_transform(node_embeddings)"
   ],
   "metadata": {
    "collapsed": false,
    "pycharm": {
     "name": "#%%\n"
    }
   }
  },
  {
   "cell_type": "code",
   "execution_count": 70,
   "outputs": [
    {
     "data": {
      "text/plain": "<Figure size 504x504 with 1 Axes>",
      "image/png": "[encoded data removed]"
     },
     "metadata": {
      "needs_background": "light"
     },
     "output_type": "display_data"
    }
   ],
   "source": [
    "# draw the embedding points, coloring them by the target label (paper subject)\n",
    "alpha = 0.4\n",
    "label_map = {l: i for i, l in enumerate(np.unique(labels))}\n",
    "node_colours = [label_map[target] for target in labels]\n",
    "\n",
    "plt.figure(figsize=(7, 7))\n",
    "plt.axes().set(aspect=\"equal\")\n",
    "plt.scatter(\n",
    "    node_embeddings_2d[:, 0],\n",
    "    node_embeddings_2d[:, 1],\n",
    "    c=node_colours,\n",
    "    cmap=\"jet\",\n",
    "    alpha=alpha,\n",
    ")\n",
    "plt.title(\"{} visualization of node embeddings\".format(transform.__name__))\n",
    "plt.show()"
   ],
   "metadata": {
    "collapsed": false,
    "pycharm": {
     "name": "#%%\n"
    }
   }
  },
  {
   "cell_type": "markdown",
   "source": [
    "## Predicting node classes"
   ],
   "metadata": {
    "collapsed": false,
    "pycharm": {
     "name": "#%% md\n"
    }
   }
  },
  {
   "cell_type": "code",
   "execution_count": 71,
   "outputs": [],
   "source": [
    "# X will hold the 128-dimensional input features\n",
    "X = node_embeddings\n",
    "# y holds the corresponding target values\n",
    "y = np.array(labels)"
   ],
   "metadata": {
    "collapsed": false,
    "pycharm": {
     "name": "#%%\n"
    }
   }
  },
  {
   "cell_type": "code",
   "execution_count": 72,
   "outputs": [
    {
     "name": "stdout",
     "output_type": "stream",
     "text": [
      "Array shapes:\n",
      " X_train = (1926, 128)\n",
      " y_train = (1926,)\n",
      " X_test = (1926, 128)\n",
      " y_test = (1926,)\n"
     ]
    }
   ],
   "source": [
    "from sklearn.model_selection import train_test_split\n",
    "\n",
    "X_train, X_test, y_train, y_test = train_test_split(X, y, train_size=0.5, test_size=None)\n",
    "print(\n",
    "    \"Array shapes:\\n X_train = {}\\n y_train = {}\\n X_test = {}\\n y_test = {}\".format(\n",
    "        X_train.shape, y_train.shape, X_test.shape, y_test.shape\n",
    "    )\n",
    ")"
   ],
   "metadata": {
    "collapsed": false,
    "pycharm": {
     "name": "#%%\n"
    }
   }
  },
  {
   "cell_type": "markdown",
   "source": [
    "### Classifier training"
   ],
   "metadata": {
    "collapsed": false,
    "pycharm": {
     "name": "#%% md\n"
    }
   }
  },
  {
   "cell_type": "code",
   "execution_count": 73,
   "outputs": [
    {
     "data": {
      "text/plain": "LogisticRegressionCV(cv=10, max_iter=1000, multi_class='ovr',\n                     scoring='f1_macro', verbose=False)"
     },
     "execution_count": 73,
     "metadata": {},
     "output_type": "execute_result"
    }
   ],
   "source": [
    "from sklearn.linear_model import LogisticRegressionCV\n",
    "\n",
    "clf = LogisticRegressionCV(\n",
    "    Cs=10, cv=10, scoring=\"f1_macro\", verbose=False, multi_class=\"ovr\", max_iter=1000\n",
    ")\n",
    "clf.fit(X_train, y_train)"
   ],
   "metadata": {
    "collapsed": false,
    "pycharm": {
     "name": "#%%\n"
    }
   }
  },
  {
   "cell_type": "markdown",
   "source": [
    "Predict the hold-out test group"
   ],
   "metadata": {
    "collapsed": false,
    "pycharm": {
     "name": "#%% md\n"
    }
   }
  },
  {
   "cell_type": "code",
   "execution_count": 74,
   "outputs": [],
   "source": [
    "y_pred = clf.predict(X_test)"
   ],
   "metadata": {
    "collapsed": false,
    "pycharm": {
     "name": "#%%\n"
    }
   }
  },
  {
   "cell_type": "markdown",
   "source": [
    "Calculate the accuracy:"
   ],
   "metadata": {
    "collapsed": false,
    "pycharm": {
     "name": "#%% md\n"
    }
   }
  },
  {
   "cell_type": "code",
   "execution_count": 75,
   "outputs": [
    {
     "data": {
      "text/plain": "0.935098650051921"
     },
     "execution_count": 75,
     "metadata": {},
     "output_type": "execute_result"
    }
   ],
   "source": [
    "from sklearn.metrics import accuracy_score, f1_score\n",
    "\n",
    "accuracy_score(y_test, y_pred)"
   ],
   "metadata": {
    "collapsed": false,
    "pycharm": {
     "name": "#%%\n"
    }
   }
  },
  {
   "cell_type": "code",
   "execution_count": 76,
   "outputs": [
    {
     "data": {
      "text/plain": "0.935098650051921"
     },
     "execution_count": 76,
     "metadata": {},
     "output_type": "execute_result"
    }
   ],
   "source": [
    "f1_score(y_test, y_pred, average='micro')"
   ],
   "metadata": {
    "collapsed": false,
    "pycharm": {
     "name": "#%%\n"
    }
   }
  },
  {
   "cell_type": "code",
   "execution_count": 77,
   "outputs": [
    {
     "data": {
      "text/plain": "0.5636587058923745"
     },
     "execution_count": 77,
     "metadata": {},
     "output_type": "execute_result"
    }
   ],
   "source": [
    "f1_score(y_test, y_pred, average='macro')"
   ],
   "metadata": {
    "collapsed": false,
    "pycharm": {
     "name": "#%%\n"
    }
   }
  },
  {
   "cell_type": "code",
   "execution_count": null,
   "outputs": [],
   "source": [],
   "metadata": {
    "collapsed": false,
    "pycharm": {
     "name": "#%%\n"
    }
   }
  },
  {
   "cell_type": "markdown",
   "source": [
    "## Putting it all together"
   ],
   "metadata": {
    "collapsed": false,
    "pycharm": {
     "name": "#%% md\n"
    }
   }
  },
  {
   "cell_type": "code",
   "execution_count": 16,
   "outputs": [
    {
     "name": "stdout",
     "output_type": "stream",
     "text": [
      "StellarGraph: Undirected multigraph\n",
      " Nodes: 3852, Edges: 38705\n",
      "\n",
      " Node types:\n",
      "  default: [3852]\n",
      "    Features: none\n",
      "    Edge types: default-default->default\n",
      "\n",
      " Edge types:\n",
      "    default-default->default: [38705]\n",
      "        Weights: all 1 (default)\n",
      "        Features: none\n"
     ]
    }
   ],
   "source": [
    "hosap_data = DataSet('./data/Homo_sapiens.mat')\n",
    "\n",
    "# initializes igraph from data file\n",
    "hosap_graph = init_igraph(hosap_data, only_largest_component=True)\n",
    "hosap_graph.summary()\n",
    "\n",
    "# retain only the largest category labels\n",
    "labels, igraph = retain_largest_category(hosap_graph)\n",
    "igraph.summary()\n",
    "\n",
    "graph = init_stellar_graph(igraph)\n",
    "print(graph.info())"
   ],
   "metadata": {
    "collapsed": false,
    "pycharm": {
     "name": "#%%\n"
    }
   }
  },
  {
   "cell_type": "code",
   "execution_count": 17,
   "outputs": [],
   "source": [
    "# which p/q values to explore\n",
    "# p_values = np.append(\n",
    "#     np.arange(0.1, 1.0, 0.1),\n",
    "#     np.arange(1, 11, 1)\n",
    "# )\n",
    "# q_values = p_values.copy()\n",
    "p_values = np.array([0.5, 2])\n",
    "q_values = np.array([0.5, 2])\n",
    "\n"
   ],
   "metadata": {
    "collapsed": false,
    "pycharm": {
     "name": "#%%\n"
    }
   }
  },
  {
   "cell_type": "code",
   "execution_count": 18,
   "outputs": [
    {
     "name": "stdout",
     "output_type": "stream",
     "text": [
      "StellarGraph: Undirected multigraph\n",
      " Nodes: 3852, Edges: 38705\n",
      "\n",
      " Node types:\n",
      "  default: [3852]\n",
      "    Features: none\n",
      "    Edge types: default-default->default\n",
      "\n",
      " Edge types:\n",
      "    default-default->default: [38705]\n",
      "        Weights: all 1 (default)\n",
      "        Features: none\n"
     ]
    }
   ],
   "source": [
    "import pandas as pd\n",
    "import igraph as ig\n",
    "from stellargraph import StellarGraph\n",
    "\n",
    "\n",
    "def init_stellar_graph2(graph: Graph) -> StellarGraph:\n",
    "\n",
    "    # prepare graph data format\n",
    "    edge_list = np.array(ig.Graph.get_edgelist(graph))\n",
    "    sources = edge_list[:, 0]\n",
    "    targets = edge_list[:, 1]\n",
    "\n",
    "    # compose into expected format\n",
    "    edges = pd.DataFrame(\n",
    "        {\"source\": sources, \"target\": targets}\n",
    "    )\n",
    "\n",
    "    # get nodes with category feature\n",
    "    nodes = graph.vs.get_attribute_values('category')\n",
    "\n",
    "    # init\n",
    "    stellar = StellarGraph(nodes=nodes, edges=edges)\n",
    "\n",
    "    return stellar\n",
    "\n",
    "# g2: StellarGraph = init_stellar_graph2(igraph)\n",
    "# g2.info()\n",
    "\n",
    "nx = igraph.to_networkx()\n",
    "stellarnx = StellarGraph.from_networkx(nx)\n",
    "print(stellarnx.info())"
   ],
   "metadata": {
    "collapsed": false,
    "pycharm": {
     "name": "#%%\n"
    }
   }
  },
  {
   "cell_type": "markdown",
   "source": [
    "Configure a random walker:"
   ],
   "metadata": {
    "collapsed": false,
    "pycharm": {
     "name": "#%% md\n"
    }
   }
  },
  {
   "cell_type": "code",
   "execution_count": 136,
   "outputs": [],
   "source": [
    "class Word2VecResult:\n",
    "\n",
    "    embeddings = None\n",
    "\n",
    "    def __init__(self, embeddings):\n",
    "        self.embeddings = embeddings\n",
    "\n",
    "def word2vec_run(graph: StellarGraph, **kwargs) -> Word2VecResult:\n",
    "\n",
    "    walker_config = {\n",
    "\n",
    "        # Defines default random walker config (used during testing)\n",
    "        'n': 5,            # n         --> total number of random walks per node\n",
    "        'length': 25,        # length    --> Maximum length of each random walk\n",
    "        'p': 1.0,           # p         --> Defines probability, 1/p, of returning to source node\n",
    "        'q': 1.0,           # q         --> Defines probability, 1/q, for moving to a node away from the source node\n",
    "\n",
    "        # overrides previous configurations\n",
    "        **kwargs\n",
    "    }\n",
    "\n",
    "    # print(\"Q should be {}, but is {}\".format(kwargs['q'], walker_config['q']))\n",
    "\n",
    "    node2vec_config = {\n",
    "\n",
    "        # Node2Vec link generator config\n",
    "        'batch_size': 50,\n",
    "        'epochs': 2,\n",
    "        'embedding_size': 128,\n",
    "\n",
    "        'learning_rate': 1e-3,\n",
    "        'epsilon': 1e-7,\n",
    "        'momentum': 0.01,\n",
    "\n",
    "        # overrides previous configurations\n",
    "        **kwargs\n",
    "    }\n",
    "\n",
    "    # configure a random walker\n",
    "    walker = BiasedRandomWalk(\n",
    "        graph,\n",
    "        n=walker_config['n'],\n",
    "        length=walker_config['length'],\n",
    "        p=walker_config['p'],\n",
    "        q=walker_config['q'],\n",
    "    )\n",
    "\n",
    "    # sampler\n",
    "    unsupervised_samples = UnsupervisedSampler(graph, nodes=list(graph.nodes()), walker=walker)\n",
    "\n",
    "    #\n",
    "    generator = Node2VecLinkGenerator(graph, node2vec_config['batch_size'])\n",
    "\n",
    "    node2vec = Node2Vec(node2vec_config['embedding_size'], generator=generator)\n",
    "\n",
    "    x_inp, x_out = node2vec.in_out_tensors()\n",
    "\n",
    "    prediction = link_classification(\n",
    "        output_dim=1, output_act=\"sigmoid\", edge_embedding_method=\"dot\"\n",
    "    )(x_out)\n",
    "\n",
    "    sgd_optimizer = keras.optimizers.SGD(\n",
    "        learning_rate=node2vec_config['learning_rate'], momentum=node2vec_config['momentum'], nesterov=False, name=\"SGD\"\n",
    "    )\n",
    "    adam_optimizer = keras.optimizers.Adam(learning_rate=node2vec_config['learning_rate'], epsilon=node2vec_config['epsilon'])\n",
    "\n",
    "    model = keras.Model(inputs=x_inp, outputs=prediction)\n",
    "    model.compile(\n",
    "        optimizer=adam_optimizer,\n",
    "        loss=keras.losses.binary_crossentropy,\n",
    "        metrics=[keras.metrics.binary_accuracy],\n",
    "    )\n",
    "\n",
    "    history = model.fit(\n",
    "        generator.flow(unsupervised_samples),\n",
    "        epochs=node2vec_config['epochs'],\n",
    "        verbose=1,\n",
    "        use_multiprocessing=False,\n",
    "        workers=4,\n",
    "        shuffle=True,\n",
    "    )\n",
    "\n",
    "    #\n",
    "    # NODE PREDICTION MODEL\n",
    "    #\n",
    "\n",
    "    x_inp_src = x_inp[0]\n",
    "    x_out_src = x_out[0]\n",
    "    embedding_model = keras.Model(inputs=x_inp_src, outputs=x_out_src)\n",
    "\n",
    "    node_ids = graph.nodes()\n",
    "\n",
    "    node_gen = Node2VecNodeGenerator(graph, node2vec_config['batch_size']).flow(node_ids)\n",
    "    node_embeddings = embedding_model.predict(node_gen, workers=4, verbose=1)\n",
    "\n",
    "    return Word2VecResult(\n",
    "        embeddings=node_embeddings\n",
    "    )\n",
    "\n"
   ],
   "metadata": {
    "collapsed": false,
    "pycharm": {
     "name": "#%%\n"
    }
   }
  },
  {
   "cell_type": "code",
   "execution_count": 20,
   "outputs": [
    {
     "name": "stdout",
     "output_type": "stream",
     "text": [
      "link_classification: using 'dot' method to combine node embeddings into edge embeddings\n",
      "Epoch 1/2\n",
      "30816/30816 [==============================] - 115s 4ms/step - loss: 0.6753 - binary_accuracy: 0.5743\n"
     ]
    },
    {
     "ename": "KeyboardInterrupt",
     "evalue": "",
     "output_type": "error",
     "traceback": [
      "\u001B[0;31m---------------------------------------------------------------------------\u001B[0m",
      "\u001B[0;31mKeyboardInterrupt\u001B[0m                         Traceback (most recent call last)",
      "Input \u001B[0;32mIn [20]\u001B[0m, in \u001B[0;36m<cell line: 1>\u001B[0;34m()\u001B[0m\n\u001B[0;32m----> 1\u001B[0m results \u001B[38;5;241m=\u001B[39m \u001B[43mword2vec_run\u001B[49m\u001B[43m(\u001B[49m\u001B[43mstellarnx\u001B[49m\u001B[43m)\u001B[49m\n\u001B[1;32m      2\u001B[0m results\u001B[38;5;241m.\u001B[39membeddings\n",
      "Input \u001B[0;32mIn [19]\u001B[0m, in \u001B[0;36mword2vec_run\u001B[0;34m(graph, **kwargs)\u001B[0m\n\u001B[1;32m     58\u001B[0m model \u001B[38;5;241m=\u001B[39m keras\u001B[38;5;241m.\u001B[39mModel(inputs\u001B[38;5;241m=\u001B[39mx_inp, outputs\u001B[38;5;241m=\u001B[39mprediction)\n\u001B[1;32m     59\u001B[0m model\u001B[38;5;241m.\u001B[39mcompile(\n\u001B[1;32m     60\u001B[0m     optimizer\u001B[38;5;241m=\u001B[39mkeras\u001B[38;5;241m.\u001B[39moptimizers\u001B[38;5;241m.\u001B[39mAdam(learning_rate\u001B[38;5;241m=\u001B[39m\u001B[38;5;241m1e-3\u001B[39m),\n\u001B[1;32m     61\u001B[0m     loss\u001B[38;5;241m=\u001B[39mkeras\u001B[38;5;241m.\u001B[39mlosses\u001B[38;5;241m.\u001B[39mbinary_crossentropy,\n\u001B[1;32m     62\u001B[0m     metrics\u001B[38;5;241m=\u001B[39m[keras\u001B[38;5;241m.\u001B[39mmetrics\u001B[38;5;241m.\u001B[39mbinary_accuracy],\n\u001B[1;32m     63\u001B[0m )\n\u001B[0;32m---> 65\u001B[0m history \u001B[38;5;241m=\u001B[39m \u001B[43mmodel\u001B[49m\u001B[38;5;241;43m.\u001B[39;49m\u001B[43mfit\u001B[49m\u001B[43m(\u001B[49m\n\u001B[1;32m     66\u001B[0m \u001B[43m    \u001B[49m\u001B[43mgenerator\u001B[49m\u001B[38;5;241;43m.\u001B[39;49m\u001B[43mflow\u001B[49m\u001B[43m(\u001B[49m\u001B[43munsupervised_samples\u001B[49m\u001B[43m)\u001B[49m\u001B[43m,\u001B[49m\n\u001B[1;32m     67\u001B[0m \u001B[43m    \u001B[49m\u001B[43mepochs\u001B[49m\u001B[38;5;241;43m=\u001B[39;49m\u001B[43mnode2vec_config\u001B[49m\u001B[43m[\u001B[49m\u001B[38;5;124;43m'\u001B[39;49m\u001B[38;5;124;43mepochs\u001B[39;49m\u001B[38;5;124;43m'\u001B[39;49m\u001B[43m]\u001B[49m\u001B[43m,\u001B[49m\n\u001B[1;32m     68\u001B[0m \u001B[43m    \u001B[49m\u001B[43mverbose\u001B[49m\u001B[38;5;241;43m=\u001B[39;49m\u001B[38;5;241;43m1\u001B[39;49m\u001B[43m,\u001B[49m\n\u001B[1;32m     69\u001B[0m \u001B[43m    \u001B[49m\u001B[43muse_multiprocessing\u001B[49m\u001B[38;5;241;43m=\u001B[39;49m\u001B[38;5;28;43;01mFalse\u001B[39;49;00m\u001B[43m,\u001B[49m\n\u001B[1;32m     70\u001B[0m \u001B[43m    \u001B[49m\u001B[43mworkers\u001B[49m\u001B[38;5;241;43m=\u001B[39;49m\u001B[38;5;241;43m4\u001B[39;49m\u001B[43m,\u001B[49m\n\u001B[1;32m     71\u001B[0m \u001B[43m    \u001B[49m\u001B[43mshuffle\u001B[49m\u001B[38;5;241;43m=\u001B[39;49m\u001B[38;5;28;43;01mTrue\u001B[39;49;00m\u001B[43m,\u001B[49m\n\u001B[1;32m     72\u001B[0m \u001B[43m\u001B[49m\u001B[43m)\u001B[49m\n\u001B[1;32m     74\u001B[0m \u001B[38;5;66;03m#\u001B[39;00m\n\u001B[1;32m     75\u001B[0m \u001B[38;5;66;03m# NODE PREDICTION MODEL\u001B[39;00m\n\u001B[1;32m     76\u001B[0m \u001B[38;5;66;03m#\u001B[39;00m\n\u001B[1;32m     78\u001B[0m x_inp_src \u001B[38;5;241m=\u001B[39m x_inp[\u001B[38;5;241m0\u001B[39m]\n",
      "File \u001B[0;32m~/Library/Caches/pypoetry/virtualenvs/graph-classification-experiments-RDFHJCIl-py3.8/lib/python3.8/site-packages/keras/utils/traceback_utils.py:64\u001B[0m, in \u001B[0;36mfilter_traceback.<locals>.error_handler\u001B[0;34m(*args, **kwargs)\u001B[0m\n\u001B[1;32m     62\u001B[0m filtered_tb \u001B[38;5;241m=\u001B[39m \u001B[38;5;28;01mNone\u001B[39;00m\n\u001B[1;32m     63\u001B[0m \u001B[38;5;28;01mtry\u001B[39;00m:\n\u001B[0;32m---> 64\u001B[0m   \u001B[38;5;28;01mreturn\u001B[39;00m \u001B[43mfn\u001B[49m\u001B[43m(\u001B[49m\u001B[38;5;241;43m*\u001B[39;49m\u001B[43margs\u001B[49m\u001B[43m,\u001B[49m\u001B[43m \u001B[49m\u001B[38;5;241;43m*\u001B[39;49m\u001B[38;5;241;43m*\u001B[39;49m\u001B[43mkwargs\u001B[49m\u001B[43m)\u001B[49m\n\u001B[1;32m     65\u001B[0m \u001B[38;5;28;01mexcept\u001B[39;00m \u001B[38;5;167;01mException\u001B[39;00m \u001B[38;5;28;01mas\u001B[39;00m e:  \u001B[38;5;66;03m# pylint: disable=broad-except\u001B[39;00m\n\u001B[1;32m     66\u001B[0m   filtered_tb \u001B[38;5;241m=\u001B[39m _process_traceback_frames(e\u001B[38;5;241m.\u001B[39m__traceback__)\n",
      "File \u001B[0;32m~/Library/Caches/pypoetry/virtualenvs/graph-classification-experiments-RDFHJCIl-py3.8/lib/python3.8/site-packages/keras/engine/training.py:1372\u001B[0m, in \u001B[0;36mModel.fit\u001B[0;34m(self, x, y, batch_size, epochs, verbose, callbacks, validation_split, validation_data, shuffle, class_weight, sample_weight, initial_epoch, steps_per_epoch, validation_steps, validation_batch_size, validation_freq, max_queue_size, workers, use_multiprocessing)\u001B[0m\n\u001B[1;32m   1369\u001B[0m data_handler\u001B[38;5;241m.\u001B[39m_initial_epoch \u001B[38;5;241m=\u001B[39m (  \u001B[38;5;66;03m# pylint: disable=protected-access\u001B[39;00m\n\u001B[1;32m   1370\u001B[0m     \u001B[38;5;28mself\u001B[39m\u001B[38;5;241m.\u001B[39m_maybe_load_initial_epoch_from_ckpt(initial_epoch))\n\u001B[1;32m   1371\u001B[0m logs \u001B[38;5;241m=\u001B[39m \u001B[38;5;28;01mNone\u001B[39;00m\n\u001B[0;32m-> 1372\u001B[0m \u001B[38;5;28;01mfor\u001B[39;00m epoch, iterator \u001B[38;5;129;01min\u001B[39;00m data_handler\u001B[38;5;241m.\u001B[39menumerate_epochs():\n\u001B[1;32m   1373\u001B[0m   \u001B[38;5;28mself\u001B[39m\u001B[38;5;241m.\u001B[39mreset_metrics()\n\u001B[1;32m   1374\u001B[0m   callbacks\u001B[38;5;241m.\u001B[39mon_epoch_begin(epoch)\n",
      "File \u001B[0;32m~/Library/Caches/pypoetry/virtualenvs/graph-classification-experiments-RDFHJCIl-py3.8/lib/python3.8/site-packages/keras/engine/data_adapter.py:1198\u001B[0m, in \u001B[0;36mDataHandler.enumerate_epochs\u001B[0;34m(self)\u001B[0m\n\u001B[1;32m   1196\u001B[0m   data_iterator \u001B[38;5;241m=\u001B[39m \u001B[38;5;28miter\u001B[39m(\u001B[38;5;28mself\u001B[39m\u001B[38;5;241m.\u001B[39m_dataset)\n\u001B[1;32m   1197\u001B[0m \u001B[38;5;28;01myield\u001B[39;00m epoch, data_iterator\n\u001B[0;32m-> 1198\u001B[0m \u001B[38;5;28;43mself\u001B[39;49m\u001B[38;5;241;43m.\u001B[39;49m\u001B[43m_adapter\u001B[49m\u001B[38;5;241;43m.\u001B[39;49m\u001B[43mon_epoch_end\u001B[49m\u001B[43m(\u001B[49m\u001B[43m)\u001B[49m\n",
      "File \u001B[0;32m~/Library/Caches/pypoetry/virtualenvs/graph-classification-experiments-RDFHJCIl-py3.8/lib/python3.8/site-packages/keras/engine/data_adapter.py:969\u001B[0m, in \u001B[0;36mKerasSequenceAdapter.on_epoch_end\u001B[0;34m(self)\u001B[0m\n\u001B[1;32m    967\u001B[0m \u001B[38;5;28;01mif\u001B[39;00m \u001B[38;5;28mself\u001B[39m\u001B[38;5;241m.\u001B[39m_enqueuer:\n\u001B[1;32m    968\u001B[0m   \u001B[38;5;28mself\u001B[39m\u001B[38;5;241m.\u001B[39m_enqueuer\u001B[38;5;241m.\u001B[39mstop()\n\u001B[0;32m--> 969\u001B[0m \u001B[38;5;28;43mself\u001B[39;49m\u001B[38;5;241;43m.\u001B[39;49m\u001B[43m_keras_sequence\u001B[49m\u001B[38;5;241;43m.\u001B[39;49m\u001B[43mon_epoch_end\u001B[49m\u001B[43m(\u001B[49m\u001B[43m)\u001B[49m\n",
      "File \u001B[0;32m~/Library/Caches/pypoetry/virtualenvs/graph-classification-experiments-RDFHJCIl-py3.8/lib/python3.8/site-packages/stellargraph/mapper/sequences.py:333\u001B[0m, in \u001B[0;36mOnDemandLinkSequence.on_epoch_end\u001B[0;34m(self)\u001B[0m\n\u001B[1;32m    329\u001B[0m \u001B[38;5;124;03m\"\"\"\u001B[39;00m\n\u001B[1;32m    330\u001B[0m \u001B[38;5;124;03mShuffle all link IDs at the end of each epoch\u001B[39;00m\n\u001B[1;32m    331\u001B[0m \u001B[38;5;124;03m\"\"\"\u001B[39;00m\n\u001B[1;32m    332\u001B[0m \u001B[38;5;28;01mif\u001B[39;00m \u001B[38;5;28mself\u001B[39m\u001B[38;5;241m.\u001B[39mshuffle:\n\u001B[0;32m--> 333\u001B[0m     \u001B[38;5;28mself\u001B[39m\u001B[38;5;241m.\u001B[39m_batches \u001B[38;5;241m=\u001B[39m \u001B[38;5;28;43mself\u001B[39;49m\u001B[38;5;241;43m.\u001B[39;49m\u001B[43m_create_batches\u001B[49m\u001B[43m(\u001B[49m\u001B[43m)\u001B[49m\n",
      "File \u001B[0;32m~/Library/Caches/pypoetry/virtualenvs/graph-classification-experiments-RDFHJCIl-py3.8/lib/python3.8/site-packages/stellargraph/mapper/sequences.py:326\u001B[0m, in \u001B[0;36mOnDemandLinkSequence._create_batches\u001B[0;34m(self)\u001B[0m\n\u001B[1;32m    325\u001B[0m \u001B[38;5;28;01mdef\u001B[39;00m \u001B[38;5;21m_create_batches\u001B[39m(\u001B[38;5;28mself\u001B[39m):\n\u001B[0;32m--> 326\u001B[0m     \u001B[38;5;28;01mreturn\u001B[39;00m \u001B[38;5;28;43mself\u001B[39;49m\u001B[38;5;241;43m.\u001B[39;49m\u001B[43mwalker\u001B[49m\u001B[38;5;241;43m.\u001B[39;49m\u001B[43mrun\u001B[49m\u001B[43m(\u001B[49m\u001B[38;5;28;43mself\u001B[39;49m\u001B[38;5;241;43m.\u001B[39;49m\u001B[43mbatch_size\u001B[49m\u001B[43m)\u001B[49m\n",
      "File \u001B[0;32m~/Library/Caches/pypoetry/virtualenvs/graph-classification-experiments-RDFHJCIl-py3.8/lib/python3.8/site-packages/stellargraph/data/unsupervised_sampler.py:154\u001B[0m, in \u001B[0;36mUnsupervisedSampler.run\u001B[0;34m(self, batch_size)\u001B[0m\n\u001B[1;32m    149\u001B[0m sampling_distribution \u001B[38;5;241m=\u001B[39m np\u001B[38;5;241m.\u001B[39marray([degrees[n] \u001B[38;5;241m*\u001B[39m\u001B[38;5;241m*\u001B[39m \u001B[38;5;241m0.75\u001B[39m \u001B[38;5;28;01mfor\u001B[39;00m n \u001B[38;5;129;01min\u001B[39;00m all_nodes])\n\u001B[1;32m    150\u001B[0m sampling_distribution_norm \u001B[38;5;241m=\u001B[39m sampling_distribution \u001B[38;5;241m/\u001B[39m np\u001B[38;5;241m.\u001B[39msum(\n\u001B[1;32m    151\u001B[0m     sampling_distribution\n\u001B[1;32m    152\u001B[0m )\n\u001B[0;32m--> 154\u001B[0m walks \u001B[38;5;241m=\u001B[39m \u001B[38;5;28;43mself\u001B[39;49m\u001B[38;5;241;43m.\u001B[39;49m\u001B[43mwalker\u001B[49m\u001B[38;5;241;43m.\u001B[39;49m\u001B[43mrun\u001B[49m\u001B[43m(\u001B[49m\u001B[43mnodes\u001B[49m\u001B[38;5;241;43m=\u001B[39;49m\u001B[38;5;28;43mself\u001B[39;49m\u001B[38;5;241;43m.\u001B[39;49m\u001B[43mnodes\u001B[49m\u001B[43m)\u001B[49m\n\u001B[1;32m    156\u001B[0m \u001B[38;5;66;03m# first item in each walk is the target/head node\u001B[39;00m\n\u001B[1;32m    157\u001B[0m targets \u001B[38;5;241m=\u001B[39m [walk[\u001B[38;5;241m0\u001B[39m] \u001B[38;5;28;01mfor\u001B[39;00m walk \u001B[38;5;129;01min\u001B[39;00m walks]\n",
      "File \u001B[0;32m~/Library/Caches/pypoetry/virtualenvs/graph-classification-experiments-RDFHJCIl-py3.8/lib/python3.8/site-packages/stellargraph/data/explorer.py:503\u001B[0m, in \u001B[0;36mBiasedRandomWalk.run\u001B[0;34m(self, nodes, n, length, p, q, seed, weighted)\u001B[0m\n\u001B[1;32m    500\u001B[0m mask \u001B[38;5;241m|\u001B[39m\u001B[38;5;241m=\u001B[39m np\u001B[38;5;241m.\u001B[39misin(neighbours, previous_node_neighbours)\n\u001B[1;32m    501\u001B[0m weights[\u001B[38;5;241m~\u001B[39mmask] \u001B[38;5;241m*\u001B[39m\u001B[38;5;241m=\u001B[39m iq\n\u001B[0;32m--> 503\u001B[0m choice \u001B[38;5;241m=\u001B[39m \u001B[43mnaive_weighted_choices\u001B[49m\u001B[43m(\u001B[49m\u001B[43mrs\u001B[49m\u001B[43m,\u001B[49m\u001B[43m \u001B[49m\u001B[43mweights\u001B[49m\u001B[43m)\u001B[49m\n\u001B[1;32m    504\u001B[0m \u001B[38;5;28;01mif\u001B[39;00m choice \u001B[38;5;129;01mis\u001B[39;00m \u001B[38;5;28;01mNone\u001B[39;00m:\n\u001B[1;32m    505\u001B[0m     \u001B[38;5;28;01mbreak\u001B[39;00m\n",
      "File \u001B[0;32m~/Library/Caches/pypoetry/virtualenvs/graph-classification-experiments-RDFHJCIl-py3.8/lib/python3.8/site-packages/stellargraph/data/explorer.py:349\u001B[0m, in \u001B[0;36mnaive_weighted_choices\u001B[0;34m(rs, weights, size)\u001B[0m\n\u001B[1;32m    346\u001B[0m     \u001B[38;5;28;01mreturn\u001B[39;00m \u001B[38;5;28;01mNone\u001B[39;00m\n\u001B[1;32m    348\u001B[0m thresholds \u001B[38;5;241m=\u001B[39m rs\u001B[38;5;241m.\u001B[39mrandom() \u001B[38;5;28;01mif\u001B[39;00m size \u001B[38;5;129;01mis\u001B[39;00m \u001B[38;5;28;01mNone\u001B[39;00m \u001B[38;5;28;01melse\u001B[39;00m rs\u001B[38;5;241m.\u001B[39mrandom(size)\n\u001B[0;32m--> 349\u001B[0m idx \u001B[38;5;241m=\u001B[39m \u001B[43mnp\u001B[49m\u001B[38;5;241;43m.\u001B[39;49m\u001B[43msearchsorted\u001B[49m\u001B[43m(\u001B[49m\u001B[43mprobs\u001B[49m\u001B[43m,\u001B[49m\u001B[43m \u001B[49m\u001B[43mthresholds\u001B[49m\u001B[43m \u001B[49m\u001B[38;5;241;43m*\u001B[39;49m\u001B[43m \u001B[49m\u001B[43mtotal\u001B[49m\u001B[43m,\u001B[49m\u001B[43m \u001B[49m\u001B[43mside\u001B[49m\u001B[38;5;241;43m=\u001B[39;49m\u001B[38;5;124;43m\"\u001B[39;49m\u001B[38;5;124;43mleft\u001B[39;49m\u001B[38;5;124;43m\"\u001B[39;49m\u001B[43m)\u001B[49m\n\u001B[1;32m    351\u001B[0m \u001B[38;5;28;01mreturn\u001B[39;00m idx\n",
      "File \u001B[0;32m<__array_function__ internals>:180\u001B[0m, in \u001B[0;36msearchsorted\u001B[0;34m(*args, **kwargs)\u001B[0m\n",
      "File \u001B[0;32m~/Library/Caches/pypoetry/virtualenvs/graph-classification-experiments-RDFHJCIl-py3.8/lib/python3.8/site-packages/numpy/core/fromnumeric.py:1387\u001B[0m, in \u001B[0;36msearchsorted\u001B[0;34m(a, v, side, sorter)\u001B[0m\n\u001B[1;32m   1319\u001B[0m \u001B[38;5;129m@array_function_dispatch\u001B[39m(_searchsorted_dispatcher)\n\u001B[1;32m   1320\u001B[0m \u001B[38;5;28;01mdef\u001B[39;00m \u001B[38;5;21msearchsorted\u001B[39m(a, v, side\u001B[38;5;241m=\u001B[39m\u001B[38;5;124m'\u001B[39m\u001B[38;5;124mleft\u001B[39m\u001B[38;5;124m'\u001B[39m, sorter\u001B[38;5;241m=\u001B[39m\u001B[38;5;28;01mNone\u001B[39;00m):\n\u001B[1;32m   1321\u001B[0m     \u001B[38;5;124;03m\"\"\"\u001B[39;00m\n\u001B[1;32m   1322\u001B[0m \u001B[38;5;124;03m    Find indices where elements should be inserted to maintain order.\u001B[39;00m\n\u001B[1;32m   1323\u001B[0m \n\u001B[0;32m   (...)\u001B[0m\n\u001B[1;32m   1385\u001B[0m \n\u001B[1;32m   1386\u001B[0m \u001B[38;5;124;03m    \"\"\"\u001B[39;00m\n\u001B[0;32m-> 1387\u001B[0m     \u001B[38;5;28;01mreturn\u001B[39;00m \u001B[43m_wrapfunc\u001B[49m\u001B[43m(\u001B[49m\u001B[43ma\u001B[49m\u001B[43m,\u001B[49m\u001B[43m \u001B[49m\u001B[38;5;124;43m'\u001B[39;49m\u001B[38;5;124;43msearchsorted\u001B[39;49m\u001B[38;5;124;43m'\u001B[39;49m\u001B[43m,\u001B[49m\u001B[43m \u001B[49m\u001B[43mv\u001B[49m\u001B[43m,\u001B[49m\u001B[43m \u001B[49m\u001B[43mside\u001B[49m\u001B[38;5;241;43m=\u001B[39;49m\u001B[43mside\u001B[49m\u001B[43m,\u001B[49m\u001B[43m \u001B[49m\u001B[43msorter\u001B[49m\u001B[38;5;241;43m=\u001B[39;49m\u001B[43msorter\u001B[49m\u001B[43m)\u001B[49m\n",
      "File \u001B[0;32m~/Library/Caches/pypoetry/virtualenvs/graph-classification-experiments-RDFHJCIl-py3.8/lib/python3.8/site-packages/numpy/core/fromnumeric.py:52\u001B[0m, in \u001B[0;36m_wrapfunc\u001B[0;34m(obj, method, *args, **kwds)\u001B[0m\n\u001B[1;32m     51\u001B[0m \u001B[38;5;28;01mdef\u001B[39;00m \u001B[38;5;21m_wrapfunc\u001B[39m(obj, method, \u001B[38;5;241m*\u001B[39margs, \u001B[38;5;241m*\u001B[39m\u001B[38;5;241m*\u001B[39mkwds):\n\u001B[0;32m---> 52\u001B[0m     bound \u001B[38;5;241m=\u001B[39m \u001B[38;5;28;43mgetattr\u001B[39;49m\u001B[43m(\u001B[49m\u001B[43mobj\u001B[49m\u001B[43m,\u001B[49m\u001B[43m \u001B[49m\u001B[43mmethod\u001B[49m\u001B[43m,\u001B[49m\u001B[43m \u001B[49m\u001B[38;5;28;43;01mNone\u001B[39;49;00m\u001B[43m)\u001B[49m\n\u001B[1;32m     53\u001B[0m     \u001B[38;5;28;01mif\u001B[39;00m bound \u001B[38;5;129;01mis\u001B[39;00m \u001B[38;5;28;01mNone\u001B[39;00m:\n\u001B[1;32m     54\u001B[0m         \u001B[38;5;28;01mreturn\u001B[39;00m _wrapit(obj, method, \u001B[38;5;241m*\u001B[39margs, \u001B[38;5;241m*\u001B[39m\u001B[38;5;241m*\u001B[39mkwds)\n",
      "\u001B[0;31mKeyboardInterrupt\u001B[0m: "
     ]
    }
   ],
   "source": [
    "results = word2vec_run(stellarnx)\n",
    "results.embeddings"
   ],
   "metadata": {
    "collapsed": false,
    "pycharm": {
     "name": "#%%\n"
    }
   }
  },
  {
   "cell_type": "markdown",
   "source": [
    "Balancing class values:"
   ],
   "metadata": {
    "collapsed": false,
    "pycharm": {
     "name": "#%% md\n"
    }
   }
  },
  {
   "cell_type": "code",
   "execution_count": 11,
   "outputs": [
    {
     "data": {
      "text/plain": "(3852, 128)"
     },
     "execution_count": 11,
     "metadata": {},
     "output_type": "execute_result"
    }
   ],
   "source": [
    "results.embeddings.shape"
   ],
   "metadata": {
    "collapsed": false,
    "pycharm": {
     "name": "#%%\n"
    }
   }
  },
  {
   "cell_type": "code",
   "execution_count": 12,
   "outputs": [
    {
     "data": {
      "text/plain": "(3852,)"
     },
     "execution_count": 12,
     "metadata": {},
     "output_type": "execute_result"
    }
   ],
   "source": [
    "labels.shape"
   ],
   "metadata": {
    "collapsed": false,
    "pycharm": {
     "name": "#%%\n"
    }
   }
  },
  {
   "cell_type": "code",
   "execution_count": 13,
   "outputs": [
    {
     "data": {
      "text/plain": "array([  18,   22,   38,   69,  118,  140,  202,  228,  274,  278,  318,\n        376,  378,  387,  398,  408,  419,  430,  431,  432,  434,  440,\n        532,  557,  570,  631,  638,  643,  659,  666,  669,  686,  694,\n        700,  716,  718,  720,  766,  812,  822,  823,  828,  840,  866,\n        895,  903,  939,  952,  955,  996, 1011, 1016, 1063, 1064, 1067,\n       1068, 1069, 1074, 1088, 1089, 1090, 1092, 1094, 1098, 1126, 1145,\n       1147, 1193, 1201, 1223, 1237, 1243, 1246, 1259, 1278, 1321, 1326,\n       1329, 1345, 1346, 1358, 1360, 1373, 1398, 1406, 1440, 1479, 1487,\n       1500, 1513, 1555, 1584, 1585, 1588, 1589, 1593, 1614, 1632, 1683,\n       1735, 1754, 1771, 1788, 1825, 1832, 1881, 1894, 1912, 1958, 1961,\n       2058, 2092, 2103, 2142, 2146, 2169, 2177, 2178, 2239, 2251, 2262,\n       2267, 2271, 2315, 2359, 2439, 2457, 2460, 2462, 2464, 2465, 2466,\n       2468, 2498, 2511, 2534, 2547, 2548, 2551, 2557, 2568, 2589, 2610,\n       2731, 2755, 2771, 2785, 2795, 2833, 2863, 2918, 2982, 3011, 3012,\n       3016, 3026, 3062, 3126, 3165, 3288, 3290, 3291, 3292, 3310, 3339,\n       3356, 3366, 3370, 3398, 3406, 3444, 3453, 3482, 3521, 3537, 3546,\n       3555, 3559, 3560, 3573, 3574, 3575, 3576, 3577, 3602, 3656, 3669,\n       3728, 3750, 3763, 3777, 3806, 3827, 3834, 3835, 3843, 3848])"
     },
     "execution_count": 13,
     "metadata": {},
     "output_type": "execute_result"
    }
   ],
   "source": [
    "# np.unique(labels)\n",
    "# np.where()\n",
    "\n",
    "positives = np.where(labels == 1)[0]\n",
    "positives"
   ],
   "metadata": {
    "collapsed": false,
    "pycharm": {
     "name": "#%%\n"
    }
   }
  },
  {
   "cell_type": "code",
   "execution_count": 14,
   "outputs": [
    {
     "data": {
      "text/plain": "array([   0,    1,    2, ..., 3849, 3850, 3851])"
     },
     "execution_count": 14,
     "metadata": {},
     "output_type": "execute_result"
    }
   ],
   "source": [
    "negatives = np.where(labels != 1)[0]\n",
    "negatives"
   ],
   "metadata": {
    "collapsed": false,
    "pycharm": {
     "name": "#%%\n"
    }
   }
  },
  {
   "cell_type": "code",
   "execution_count": 15,
   "outputs": [
    {
     "data": {
      "text/plain": "197"
     },
     "execution_count": 15,
     "metadata": {},
     "output_type": "execute_result"
    }
   ],
   "source": [
    "\n",
    "np.min([np.size(positives), np.size(negatives)])"
   ],
   "metadata": {
    "collapsed": false,
    "pycharm": {
     "name": "#%%\n"
    }
   }
  },
  {
   "cell_type": "code",
   "execution_count": 16,
   "outputs": [
    {
     "data": {
      "text/plain": "197"
     },
     "execution_count": 16,
     "metadata": {},
     "output_type": "execute_result"
    }
   ],
   "source": [
    "np.size(positives)"
   ],
   "metadata": {
    "collapsed": false,
    "pycharm": {
     "name": "#%%\n"
    }
   }
  },
  {
   "cell_type": "code",
   "execution_count": 17,
   "outputs": [
    {
     "data": {
      "text/plain": "array([ 575,  500, 2946])"
     },
     "execution_count": 17,
     "metadata": {},
     "output_type": "execute_result"
    }
   ],
   "source": [
    "from sklearn.utils._random import sample_without_replacement\n",
    "\n",
    "# sample_without_replacement(n_population=np.size(negatives), n_samples=np.size(positives))\n",
    "s = sample_without_replacement(n_population=np.size(negatives), n_samples=3)\n",
    "s"
   ],
   "metadata": {
    "collapsed": false,
    "pycharm": {
     "name": "#%%\n"
    }
   }
  },
  {
   "cell_type": "code",
   "execution_count": 18,
   "outputs": [
    {
     "data": {
      "text/plain": "array([ 600,  522, 3103])"
     },
     "execution_count": 18,
     "metadata": {},
     "output_type": "execute_result"
    }
   ],
   "source": [
    "negatives[s]"
   ],
   "metadata": {
    "collapsed": false,
    "pycharm": {
     "name": "#%%\n"
    }
   }
  },
  {
   "cell_type": "code",
   "execution_count": 19,
   "outputs": [
    {
     "data": {
      "text/plain": "array([1, 3, 5, 7, 9])"
     },
     "execution_count": 19,
     "metadata": {},
     "output_type": "execute_result"
    }
   ],
   "source": [
    "a = np.array([1, 3, 5])\n",
    "b = np.array([7, 9])\n",
    "\n",
    "np.append(a, b)"
   ],
   "metadata": {
    "collapsed": false,
    "pycharm": {
     "name": "#%%\n"
    }
   }
  },
  {
   "cell_type": "code",
   "execution_count": 23,
   "outputs": [
    {
     "ename": "NameError",
     "evalue": "name 'results' is not defined",
     "output_type": "error",
     "traceback": [
      "\u001B[0;31m---------------------------------------------------------------------------\u001B[0m",
      "\u001B[0;31mNameError\u001B[0m                                 Traceback (most recent call last)",
      "Input \u001B[0;32mIn [23]\u001B[0m, in \u001B[0;36m<cell line: 3>\u001B[0;34m()\u001B[0m\n\u001B[1;32m      1\u001B[0m \u001B[38;5;28;01mfrom\u001B[39;00m \u001B[38;5;21;01mlib\u001B[39;00m\u001B[38;5;21;01m.\u001B[39;00m\u001B[38;5;21;01mProjectGraph\u001B[39;00m \u001B[38;5;28;01mimport\u001B[39;00m balance\n\u001B[0;32m----> 3\u001B[0m balanced_embeddings, balanced_labels \u001B[38;5;241m=\u001B[39m balance(\u001B[43mresults\u001B[49m\u001B[38;5;241m.\u001B[39membeddings, labels)\n",
      "\u001B[0;31mNameError\u001B[0m: name 'results' is not defined"
     ]
    }
   ],
   "source": [
    "\n",
    "\n",
    "from lib.ProjectGraph import balance\n",
    "\n",
    "balanced_embeddings, balanced_labels = balance(results.embeddings, labels)"
   ],
   "metadata": {
    "collapsed": false,
    "pycharm": {
     "name": "#%%\n"
    }
   }
  },
  {
   "cell_type": "code",
   "execution_count": 24,
   "outputs": [
    {
     "ename": "NameError",
     "evalue": "name 'balanced_embeddings' is not defined",
     "output_type": "error",
     "traceback": [
      "\u001B[0;31m---------------------------------------------------------------------------\u001B[0m",
      "\u001B[0;31mNameError\u001B[0m                                 Traceback (most recent call last)",
      "Input \u001B[0;32mIn [24]\u001B[0m, in \u001B[0;36m<cell line: 1>\u001B[0;34m()\u001B[0m\n\u001B[0;32m----> 1\u001B[0m \u001B[43mbalanced_embeddings\u001B[49m\u001B[38;5;241m.\u001B[39mshape\n",
      "\u001B[0;31mNameError\u001B[0m: name 'balanced_embeddings' is not defined"
     ]
    }
   ],
   "source": [
    "balanced_embeddings.shape"
   ],
   "metadata": {
    "collapsed": false,
    "pycharm": {
     "name": "#%%\n"
    }
   }
  },
  {
   "cell_type": "code",
   "execution_count": 24,
   "outputs": [
    {
     "data": {
      "text/plain": "(394,)"
     },
     "execution_count": 24,
     "metadata": {},
     "output_type": "execute_result"
    }
   ],
   "source": [
    "balanced_labels.shape"
   ],
   "metadata": {
    "collapsed": false,
    "pycharm": {
     "name": "#%%\n"
    }
   }
  },
  {
   "cell_type": "markdown",
   "source": [
    "Class prediction (training + performance assessment):"
   ],
   "metadata": {
    "collapsed": false,
    "pycharm": {
     "name": "#%% md\n"
    }
   }
  },
  {
   "cell_type": "code",
   "execution_count": 25,
   "outputs": [],
   "source": [
    "from sklearn.linear_model import LogisticRegression\n",
    "from dataclasses import dataclass\n",
    "\n",
    "\n",
    "@dataclass\n",
    "class PredictionPerformance:\n",
    "\n",
    "    description: str\n",
    "    accuracy: float\n",
    "    f1_micro: float\n",
    "    f1_macro: float\n",
    "\n",
    "\n",
    "def predict_node_classes(X, y, description='Node prediction results', scoring=\"accuracy\") -> PredictionPerformance:\n",
    "\n",
    "    # X will hold the 128-dimensional input features\n",
    "    # X = node_embeddings\n",
    "    # y holds the corresponding target values\n",
    "    # y = np.array(labels)\n",
    "\n",
    "    from sklearn.model_selection import train_test_split\n",
    "\n",
    "    X_train, X_test, y_train, y_test = train_test_split(X, y, train_size=0.5, test_size=None)\n",
    "    # print(\n",
    "    #     \"Array shapes:\\n X_train = {}\\n y_train = {}\\n X_test = {}\\n y_test = {}\".format(\n",
    "    #         X_train.shape, y_train.shape, X_test.shape, y_test.shape\n",
    "    #     )\n",
    "    # )\n",
    "\n",
    "    # training\n",
    "\n",
    "    from sklearn.linear_model import LogisticRegressionCV\n",
    "\n",
    "    # clf = LogisticRegressionCV(\n",
    "    #     Cs=10, cv=10, scoring=scoring, penalty=\"l2\", solver=\"liblinear\", verbose=False, multi_class=\"ovr\", max_iter=1000, random_state=1\n",
    "    # )\n",
    "    clf = LogisticRegression(\n",
    "        penalty=\"l2\", solver=\"liblinear\", verbose=False, multi_class=\"ovr\", max_iter=1000, random_state=1, tol=1e-7, C=0.05\n",
    "    )\n",
    "    clf.fit(X_train, y_train)\n",
    "\n",
    "    # predicting\n",
    "\n",
    "    y_pred = clf.predict(X_test)\n",
    "\n",
    "    # scoring\n",
    "    from sklearn.metrics import accuracy_score, f1_score\n",
    "\n",
    "    return PredictionPerformance(\n",
    "        description=description,\n",
    "        accuracy=accuracy_score(y_test, y_pred),\n",
    "        f1_micro=f1_score(y_test, y_pred, average='micro'),\n",
    "        f1_macro=f1_score(y_test, y_pred, average='macro')\n",
    "    )"
   ],
   "metadata": {
    "collapsed": false,
    "pycharm": {
     "name": "#%%\n"
    }
   }
  },
  {
   "cell_type": "code",
   "execution_count": 26,
   "outputs": [],
   "source": [
    "# result = predict_node_classes(results.embeddings, labels)\n",
    "# result"
   ],
   "metadata": {
    "collapsed": false,
    "pycharm": {
     "name": "#%%\n"
    }
   }
  },
  {
   "cell_type": "code",
   "execution_count": 91,
   "outputs": [
    {
     "name": "stdout",
     "output_type": "stream",
     "text": [
      "StellarGraph: Undirected multigraph\n",
      " Nodes: 3852, Edges: 37841\n",
      "\n",
      " Node types:\n",
      "  default: [3852]\n",
      "    Features: none\n",
      "    Edge types: default-default->default\n",
      "\n",
      " Edge types:\n",
      "    default-default->default: [37841]\n",
      "        Weights: all 1 (default)\n",
      "        Features: none\n"
     ]
    }
   ],
   "source": [
    "from scipy.sparse import csc_matrix\n",
    "from scipy.io import loadmat\n",
    "\n",
    "hs = loadmat('./data/Homo_sapiens.mat', matlab_compatible=True)\n",
    "\n",
    "# network = np.array(csc_matrix(hs['network'], dtype=int).toarray())\n",
    "group = np.array(csc_matrix(hs['group'], dtype=int).toarray())\n",
    "\n",
    "# network_graph: Graph = Graph.Adjacency(csc_matrix(hs['network'], dtype=float), mode=\"undirected\")\n",
    "network_graph: Graph = Graph.Weighted_Adjacency(hs['network'], mode=\"undirected\", loops=False)\n",
    "network_graph: Graph = largest_component(network_graph)\n",
    "\n",
    "# prepare graph data format\n",
    "edge_list = np.array(network_graph.get_edgelist())\n",
    "# sources = edge_list[:, 0]\n",
    "# targets = edge_list[:, 1]\n",
    "\n",
    "# compose into expected format\n",
    "# edges = pd.DataFrame(\n",
    "#     {\"source\": sources, \"target\": targets}\n",
    "# )\n",
    "\n",
    "# get nodes with category feature\n",
    "# nodes = graph.vs.get_attribute_values('category')\n",
    "\n",
    "# init\n",
    "simple_edges = pd.DataFrame(data=edge_list, columns=['source', 'target'])\n",
    "# stellartest = StellarGraph(edges=simple_edges, is_directed=False, nodes=group)\n",
    "stellartest = StellarGraph(edges=simple_edges, is_directed=False)\n",
    "print(stellartest.info())"
   ],
   "metadata": {
    "collapsed": false,
    "pycharm": {
     "name": "#%%\n"
    }
   }
  },
  {
   "cell_type": "code",
   "execution_count": 92,
   "outputs": [],
   "source": [
    "from lib.ProjectGraph import balance"
   ],
   "metadata": {
    "collapsed": false,
    "pycharm": {
     "name": "#%%\n"
    }
   }
  },
  {
   "cell_type": "code",
   "execution_count": 98,
   "outputs": [
    {
     "name": "stdout",
     "output_type": "stream",
     "text": [
      "IGRAPH U--- 77 254 -- \n",
      "+ attr: id (v), label (v), value (e)\n"
     ]
    }
   ],
   "source": [
    "lesmis: Graph = Graph.Load('./data/lesmis/lesmis.gml')\n",
    "print(lesmis.summary())"
   ],
   "metadata": {
    "collapsed": false,
    "pycharm": {
     "name": "#%%\n"
    }
   }
  },
  {
   "cell_type": "code",
   "execution_count": 106,
   "outputs": [
    {
     "data": {
      "text/plain": "['Myriel',\n 'Napoleon',\n 'MlleBaptistine',\n 'MmeMagloire',\n 'CountessDeLo',\n 'Geborand',\n 'Champtercier',\n 'Cravatte',\n 'Count',\n 'OldMan',\n 'Labarre',\n 'Valjean',\n 'Marguerite',\n 'MmeDeR',\n 'Isabeau',\n 'Gervais',\n 'Tholomyes',\n 'Listolier',\n 'Fameuil',\n 'Blacheville',\n 'Favourite',\n 'Dahlia',\n 'Zephine',\n 'Fantine',\n 'MmeThenardier',\n 'Thenardier',\n 'Cosette',\n 'Javert',\n 'Fauchelevent',\n 'Bamatabois',\n 'Perpetue',\n 'Simplice',\n 'Scaufflaire',\n 'Woman1',\n 'Judge',\n 'Champmathieu',\n 'Brevet',\n 'Chenildieu',\n 'Cochepaille',\n 'Pontmercy',\n 'Boulatruelle',\n 'Eponine',\n 'Anzelma',\n 'Woman2',\n 'MotherInnocent',\n 'Gribier',\n 'Jondrette',\n 'MmeBurgon',\n 'Gavroche',\n 'Gillenormand',\n 'Magnon',\n 'MlleGillenormand',\n 'MmePontmercy',\n 'MlleVaubois',\n 'LtGillenormand',\n 'Marius',\n 'BaronessT',\n 'Mabeuf',\n 'Enjolras',\n 'Combeferre',\n 'Prouvaire',\n 'Feuilly',\n 'Courfeyrac',\n 'Bahorel',\n 'Bossuet',\n 'Joly',\n 'Grantaire',\n 'MotherPlutarch',\n 'Gueulemer',\n 'Babet',\n 'Claquesous',\n 'Montparnasse',\n 'Toussaint',\n 'Child1',\n 'Child2',\n 'Brujon',\n 'MmeHucheloup']"
     },
     "execution_count": 106,
     "metadata": {},
     "output_type": "execute_result"
    }
   ],
   "source": [
    "lesmis_edges = pd.DataFrame(data=lesmis.get_edgelist(), columns=['source', 'target'])\n",
    "lesmis_stellar = StellarGraph(edges=lesmis_edges, is_directed=False)\n",
    "lesmis.vs.get_attribute_values('label')"
   ],
   "metadata": {
    "collapsed": false,
    "pycharm": {
     "name": "#%%\n"
    }
   }
  },
  {
   "cell_type": "code",
   "execution_count": 102,
   "outputs": [
    {
     "name": "stdout",
     "output_type": "stream",
     "text": [
      "link_classification: using 'dot' method to combine node embeddings into edge embeddings\n",
      "Epoch 1/10\n",
      "2772/2772 [==============================] - 3s 1ms/step - loss: 0.6120 - binary_accuracy: 0.6550\n",
      "Epoch 2/10\n",
      "2772/2772 [==============================] - 3s 1ms/step - loss: 0.5589 - binary_accuracy: 0.7132\n",
      "Epoch 3/10\n",
      "2772/2772 [==============================] - 3s 1ms/step - loss: 0.5590 - binary_accuracy: 0.7113\n",
      "Epoch 4/10\n",
      "2772/2772 [==============================] - 3s 1ms/step - loss: 0.5602 - binary_accuracy: 0.7107\n",
      "Epoch 5/10\n",
      "2772/2772 [==============================] - 3s 1ms/step - loss: 0.5592 - binary_accuracy: 0.7092\n",
      "Epoch 6/10\n",
      "2772/2772 [==============================] - 3s 1ms/step - loss: 0.5578 - binary_accuracy: 0.7124\n",
      "Epoch 7/10\n",
      "2772/2772 [==============================] - 3s 1ms/step - loss: 0.5591 - binary_accuracy: 0.7104\n",
      "Epoch 8/10\n",
      "2772/2772 [==============================] - 3s 1ms/step - loss: 0.5572 - binary_accuracy: 0.7142\n",
      "Epoch 9/10\n",
      "2772/2772 [==============================] - 3s 1ms/step - loss: 0.5609 - binary_accuracy: 0.7097\n",
      "Epoch 10/10\n",
      "2772/2772 [==============================] - 3s 1ms/step - loss: 0.5594 - binary_accuracy: 0.7120\n",
      "2/2 [==============================] - 0s 104ms/step\n"
     ]
    }
   ],
   "source": [
    "word2vec_results: Word2VecResult = word2vec_run(lesmis_stellar, n=100, length=10, p=0.5, q=1.0, epochs=10)"
   ],
   "metadata": {
    "collapsed": false,
    "pycharm": {
     "name": "#%%\n"
    }
   }
  },
  {
   "cell_type": "code",
   "execution_count": 107,
   "outputs": [],
   "source": [
    "from networkx.readwrite import json_graph\n",
    "import json\n",
    "\n",
    "\n",
    "def ppi_data(only_largest_component: bool = False) -> StellarGraph:\n",
    "\n",
    "    # load data\n",
    "    json_file = open('./data/ppi/ppi-G.json')\n",
    "    json_data = json.load(json_file)\n",
    "\n",
    "    # load into nxGraph\n",
    "    graph: nx.Graph = json_graph.node_link_graph(json_data)\n",
    "\n",
    "    # convert into stellargraph\n",
    "    stellar_graph = StellarGraph.from_networkx(graph)\n",
    "\n",
    "    # for this project, we want only the largest component\n",
    "    if only_largest_component:\n",
    "        largest_component_nodes = next(stellar_graph.connected_components())\n",
    "        stellar_graph = stellar_graph.subgraph(largest_component_nodes)\n",
    "\n",
    "    return stellar_graph"
   ],
   "metadata": {
    "collapsed": false,
    "pycharm": {
     "name": "#%%\n"
    }
   }
  },
  {
   "cell_type": "code",
   "execution_count": 145,
   "outputs": [],
   "source": [
    "def get_ppi_labels(graph: StellarGraph) -> np.array:\n",
    "\n",
    "    # reading the json file\n",
    "    class_map_file = open('./data/ppi/ppi-class_map.json')\n",
    "    class_map_dict = json.load(class_map_file)\n",
    "\n",
    "    # generating a label matrix\n",
    "    labels = np.array([class_map_dict[str(n)] for n in graph.nodes()])\n",
    "\n",
    "    return labels"
   ],
   "metadata": {
    "collapsed": false,
    "pycharm": {
     "name": "#%%\n"
    }
   }
  },
  {
   "cell_type": "code",
   "execution_count": 137,
   "outputs": [
    {
     "name": "stdout",
     "output_type": "stream",
     "text": [
      "link_classification: using 'dot' method to combine node embeddings into edge embeddings\n",
      "Epoch 1/2\n",
      "83520/83520 [==============================] - 398s 5ms/step - loss: 0.6965 - binary_accuracy: 0.5651\n",
      "Epoch 2/2\n",
      "83520/83520 [==============================] - 329s 4ms/step - loss: 0.6654 - binary_accuracy: 0.6135\n",
      "70/70 [==============================] - 0s 2ms/step\n"
     ]
    }
   ],
   "source": [
    "n = 100\n",
    "length = 7\n",
    "\n",
    "ppi_graph = ppi_data(only_largest_component=True)\n",
    "ppi_results: Word2VecResult = word2vec_run(ppi_graph, n=n, length=length, p=0.5, q=1.0)"
   ],
   "metadata": {
    "collapsed": false,
    "pycharm": {
     "name": "#%%\n"
    }
   }
  },
  {
   "cell_type": "code",
   "execution_count": 138,
   "outputs": [
    {
     "name": "stdout",
     "output_type": "stream",
     "text": [
      "link_classification: using 'dot' method to combine node embeddings into edge embeddings\n",
      "Epoch 1/2\n",
      "27840/27840 [==============================] - 106s 4ms/step - loss: 0.6118 - binary_accuracy: 0.6331\n",
      "Epoch 2/2\n",
      "27840/27840 [==============================] - 124s 4ms/step - loss: 0.5055 - binary_accuracy: 0.7419\n",
      "70/70 [==============================] - 0s 2ms/step\n"
     ]
    }
   ],
   "source": [
    "n = 100\n",
    "length = 3\n",
    "ppi_results: Word2VecResult = word2vec_run(ppi_graph, n=n, length=length, p=0.5, q=3.0)"
   ],
   "metadata": {
    "collapsed": false,
    "pycharm": {
     "name": "#%%\n"
    }
   }
  },
  {
   "cell_type": "code",
   "execution_count": 139,
   "outputs": [
    {
     "name": "stdout",
     "output_type": "stream",
     "text": [
      "link_classification: using 'dot' method to combine node embeddings into edge embeddings\n",
      "Epoch 1/2\n",
      "27840/27840 [==============================] - 135s 5ms/step - loss: 0.5997 - binary_accuracy: 0.6430\n",
      "Epoch 2/2\n",
      "27840/27840 [==============================] - 127s 5ms/step - loss: 0.4846 - binary_accuracy: 0.7587\n",
      "70/70 [==============================] - 0s 2ms/step\n"
     ]
    }
   ],
   "source": [
    "ppi_results: Word2VecResult = word2vec_run(ppi_graph, n=n, length=length, p=0.5, q=5.0)"
   ],
   "metadata": {
    "collapsed": false,
    "pycharm": {
     "name": "#%%\n"
    }
   }
  },
  {
   "cell_type": "code",
   "execution_count": 141,
   "outputs": [
    {
     "name": "stdout",
     "output_type": "stream",
     "text": [
      "link_classification: using 'dot' method to combine node embeddings into edge embeddings\n",
      "Epoch 1/2\n",
      "27840/27840 [==============================] - 138s 5ms/step - loss: 0.5914 - binary_accuracy: 0.6502\n",
      "Epoch 2/2\n",
      "27840/27840 [==============================] - 118s 4ms/step - loss: 0.4677 - binary_accuracy: 0.7727\n",
      "70/70 [==============================] - 0s 2ms/step\n"
     ]
    }
   ],
   "source": [
    "ppi_results: Word2VecResult = word2vec_run(ppi_graph, n=n, length=length, p=0.5, q=7.0)"
   ],
   "metadata": {
    "collapsed": false,
    "pycharm": {
     "name": "#%%\n"
    }
   }
  },
  {
   "cell_type": "code",
   "execution_count": 143,
   "outputs": [
    {
     "ename": "TypeError",
     "evalue": "'numpy.ndarray' object is not callable",
     "output_type": "error",
     "traceback": [
      "\u001B[0;31m---------------------------------------------------------------------------\u001B[0m",
      "\u001B[0;31mTypeError\u001B[0m                                 Traceback (most recent call last)",
      "Input \u001B[0;32mIn [143]\u001B[0m, in \u001B[0;36m<cell line: 2>\u001B[0;34m()\u001B[0m\n\u001B[1;32m      1\u001B[0m \u001B[38;5;66;03m# load label data\u001B[39;00m\n\u001B[0;32m----> 2\u001B[0m ppi_labels \u001B[38;5;241m=\u001B[39m \u001B[43mppi_labels\u001B[49m\u001B[43m(\u001B[49m\u001B[43mgraph\u001B[49m\u001B[43m)\u001B[49m\n\u001B[1;32m      4\u001B[0m \u001B[38;5;66;03m# balance the categories (true/false)\u001B[39;00m\n\u001B[1;32m      5\u001B[0m balanced_embeddings, balanced_labels \u001B[38;5;241m=\u001B[39m balance(ppi_results\u001B[38;5;241m.\u001B[39membeddings, ppi_labels)\n",
      "\u001B[0;31mTypeError\u001B[0m: 'numpy.ndarray' object is not callable"
     ]
    }
   ],
   "source": [
    "# load label data\n",
    "ppi_labels = ppi_labels(graph)\n",
    "\n",
    "# balance the categories (true/false)\n",
    "balanced_embeddings, balanced_labels = balance(ppi_results.embeddings, ppi_labels)\n",
    "\n",
    "# measure accuracy\n",
    "accuracy = []\n",
    "for i in np.arange(1,100):\n",
    "    classification_performance = predict_node_classes(balanced_embeddings, balanced_labels)\n",
    "    accuracy = np.append(accuracy, [classification_performance.accuracy])\n",
    "\n",
    "np.mean(accuracy)"
   ],
   "metadata": {
    "collapsed": false,
    "pycharm": {
     "name": "#%%\n"
    }
   }
  },
  {
   "cell_type": "code",
   "execution_count": 142,
   "outputs": [
    {
     "name": "stdout",
     "output_type": "stream",
     "text": [
      "link_classification: using 'dot' method to combine node embeddings into edge embeddings\n",
      "Epoch 1/2\n",
      "27840/27840 [==============================] - 125s 4ms/step - loss: 0.5839 - binary_accuracy: 0.6561\n",
      "Epoch 2/2\n",
      "27840/27840 [==============================] - 128s 5ms/step - loss: 0.4547 - binary_accuracy: 0.7823\n",
      "70/70 [==============================] - 0s 2ms/step\n"
     ]
    }
   ],
   "source": [
    "ppi_results: Word2VecResult = word2vec_run(ppi_graph, n=n, length=length, p=0.5, q=9.0)"
   ],
   "metadata": {
    "collapsed": false,
    "pycharm": {
     "name": "#%%\n"
    }
   }
  },
  {
   "cell_type": "code",
   "execution_count": 146,
   "outputs": [
    {
     "ename": "IndexError",
     "evalue": "index 52162 is out of bounds for axis 0 with size 3480",
     "output_type": "error",
     "traceback": [
      "\u001B[0;31m---------------------------------------------------------------------------\u001B[0m",
      "\u001B[0;31mIndexError\u001B[0m                                Traceback (most recent call last)",
      "Input \u001B[0;32mIn [146]\u001B[0m, in \u001B[0;36m<cell line: 5>\u001B[0;34m()\u001B[0m\n\u001B[1;32m      2\u001B[0m ppi_labels \u001B[38;5;241m=\u001B[39m get_ppi_labels(graph)\n\u001B[1;32m      4\u001B[0m \u001B[38;5;66;03m# balance the categories (true/false)\u001B[39;00m\n\u001B[0;32m----> 5\u001B[0m balanced_embeddings, balanced_labels \u001B[38;5;241m=\u001B[39m \u001B[43mbalance\u001B[49m\u001B[43m(\u001B[49m\u001B[43mppi_results\u001B[49m\u001B[38;5;241;43m.\u001B[39;49m\u001B[43membeddings\u001B[49m\u001B[43m,\u001B[49m\u001B[43m \u001B[49m\u001B[43mppi_labels\u001B[49m\u001B[43m)\u001B[49m\n\u001B[1;32m      7\u001B[0m \u001B[38;5;66;03m# measure accuracy\u001B[39;00m\n\u001B[1;32m      8\u001B[0m accuracy \u001B[38;5;241m=\u001B[39m []\n",
      "File \u001B[0;32m~/Projects/MAI/node2vec-report/lib/ProjectGraph.py:110\u001B[0m, in \u001B[0;36mbalance\u001B[0;34m(X, y)\u001B[0m\n\u001B[1;32m    106\u001B[0m negatives_indices_samples \u001B[38;5;241m=\u001B[39m sample_without_replacement(n_population\u001B[38;5;241m=\u001B[39mnp\u001B[38;5;241m.\u001B[39msize(negatives_indices), n_samples\u001B[38;5;241m=\u001B[39mnp\u001B[38;5;241m.\u001B[39msize(positives_indices))\n\u001B[1;32m    108\u001B[0m balanced_indices \u001B[38;5;241m=\u001B[39m np\u001B[38;5;241m.\u001B[39mappend(negatives_indices_samples, positives_indices)\n\u001B[0;32m--> 110\u001B[0m \u001B[38;5;28;01mreturn\u001B[39;00m \u001B[43mX\u001B[49m\u001B[43m[\u001B[49m\u001B[43mbalanced_indices\u001B[49m\u001B[43m]\u001B[49m, y[balanced_indices]\n",
      "\u001B[0;31mIndexError\u001B[0m: index 52162 is out of bounds for axis 0 with size 3480"
     ]
    }
   ],
   "source": [
    "# load label data\n",
    "ppi_labels = get_ppi_labels(graph)\n",
    "\n",
    "# balance the categories (true/false)\n",
    "balanced_embeddings, balanced_labels = balance(ppi_results.embeddings, ppi_labels)\n",
    "\n",
    "# measure accuracy\n",
    "accuracy = []\n",
    "for i in np.arange(1,100):\n",
    "    classification_performance = predict_node_classes(balanced_embeddings, balanced_labels)\n",
    "    accuracy = np.append(accuracy, [classification_performance.accuracy])\n",
    "\n",
    "np.mean(accuracy)"
   ],
   "metadata": {
    "collapsed": false,
    "pycharm": {
     "name": "#%%\n"
    }
   }
  },
  {
   "cell_type": "code",
   "execution_count": 140,
   "outputs": [
    {
     "name": "stdout",
     "output_type": "stream",
     "text": [
      "link_classification: using 'dot' method to combine node embeddings into edge embeddings\n",
      "Epoch 1/2\n",
      "27840/27840 [==============================] - 125s 4ms/step - loss: 0.6324 - binary_accuracy: 0.6157\n",
      "Epoch 2/2\n",
      "27840/27840 [==============================] - 114s 4ms/step - loss: 0.5409 - binary_accuracy: 0.7143\n",
      "70/70 [==============================] - 0s 2ms/step\n"
     ]
    }
   ],
   "source": [
    "ppi_results: Word2VecResult = word2vec_run(ppi_graph, n=n, length=length, p=0.5, q=0.5)"
   ],
   "metadata": {
    "collapsed": false,
    "pycharm": {
     "name": "#%%\n"
    }
   }
  },
  {
   "cell_type": "code",
   "execution_count": 116,
   "outputs": [
    {
     "ename": "IndexError",
     "evalue": "index 116305 is out of bounds for axis 0 with size 3480",
     "output_type": "error",
     "traceback": [
      "\u001B[0;31m---------------------------------------------------------------------------\u001B[0m",
      "\u001B[0;31mIndexError\u001B[0m                                Traceback (most recent call last)",
      "Input \u001B[0;32mIn [116]\u001B[0m, in \u001B[0;36m<cell line: 2>\u001B[0;34m()\u001B[0m\n\u001B[1;32m      1\u001B[0m ppi_labels \u001B[38;5;241m=\u001B[39m ppi_labels(graph)\n\u001B[0;32m----> 2\u001B[0m balanced_embeddings, balanced_labels \u001B[38;5;241m=\u001B[39m \u001B[43mbalance\u001B[49m\u001B[43m(\u001B[49m\u001B[43mppi_results\u001B[49m\u001B[38;5;241;43m.\u001B[39;49m\u001B[43membeddings\u001B[49m\u001B[43m,\u001B[49m\u001B[43m \u001B[49m\u001B[43mppi_labels\u001B[49m\u001B[43m)\u001B[49m\n",
      "File \u001B[0;32m~/Projects/MAI/node2vec-report/lib/ProjectGraph.py:110\u001B[0m, in \u001B[0;36mbalance\u001B[0;34m(X, y)\u001B[0m\n\u001B[1;32m    106\u001B[0m negatives_indices_samples \u001B[38;5;241m=\u001B[39m sample_without_replacement(n_population\u001B[38;5;241m=\u001B[39mnp\u001B[38;5;241m.\u001B[39msize(negatives_indices), n_samples\u001B[38;5;241m=\u001B[39mnp\u001B[38;5;241m.\u001B[39msize(positives_indices))\n\u001B[1;32m    108\u001B[0m balanced_indices \u001B[38;5;241m=\u001B[39m np\u001B[38;5;241m.\u001B[39mappend(negatives_indices_samples, positives_indices)\n\u001B[0;32m--> 110\u001B[0m \u001B[38;5;28;01mreturn\u001B[39;00m \u001B[43mX\u001B[49m\u001B[43m[\u001B[49m\u001B[43mbalanced_indices\u001B[49m\u001B[43m]\u001B[49m, y[balanced_indices]\n",
      "\u001B[0;31mIndexError\u001B[0m: index 116305 is out of bounds for axis 0 with size 3480"
     ]
    }
   ],
   "source": [
    "# load label data\n",
    "ppi_labels = get_ppi_labels(graph)\n",
    "\n",
    "# balance the categories (true/false)\n",
    "balanced_embeddings, balanced_labels = balance(ppi_results.embeddings, ppi_labels)\n",
    "\n",
    "# measure accuracy\n",
    "accuracy = []\n",
    "for i in np.arange(1,100):\n",
    "    classification_performance = predict_node_classes(balanced_embeddings, balanced_labels)\n",
    "    accuracy = np.append(accuracy, [classification_performance.accuracy])\n",
    "\n",
    "np.mean(accuracy)"
   ],
   "metadata": {
    "collapsed": false,
    "pycharm": {
     "name": "#%%\n"
    }
   }
  },
  {
   "cell_type": "code",
   "execution_count": 109,
   "outputs": [
    {
     "name": "stdout",
     "output_type": "stream",
     "text": [
      "link_classification: using 'dot' method to combine node embeddings into edge embeddings\n"
     ]
    },
    {
     "ename": "KeyboardInterrupt",
     "evalue": "",
     "output_type": "error",
     "traceback": [
      "\u001B[0;31m---------------------------------------------------------------------------\u001B[0m",
      "\u001B[0;31mKeyboardInterrupt\u001B[0m                         Traceback (most recent call last)",
      "Input \u001B[0;32mIn [109]\u001B[0m, in \u001B[0;36m<cell line: 1>\u001B[0;34m()\u001B[0m\n\u001B[0;32m----> 1\u001B[0m word2vec_results: Word2VecResult \u001B[38;5;241m=\u001B[39m \u001B[43mword2vec_run\u001B[49m\u001B[43m(\u001B[49m\u001B[43mstellartest\u001B[49m\u001B[43m,\u001B[49m\u001B[43m \u001B[49m\u001B[43mn\u001B[49m\u001B[38;5;241;43m=\u001B[39;49m\u001B[38;5;241;43m50\u001B[39;49m\u001B[43m,\u001B[49m\u001B[43m \u001B[49m\u001B[43mlength\u001B[49m\u001B[38;5;241;43m=\u001B[39;49m\u001B[38;5;241;43m3\u001B[39;49m\u001B[43m,\u001B[49m\u001B[43m \u001B[49m\u001B[43mp\u001B[49m\u001B[38;5;241;43m=\u001B[39;49m\u001B[38;5;241;43m0.5\u001B[39;49m\u001B[43m,\u001B[49m\u001B[43m \u001B[49m\u001B[43mq\u001B[49m\u001B[38;5;241;43m=\u001B[39;49m\u001B[38;5;241;43m1.0\u001B[39;49m\u001B[43m)\u001B[49m\n",
      "Input \u001B[0;32mIn [21]\u001B[0m, in \u001B[0;36mword2vec_run\u001B[0;34m(graph, **kwargs)\u001B[0m\n\u001B[1;32m     58\u001B[0m model \u001B[38;5;241m=\u001B[39m keras\u001B[38;5;241m.\u001B[39mModel(inputs\u001B[38;5;241m=\u001B[39mx_inp, outputs\u001B[38;5;241m=\u001B[39mprediction)\n\u001B[1;32m     59\u001B[0m model\u001B[38;5;241m.\u001B[39mcompile(\n\u001B[1;32m     60\u001B[0m     optimizer\u001B[38;5;241m=\u001B[39mkeras\u001B[38;5;241m.\u001B[39moptimizers\u001B[38;5;241m.\u001B[39mAdam(learning_rate\u001B[38;5;241m=\u001B[39m\u001B[38;5;241m1e-3\u001B[39m),\n\u001B[1;32m     61\u001B[0m     loss\u001B[38;5;241m=\u001B[39mkeras\u001B[38;5;241m.\u001B[39mlosses\u001B[38;5;241m.\u001B[39mbinary_crossentropy,\n\u001B[1;32m     62\u001B[0m     metrics\u001B[38;5;241m=\u001B[39m[keras\u001B[38;5;241m.\u001B[39mmetrics\u001B[38;5;241m.\u001B[39mbinary_accuracy],\n\u001B[1;32m     63\u001B[0m )\n\u001B[1;32m     65\u001B[0m history \u001B[38;5;241m=\u001B[39m model\u001B[38;5;241m.\u001B[39mfit(\n\u001B[0;32m---> 66\u001B[0m     \u001B[43mgenerator\u001B[49m\u001B[38;5;241;43m.\u001B[39;49m\u001B[43mflow\u001B[49m\u001B[43m(\u001B[49m\u001B[43munsupervised_samples\u001B[49m\u001B[43m)\u001B[49m,\n\u001B[1;32m     67\u001B[0m     epochs\u001B[38;5;241m=\u001B[39mnode2vec_config[\u001B[38;5;124m'\u001B[39m\u001B[38;5;124mepochs\u001B[39m\u001B[38;5;124m'\u001B[39m],\n\u001B[1;32m     68\u001B[0m     verbose\u001B[38;5;241m=\u001B[39m\u001B[38;5;241m1\u001B[39m,\n\u001B[1;32m     69\u001B[0m     use_multiprocessing\u001B[38;5;241m=\u001B[39m\u001B[38;5;28;01mFalse\u001B[39;00m,\n\u001B[1;32m     70\u001B[0m     workers\u001B[38;5;241m=\u001B[39m\u001B[38;5;241m4\u001B[39m,\n\u001B[1;32m     71\u001B[0m     shuffle\u001B[38;5;241m=\u001B[39m\u001B[38;5;28;01mTrue\u001B[39;00m,\n\u001B[1;32m     72\u001B[0m )\n\u001B[1;32m     74\u001B[0m \u001B[38;5;66;03m#\u001B[39;00m\n\u001B[1;32m     75\u001B[0m \u001B[38;5;66;03m# NODE PREDICTION MODEL\u001B[39;00m\n\u001B[1;32m     76\u001B[0m \u001B[38;5;66;03m#\u001B[39;00m\n\u001B[1;32m     78\u001B[0m x_inp_src \u001B[38;5;241m=\u001B[39m x_inp[\u001B[38;5;241m0\u001B[39m]\n",
      "File \u001B[0;32m~/Library/Caches/pypoetry/virtualenvs/graph-classification-experiments-RDFHJCIl-py3.8/lib/python3.8/site-packages/stellargraph/mapper/sampled_link_generators.py:128\u001B[0m, in \u001B[0;36mBatchedLinkGenerator.flow\u001B[0;34m(self, link_ids, targets, shuffle, seed)\u001B[0m\n\u001B[1;32m    126\u001B[0m \u001B[38;5;66;03m# Pass sampler to on-demand link sequence generation\u001B[39;00m\n\u001B[1;32m    127\u001B[0m \u001B[38;5;28;01mif\u001B[39;00m \u001B[38;5;28misinstance\u001B[39m(link_ids, UnsupervisedSampler):\n\u001B[0;32m--> 128\u001B[0m     \u001B[38;5;28;01mreturn\u001B[39;00m \u001B[43mOnDemandLinkSequence\u001B[49m\u001B[43m(\u001B[49m\u001B[38;5;28;43mself\u001B[39;49m\u001B[38;5;241;43m.\u001B[39;49m\u001B[43msample_features\u001B[49m\u001B[43m,\u001B[49m\u001B[43m \u001B[49m\u001B[38;5;28;43mself\u001B[39;49m\u001B[38;5;241;43m.\u001B[39;49m\u001B[43mbatch_size\u001B[49m\u001B[43m,\u001B[49m\u001B[43m \u001B[49m\u001B[43mlink_ids\u001B[49m\u001B[43m)\u001B[49m\n\u001B[1;32m    130\u001B[0m \u001B[38;5;66;03m# Otherwise pass iterable (check?) to standard LinkSequence\u001B[39;00m\n\u001B[1;32m    131\u001B[0m \u001B[38;5;28;01melif\u001B[39;00m \u001B[38;5;28misinstance\u001B[39m(link_ids, collections\u001B[38;5;241m.\u001B[39mabc\u001B[38;5;241m.\u001B[39mIterable):\n\u001B[1;32m    132\u001B[0m     \u001B[38;5;66;03m# Check all IDs are actually in the graph and are of expected type\u001B[39;00m\n",
      "File \u001B[0;32m~/Library/Caches/pypoetry/virtualenvs/graph-classification-experiments-RDFHJCIl-py3.8/lib/python3.8/site-packages/stellargraph/mapper/sequences.py:289\u001B[0m, in \u001B[0;36mOnDemandLinkSequence.__init__\u001B[0;34m(self, sample_function, batch_size, walker, shuffle)\u001B[0m\n\u001B[1;32m    287\u001B[0m \u001B[38;5;28mself\u001B[39m\u001B[38;5;241m.\u001B[39mshuffle \u001B[38;5;241m=\u001B[39m shuffle\n\u001B[1;32m    288\u001B[0m \u001B[38;5;66;03m# FIXME(#681): all batches are created at once, so this is no longer \"on demand\"\u001B[39;00m\n\u001B[0;32m--> 289\u001B[0m \u001B[38;5;28mself\u001B[39m\u001B[38;5;241m.\u001B[39m_batches \u001B[38;5;241m=\u001B[39m \u001B[38;5;28;43mself\u001B[39;49m\u001B[38;5;241;43m.\u001B[39;49m\u001B[43m_create_batches\u001B[49m\u001B[43m(\u001B[49m\u001B[43m)\u001B[49m\n\u001B[1;32m    290\u001B[0m \u001B[38;5;28mself\u001B[39m\u001B[38;5;241m.\u001B[39mlength \u001B[38;5;241m=\u001B[39m \u001B[38;5;28mlen\u001B[39m(\u001B[38;5;28mself\u001B[39m\u001B[38;5;241m.\u001B[39m_batches)\n\u001B[1;32m    291\u001B[0m \u001B[38;5;28mself\u001B[39m\u001B[38;5;241m.\u001B[39mdata_size \u001B[38;5;241m=\u001B[39m \u001B[38;5;28msum\u001B[39m(\u001B[38;5;28mlen\u001B[39m(batch[\u001B[38;5;241m0\u001B[39m]) \u001B[38;5;28;01mfor\u001B[39;00m batch \u001B[38;5;129;01min\u001B[39;00m \u001B[38;5;28mself\u001B[39m\u001B[38;5;241m.\u001B[39m_batches)\n",
      "File \u001B[0;32m~/Library/Caches/pypoetry/virtualenvs/graph-classification-experiments-RDFHJCIl-py3.8/lib/python3.8/site-packages/stellargraph/mapper/sequences.py:326\u001B[0m, in \u001B[0;36mOnDemandLinkSequence._create_batches\u001B[0;34m(self)\u001B[0m\n\u001B[1;32m    325\u001B[0m \u001B[38;5;28;01mdef\u001B[39;00m \u001B[38;5;21m_create_batches\u001B[39m(\u001B[38;5;28mself\u001B[39m):\n\u001B[0;32m--> 326\u001B[0m     \u001B[38;5;28;01mreturn\u001B[39;00m \u001B[38;5;28;43mself\u001B[39;49m\u001B[38;5;241;43m.\u001B[39;49m\u001B[43mwalker\u001B[49m\u001B[38;5;241;43m.\u001B[39;49m\u001B[43mrun\u001B[49m\u001B[43m(\u001B[49m\u001B[38;5;28;43mself\u001B[39;49m\u001B[38;5;241;43m.\u001B[39;49m\u001B[43mbatch_size\u001B[49m\u001B[43m)\u001B[49m\n",
      "File \u001B[0;32m~/Library/Caches/pypoetry/virtualenvs/graph-classification-experiments-RDFHJCIl-py3.8/lib/python3.8/site-packages/stellargraph/data/unsupervised_sampler.py:154\u001B[0m, in \u001B[0;36mUnsupervisedSampler.run\u001B[0;34m(self, batch_size)\u001B[0m\n\u001B[1;32m    149\u001B[0m sampling_distribution \u001B[38;5;241m=\u001B[39m np\u001B[38;5;241m.\u001B[39marray([degrees[n] \u001B[38;5;241m*\u001B[39m\u001B[38;5;241m*\u001B[39m \u001B[38;5;241m0.75\u001B[39m \u001B[38;5;28;01mfor\u001B[39;00m n \u001B[38;5;129;01min\u001B[39;00m all_nodes])\n\u001B[1;32m    150\u001B[0m sampling_distribution_norm \u001B[38;5;241m=\u001B[39m sampling_distribution \u001B[38;5;241m/\u001B[39m np\u001B[38;5;241m.\u001B[39msum(\n\u001B[1;32m    151\u001B[0m     sampling_distribution\n\u001B[1;32m    152\u001B[0m )\n\u001B[0;32m--> 154\u001B[0m walks \u001B[38;5;241m=\u001B[39m \u001B[38;5;28;43mself\u001B[39;49m\u001B[38;5;241;43m.\u001B[39;49m\u001B[43mwalker\u001B[49m\u001B[38;5;241;43m.\u001B[39;49m\u001B[43mrun\u001B[49m\u001B[43m(\u001B[49m\u001B[43mnodes\u001B[49m\u001B[38;5;241;43m=\u001B[39;49m\u001B[38;5;28;43mself\u001B[39;49m\u001B[38;5;241;43m.\u001B[39;49m\u001B[43mnodes\u001B[49m\u001B[43m)\u001B[49m\n\u001B[1;32m    156\u001B[0m \u001B[38;5;66;03m# first item in each walk is the target/head node\u001B[39;00m\n\u001B[1;32m    157\u001B[0m targets \u001B[38;5;241m=\u001B[39m [walk[\u001B[38;5;241m0\u001B[39m] \u001B[38;5;28;01mfor\u001B[39;00m walk \u001B[38;5;129;01min\u001B[39;00m walks]\n",
      "File \u001B[0;32m~/Library/Caches/pypoetry/virtualenvs/graph-classification-experiments-RDFHJCIl-py3.8/lib/python3.8/site-packages/stellargraph/data/explorer.py:491\u001B[0m, in \u001B[0;36mBiasedRandomWalk.run\u001B[0;34m(self, nodes, n, length, p, q, seed, weighted)\u001B[0m\n\u001B[1;32m    487\u001B[0m     neighbours, weights \u001B[38;5;241m=\u001B[39m \u001B[38;5;28mself\u001B[39m\u001B[38;5;241m.\u001B[39mgraph\u001B[38;5;241m.\u001B[39mneighbor_arrays(\n\u001B[1;32m    488\u001B[0m         current_node, include_edge_weight\u001B[38;5;241m=\u001B[39m\u001B[38;5;28;01mTrue\u001B[39;00m, use_ilocs\u001B[38;5;241m=\u001B[39m\u001B[38;5;28;01mTrue\u001B[39;00m\n\u001B[1;32m    489\u001B[0m     )\n\u001B[1;32m    490\u001B[0m \u001B[38;5;28;01melse\u001B[39;00m:\n\u001B[0;32m--> 491\u001B[0m     neighbours \u001B[38;5;241m=\u001B[39m \u001B[38;5;28;43mself\u001B[39;49m\u001B[38;5;241;43m.\u001B[39;49m\u001B[43mgraph\u001B[49m\u001B[38;5;241;43m.\u001B[39;49m\u001B[43mneighbor_arrays\u001B[49m\u001B[43m(\u001B[49m\n\u001B[1;32m    492\u001B[0m \u001B[43m        \u001B[49m\u001B[43mcurrent_node\u001B[49m\u001B[43m,\u001B[49m\u001B[43m \u001B[49m\u001B[43muse_ilocs\u001B[49m\u001B[38;5;241;43m=\u001B[39;49m\u001B[38;5;28;43;01mTrue\u001B[39;49;00m\n\u001B[1;32m    493\u001B[0m \u001B[43m    \u001B[49m\u001B[43m)\u001B[49m\n\u001B[1;32m    494\u001B[0m     weights \u001B[38;5;241m=\u001B[39m np\u001B[38;5;241m.\u001B[39mones(neighbours\u001B[38;5;241m.\u001B[39mshape, dtype\u001B[38;5;241m=\u001B[39mweight_dtype)\n\u001B[1;32m    495\u001B[0m \u001B[38;5;28;01mif\u001B[39;00m \u001B[38;5;28mlen\u001B[39m(neighbours) \u001B[38;5;241m==\u001B[39m \u001B[38;5;241m0\u001B[39m:\n",
      "File \u001B[0;32m~/Library/Caches/pypoetry/virtualenvs/graph-classification-experiments-RDFHJCIl-py3.8/lib/python3.8/site-packages/stellargraph/core/graph.py:793\u001B[0m, in \u001B[0;36mStellarGraph.neighbor_arrays\u001B[0;34m(self, node, include_edge_weight, edge_types, use_ilocs)\u001B[0m\n\u001B[1;32m    790\u001B[0m     node \u001B[38;5;241m=\u001B[39m \u001B[38;5;28mself\u001B[39m\u001B[38;5;241m.\u001B[39m_nodes\u001B[38;5;241m.\u001B[39mids\u001B[38;5;241m.\u001B[39mto_iloc([node])[\u001B[38;5;241m0\u001B[39m]\n\u001B[1;32m    792\u001B[0m edge_ilocs \u001B[38;5;241m=\u001B[39m \u001B[38;5;28mself\u001B[39m\u001B[38;5;241m.\u001B[39m_edges\u001B[38;5;241m.\u001B[39medge_ilocs(node, ins\u001B[38;5;241m=\u001B[39m\u001B[38;5;28;01mTrue\u001B[39;00m, outs\u001B[38;5;241m=\u001B[39m\u001B[38;5;28;01mTrue\u001B[39;00m)\n\u001B[0;32m--> 793\u001B[0m source \u001B[38;5;241m=\u001B[39m \u001B[38;5;28;43mself\u001B[39;49m\u001B[38;5;241;43m.\u001B[39;49m\u001B[43m_edges\u001B[49m\u001B[38;5;241;43m.\u001B[39;49m\u001B[43msources\u001B[49m\u001B[43m[\u001B[49m\u001B[43medge_ilocs\u001B[49m\u001B[43m]\u001B[49m\n\u001B[1;32m    794\u001B[0m target \u001B[38;5;241m=\u001B[39m \u001B[38;5;28mself\u001B[39m\u001B[38;5;241m.\u001B[39m_edges\u001B[38;5;241m.\u001B[39mtargets[edge_ilocs]\n\u001B[1;32m    795\u001B[0m other_node \u001B[38;5;241m=\u001B[39m np\u001B[38;5;241m.\u001B[39mwhere(source \u001B[38;5;241m==\u001B[39m node, target, source)\n",
      "\u001B[0;31mKeyboardInterrupt\u001B[0m: "
     ]
    }
   ],
   "source": [
    "\n",
    "word2vec_results: Word2VecResult = word2vec_run(stellartest, n=n, length=length, p=0.5, q=1.0)\n",
    "# balanced_embeddings, balanced_labels = balance(word2vec_results.embeddings, labels)"
   ],
   "metadata": {
    "collapsed": false,
    "pycharm": {
     "name": "#%%\n"
    }
   }
  },
  {
   "cell_type": "code",
   "execution_count": 34,
   "outputs": [
    {
     "name": "stdout",
     "output_type": "stream",
     "text": [
      "link_classification: using 'dot' method to combine node embeddings into edge embeddings\n",
      "Epoch 1/2\n",
      "36980/36980 [==============================] - 130s 4ms/step - loss: 0.7291 - binary_accuracy: 0.5206\n",
      "Epoch 2/2\n",
      "36980/36980 [==============================] - 158s 4ms/step - loss: 0.7303 - binary_accuracy: 0.5372\n",
      "78/78 [==============================] - 0s 2ms/step\n"
     ]
    }
   ],
   "source": [
    "word2vec_results: Word2VecResult = word2vec_run(stellarnx, n=n, length=length, p=0.5, q=1.0)\n",
    "balanced_embeddings, balanced_labels = balance(word2vec_results.embeddings, labels)"
   ],
   "metadata": {
    "collapsed": false,
    "pycharm": {
     "name": "#%%\n"
    }
   }
  },
  {
   "cell_type": "code",
   "execution_count": 31,
   "outputs": [
    {
     "data": {
      "text/plain": "0.7579346767164026"
     },
     "execution_count": 31,
     "metadata": {},
     "output_type": "execute_result"
    }
   ],
   "source": [
    "# classification_performance = predict_node_classes(balanced_embeddings, balanced_labels)\n",
    "# classification_performance\n",
    "accuracy = []\n",
    "for i in np.arange(1,100):\n",
    "    classification_performance = predict_node_classes(balanced_embeddings, balanced_labels)\n",
    "    accuracy = np.append(accuracy, [classification_performance.accuracy])\n",
    "\n",
    "np.mean(accuracy)"
   ],
   "metadata": {
    "collapsed": false,
    "pycharm": {
     "name": "#%%\n"
    }
   }
  },
  {
   "cell_type": "markdown",
   "source": [
    "Cora data test:"
   ],
   "metadata": {
    "collapsed": false,
    "pycharm": {
     "name": "#%% md\n"
    }
   }
  },
  {
   "cell_type": "code",
   "execution_count": 5,
   "outputs": [],
   "source": [
    "dataset = datasets.Cora()\n",
    "# display(HTML(dataset.description))\n",
    "G, subjects = dataset.load(largest_connected_component_only=True)"
   ],
   "metadata": {
    "collapsed": false,
    "pycharm": {
     "name": "#%%\n"
    }
   }
  },
  {
   "cell_type": "code",
   "execution_count": 6,
   "outputs": [
    {
     "data": {
      "text/plain": "'StellarGraph: Undirected multigraph\\n Nodes: 2485, Edges: 5209\\n\\n Node types:\\n  paper: [2485]\\n    Features: float32 vector, length 1433\\n    Edge types: paper-cites->paper\\n\\n Edge types:\\n    paper-cites->paper: [5209]\\n        Weights: all 1 (default)\\n        Features: none'"
     },
     "execution_count": 6,
     "metadata": {},
     "output_type": "execute_result"
    }
   ],
   "source": [
    "G.info()"
   ],
   "metadata": {
    "collapsed": false,
    "pycharm": {
     "name": "#%%\n"
    }
   }
  },
  {
   "cell_type": "code",
   "execution_count": 32,
   "outputs": [
    {
     "name": "stdout",
     "output_type": "stream",
     "text": [
      "<class 'pandas.core.series.Series'>\n"
     ]
    }
   ],
   "source": [
    "print(type(subjects))"
   ],
   "metadata": {
    "collapsed": false,
    "pycharm": {
     "name": "#%%\n"
    }
   }
  },
  {
   "cell_type": "code",
   "execution_count": 35,
   "outputs": [
    {
     "data": {
      "text/plain": "123         alpha\n456       another\n1             one\n2             two\n55     fifty-five\nName: ok, dtype: object"
     },
     "execution_count": 35,
     "metadata": {},
     "output_type": "execute_result"
    }
   ],
   "source": [
    "import pandas as pd\n",
    "\n",
    "test = pd.Series({ '123': 'alpha', '456': 'another', '1': 'one', '2': 'two', '55': 'fifty-five'}, index=['123','456', '1', '2', '55'], name='ok')\n",
    "test\n",
    "# pd.DataFrame({ '123': 'alpha', '456': 'another'}, index=['123','456'], columns=['name'], dtype=object)\n",
    "# display(pd.DataFrame(data=np.array([{123: 'a'}, {456: 'b'}]), columns=['name'], dtype=object))"
   ],
   "metadata": {
    "collapsed": false,
    "pycharm": {
     "name": "#%%\n"
    }
   }
  },
  {
   "cell_type": "code",
   "execution_count": 37,
   "outputs": [
    {
     "data": {
      "text/plain": "456    another\n2          two\nName: ok, dtype: object"
     },
     "execution_count": 37,
     "metadata": {},
     "output_type": "execute_result"
    }
   ],
   "source": [
    "test[['456', '2']]"
   ],
   "metadata": {
    "collapsed": false,
    "pycharm": {
     "name": "#%%\n"
    }
   }
  },
  {
   "cell_type": "code",
   "execution_count": 96,
   "outputs": [
    {
     "name": "stdout",
     "output_type": "stream",
     "text": [
      "link_classification: using 'dot' method to combine node embeddings into edge embeddings\n",
      "Epoch 1/2\n",
      "11928/11928 [==============================] - 28s 2ms/step - loss: 0.5263 - binary_accuracy: 0.6927\n",
      "Epoch 2/2\n",
      "11928/11928 [==============================] - 28s 2ms/step - loss: 0.3330 - binary_accuracy: 0.8455\n",
      "50/50 [==============================] - 0s 3ms/step\n"
     ]
    }
   ],
   "source": [
    "word2vec_results: Word2VecResult = word2vec_run(G, n=n, length=length, p=0.5, q=1.0)\n",
    "balanced_embeddings, balanced_labels = balance(word2vec_results.embeddings, subjects)"
   ],
   "metadata": {
    "collapsed": false,
    "pycharm": {
     "name": "#%%\n"
    }
   }
  },
  {
   "cell_type": "code",
   "execution_count": null,
   "outputs": [],
   "source": [
    "# classification_performance = predict_node_classes(balanced_embeddings, balanced_labels)\n",
    "# classification_performance\n",
    "accuracy = []\n",
    "for i in np.arange(1,100):\n",
    "    classification_performance = predict_node_classes(balanced_embeddings, balanced_labels)\n",
    "    accuracy = np.append(accuracy, [classification_performance.accuracy])\n",
    "\n",
    "np.mean(accuracy)"
   ],
   "metadata": {
    "collapsed": false,
    "pycharm": {
     "name": "#%%\n"
    }
   }
  },
  {
   "cell_type": "markdown",
   "source": [
    "Own data"
   ],
   "metadata": {
    "collapsed": false,
    "pycharm": {
     "name": "#%% md\n"
    }
   }
  },
  {
   "cell_type": "code",
   "execution_count": 187,
   "outputs": [
    {
     "name": "stdout",
     "output_type": "stream",
     "text": [
      "link_classification: using 'dot' method to combine node embeddings into edge embeddings\n",
      "Epoch 1/2\n",
      "30816/30816 [==============================] - 125s 4ms/step - loss: 0.6761 - binary_accuracy: 0.5740\n",
      "Epoch 2/2\n",
      "30816/30816 [==============================] - 120s 4ms/step - loss: 0.6362 - binary_accuracy: 0.6304\n",
      "78/78 [==============================] - 0s 2ms/step\n"
     ]
    }
   ],
   "source": [
    "word2vec_results = word2vec_run(stellarnx, n=n, length=length, p=1.0, q=1.0)\n",
    "balanced_embeddings, balanced_labels = balance(word2vec_results.embeddings, labels)"
   ],
   "metadata": {
    "collapsed": false,
    "pycharm": {
     "name": "#%%\n"
    }
   }
  },
  {
   "cell_type": "code",
   "execution_count": 188,
   "outputs": [
    {
     "data": {
      "text/plain": "0.7522432446290315"
     },
     "execution_count": 188,
     "metadata": {},
     "output_type": "execute_result"
    }
   ],
   "source": [
    "accuracy = []\n",
    "for i in np.arange(1,100):\n",
    "    classification_performance = predict_node_classes(balanced_embeddings, balanced_labels)\n",
    "    accuracy = np.append(accuracy, [classification_performance.accuracy])\n",
    "\n",
    "np.mean(accuracy)"
   ],
   "metadata": {
    "collapsed": false,
    "pycharm": {
     "name": "#%%\n"
    }
   }
  },
  {
   "cell_type": "code",
   "execution_count": 189,
   "outputs": [
    {
     "name": "stdout",
     "output_type": "stream",
     "text": [
      "link_classification: using 'dot' method to combine node embeddings into edge embeddings\n",
      "Epoch 1/2\n",
      "30816/30816 [==============================] - 122s 4ms/step - loss: 0.6823 - binary_accuracy: 0.5681\n",
      "Epoch 2/2\n",
      "30816/30816 [==============================] - 128s 4ms/step - loss: 0.6447 - binary_accuracy: 0.6242\n",
      "78/78 [==============================] - 0s 2ms/step\n"
     ]
    }
   ],
   "source": [
    "word2vec_results = word2vec_run(stellarnx, n=n, length=length, p=3.0, q=1.0)\n",
    "balanced_embeddings, balanced_labels = balance(word2vec_results.embeddings, labels)"
   ],
   "metadata": {
    "collapsed": false,
    "pycharm": {
     "name": "#%%\n"
    }
   }
  },
  {
   "cell_type": "code",
   "execution_count": 190,
   "outputs": [
    {
     "data": {
      "text/plain": "0.758549966671794"
     },
     "execution_count": 190,
     "metadata": {},
     "output_type": "execute_result"
    }
   ],
   "source": [
    "accuracy = []\n",
    "for i in np.arange(1,100):\n",
    "    classification_performance = predict_node_classes(balanced_embeddings, balanced_labels)\n",
    "    accuracy = np.append(accuracy, [classification_performance.accuracy])\n",
    "\n",
    "np.mean(accuracy)"
   ],
   "metadata": {
    "collapsed": false,
    "pycharm": {
     "name": "#%%\n"
    }
   }
  },
  {
   "cell_type": "code",
   "execution_count": 191,
   "outputs": [
    {
     "name": "stdout",
     "output_type": "stream",
     "text": [
      "link_classification: using 'dot' method to combine node embeddings into edge embeddings\n",
      "Epoch 1/2\n",
      "30816/30816 [==============================] - 133s 4ms/step - loss: 0.6839 - binary_accuracy: 0.5668\n",
      "Epoch 2/2\n",
      "30816/30816 [==============================] - 128s 4ms/step - loss: 0.6471 - binary_accuracy: 0.6217\n",
      "78/78 [==============================] - 0s 2ms/step\n"
     ]
    }
   ],
   "source": [
    "word2vec_results = word2vec_run(stellarnx, n=n, length=length, p=5.0, q=1.0)\n",
    "balanced_embeddings, balanced_labels = balance(word2vec_results.embeddings, labels)"
   ],
   "metadata": {
    "collapsed": false,
    "pycharm": {
     "name": "#%%\n"
    }
   }
  },
  {
   "cell_type": "code",
   "execution_count": 192,
   "outputs": [
    {
     "data": {
      "text/plain": "0.752858534584423"
     },
     "execution_count": 192,
     "metadata": {},
     "output_type": "execute_result"
    }
   ],
   "source": [
    "accuracy = []\n",
    "for i in np.arange(1,100):\n",
    "    classification_performance = predict_node_classes(balanced_embeddings, balanced_labels)\n",
    "    accuracy = np.append(accuracy, [classification_performance.accuracy])\n",
    "\n",
    "np.mean(accuracy)"
   ],
   "metadata": {
    "collapsed": false,
    "pycharm": {
     "name": "#%%\n"
    }
   }
  },
  {
   "cell_type": "code",
   "execution_count": 22,
   "outputs": [],
   "source": [
    "from sklearn.model_selection import train_test_split\n",
    "\n",
    "X = word2vec_results.embeddings\n",
    "y = labels"
   ],
   "metadata": {
    "collapsed": false,
    "pycharm": {
     "name": "#%%\n"
    }
   }
  },
  {
   "cell_type": "code",
   "execution_count": 23,
   "outputs": [
    {
     "name": "stdout",
     "output_type": "stream",
     "text": [
      "Array shapes:\n",
      " X_train = (2696, 128)\n",
      " y_train = (2696,)\n",
      " X_test = (1156, 128)\n",
      " y_test = (1156,)\n"
     ]
    }
   ],
   "source": [
    "X_train, X_test, y_train, y_test = train_test_split(X, y, train_size=0.7, test_size=None)\n",
    "print(\n",
    "    \"Array shapes:\\n X_train = {}\\n y_train = {}\\n X_test = {}\\n y_test = {}\".format(\n",
    "        X_train.shape, y_train.shape, X_test.shape, y_test.shape\n",
    "    )\n",
    ")"
   ],
   "metadata": {
    "collapsed": false,
    "pycharm": {
     "name": "#%%\n"
    }
   }
  },
  {
   "cell_type": "code",
   "execution_count": 31,
   "outputs": [
    {
     "name": "stdout",
     "output_type": "stream",
     "text": [
      "Array shapes:\n",
      " X_train = (2696, 128)\n",
      " y_train = (2696,)\n",
      " X_test = (1156, 128)\n",
      " y_test = (1156,)\n"
     ]
    }
   ],
   "source": [
    "X_train, X_test, y_train, y_test = train_test_split(X, y, train_size=0.7, test_size=None, stratify=y)\n",
    "print(\n",
    "    \"Array shapes:\\n X_train = {}\\n y_train = {}\\n X_test = {}\\n y_test = {}\".format(\n",
    "        X_train.shape, y_train.shape, X_test.shape, y_test.shape\n",
    "    )\n",
    ")"
   ],
   "metadata": {
    "collapsed": false,
    "pycharm": {
     "name": "#%%\n"
    }
   }
  },
  {
   "cell_type": "code",
   "execution_count": 29,
   "outputs": [
    {
     "data": {
      "text/plain": "197"
     },
     "execution_count": 29,
     "metadata": {},
     "output_type": "execute_result"
    }
   ],
   "source": [
    "np.count_nonzero(y)"
   ],
   "metadata": {
    "collapsed": false,
    "pycharm": {
     "name": "#%%\n"
    }
   }
  },
  {
   "cell_type": "code",
   "execution_count": 30,
   "outputs": [
    {
     "data": {
      "text/plain": "(3852,)"
     },
     "execution_count": 30,
     "metadata": {},
     "output_type": "execute_result"
    }
   ],
   "source": [
    "y.shape"
   ],
   "metadata": {
    "collapsed": false,
    "pycharm": {
     "name": "#%%\n"
    }
   }
  },
  {
   "cell_type": "code",
   "execution_count": 207,
   "outputs": [
    {
     "data": {
      "text/plain": "     p    q  accuracy (mean)  accuracy (std)\n0  0.0  0.0              0.0             0.0\n1  0.0  0.0              0.0             0.0",
      "text/html": "<div>\n<style scoped>\n    .dataframe tbody tr th:only-of-type {\n        vertical-align: middle;\n    }\n\n    .dataframe tbody tr th {\n        vertical-align: top;\n    }\n\n    .dataframe thead th {\n        text-align: right;\n    }\n</style>\n<table border=\"1\" class=\"dataframe\">\n  <thead>\n    <tr style=\"text-align: right;\">\n      <th></th>\n      <th>p</th>\n      <th>q</th>\n      <th>accuracy (mean)</th>\n      <th>accuracy (std)</th>\n    </tr>\n  </thead>\n  <tbody>\n    <tr>\n      <th>0</th>\n      <td>0.0</td>\n      <td>0.0</td>\n      <td>0.0</td>\n      <td>0.0</td>\n    </tr>\n    <tr>\n      <th>1</th>\n      <td>0.0</td>\n      <td>0.0</td>\n      <td>0.0</td>\n      <td>0.0</td>\n    </tr>\n  </tbody>\n</table>\n</div>"
     },
     "metadata": {},
     "output_type": "display_data"
    },
    {
     "data": {
      "text/plain": "'ok'"
     },
     "execution_count": 207,
     "metadata": {},
     "output_type": "execute_result"
    }
   ],
   "source": [
    "from IPython.display import clear_output, display\n",
    "\n",
    "pdr = pd.DataFrame(data=[\n",
    "    [0.0, 0.0, 0.0, 0.0],\n",
    "    [0.0, 0.0, 0.0, 0.0]\n",
    "], columns=['p', 'q', 'accuracy (mean)', 'accuracy (std)'])\n",
    "\n",
    "display(pdr)\n",
    "o = 'ok'\n",
    "o"
   ],
   "metadata": {
    "collapsed": false,
    "pycharm": {
     "name": "#%%\n"
    }
   }
  },
  {
   "cell_type": "code",
   "execution_count": 219,
   "outputs": [
    {
     "data": {
      "text/plain": "       p     q  accuracy (mean)  accuracy (std)\n0    0.2   0.2         0.755474        0.025458\n1    0.4   0.2         0.754448        0.026905\n2    0.6   0.2         0.753115        0.022557\n3    0.8   0.2         0.753269        0.023676\n4    1.0   0.2         0.753269        0.023621\n..   ...   ...              ...             ...\n59   0.8  10.0         0.757883        0.022453\n60   1.0  10.0         0.757473        0.026049\n61   4.0  10.0         0.756345        0.023831\n62   7.0  10.0         0.757063        0.022390\n63  10.0  10.0         0.758499        0.025377\n\n[64 rows x 4 columns]",
      "text/html": "<div>\n<style scoped>\n    .dataframe tbody tr th:only-of-type {\n        vertical-align: middle;\n    }\n\n    .dataframe tbody tr th {\n        vertical-align: top;\n    }\n\n    .dataframe thead th {\n        text-align: right;\n    }\n</style>\n<table border=\"1\" class=\"dataframe\">\n  <thead>\n    <tr style=\"text-align: right;\">\n      <th></th>\n      <th>p</th>\n      <th>q</th>\n      <th>accuracy (mean)</th>\n      <th>accuracy (std)</th>\n    </tr>\n  </thead>\n  <tbody>\n    <tr>\n      <th>0</th>\n      <td>0.2</td>\n      <td>0.2</td>\n      <td>0.755474</td>\n      <td>0.025458</td>\n    </tr>\n    <tr>\n      <th>1</th>\n      <td>0.4</td>\n      <td>0.2</td>\n      <td>0.754448</td>\n      <td>0.026905</td>\n    </tr>\n    <tr>\n      <th>2</th>\n      <td>0.6</td>\n      <td>0.2</td>\n      <td>0.753115</td>\n      <td>0.022557</td>\n    </tr>\n    <tr>\n      <th>3</th>\n      <td>0.8</td>\n      <td>0.2</td>\n      <td>0.753269</td>\n      <td>0.023676</td>\n    </tr>\n    <tr>\n      <th>4</th>\n      <td>1.0</td>\n      <td>0.2</td>\n      <td>0.753269</td>\n      <td>0.023621</td>\n    </tr>\n    <tr>\n      <th>...</th>\n      <td>...</td>\n      <td>...</td>\n      <td>...</td>\n      <td>...</td>\n    </tr>\n    <tr>\n      <th>59</th>\n      <td>0.8</td>\n      <td>10.0</td>\n      <td>0.757883</td>\n      <td>0.022453</td>\n    </tr>\n    <tr>\n      <th>60</th>\n      <td>1.0</td>\n      <td>10.0</td>\n      <td>0.757473</td>\n      <td>0.026049</td>\n    </tr>\n    <tr>\n      <th>61</th>\n      <td>4.0</td>\n      <td>10.0</td>\n      <td>0.756345</td>\n      <td>0.023831</td>\n    </tr>\n    <tr>\n      <th>62</th>\n      <td>7.0</td>\n      <td>10.0</td>\n      <td>0.757063</td>\n      <td>0.022390</td>\n    </tr>\n    <tr>\n      <th>63</th>\n      <td>10.0</td>\n      <td>10.0</td>\n      <td>0.758499</td>\n      <td>0.025377</td>\n    </tr>\n  </tbody>\n</table>\n<p>64 rows × 4 columns</p>\n</div>"
     },
     "metadata": {},
     "output_type": "display_data"
    }
   ],
   "source": [
    "from IPython.display import clear_output, display\n",
    "\n",
    "n = 100\n",
    "length = 3\n",
    "\n",
    "q_values = np.array([0.2, 0.4, 0.6, 0.8, 1.0, 4.0, 7.0, 10.0])\n",
    "p_values = np.array([0.2, 0.4, 0.6, 0.8, 1.0, 4.0, 7.0, 10.0])\n",
    "\n",
    "results = None\n",
    "\n",
    "for q in q_values:\n",
    "    for p in p_values:\n",
    "\n",
    "        # calculate embeddings\n",
    "        word2vec_results = word2vec_run(stellarnx, n=n, length=length, p=p, q=q)\n",
    "\n",
    "        # calculate average accuracy\n",
    "        accuracy = []\n",
    "        for i in np.arange(1,100):\n",
    "            classification_performance = predict_node_classes(balanced_embeddings, balanced_labels)\n",
    "            accuracy = np.append(accuracy, [classification_performance.accuracy])\n",
    "        mean = np.mean(accuracy)\n",
    "        std = np.std(accuracy)\n",
    "\n",
    "        # output the results\n",
    "        # print(\"Word2Vec performance for p={} and q={} --> {} (std: {})\".format(p, q, mean, std))\n",
    "\n",
    "        if results is None:\n",
    "            results = np.array([[p, q, mean, std]])\n",
    "        else:\n",
    "            results = np.append(results, np.array([[p, q, mean, std]]), axis=0)\n",
    "        results_table = pd.DataFrame(data=results, columns=['p', 'q', 'accuracy (mean)', 'accuracy (std)'])\n",
    "\n",
    "        clear_output(wait=True)\n",
    "        # print(results)\n",
    "        display(results_table)"
   ],
   "metadata": {
    "collapsed": false,
    "pycharm": {
     "name": "#%%\n"
    }
   }
  },
  {
   "cell_type": "code",
   "execution_count": 220,
   "outputs": [
    {
     "data": {
      "text/plain": "       p     q  accuracy (mean)  accuracy (std)\n0    0.2   0.2         0.755474        0.025458\n1    0.4   0.2         0.754448        0.026905\n2    0.6   0.2         0.753115        0.022557\n3    0.8   0.2         0.753269        0.023676\n4    1.0   0.2         0.753269        0.023621\n..   ...   ...              ...             ...\n59   0.8  10.0         0.757883        0.022453\n60   1.0  10.0         0.757473        0.026049\n61   4.0  10.0         0.756345        0.023831\n62   7.0  10.0         0.757063        0.022390\n63  10.0  10.0         0.758499        0.025377\n\n[64 rows x 4 columns]",
      "text/html": "<div>\n<style scoped>\n    .dataframe tbody tr th:only-of-type {\n        vertical-align: middle;\n    }\n\n    .dataframe tbody tr th {\n        vertical-align: top;\n    }\n\n    .dataframe thead th {\n        text-align: right;\n    }\n</style>\n<table border=\"1\" class=\"dataframe\">\n  <thead>\n    <tr style=\"text-align: right;\">\n      <th></th>\n      <th>p</th>\n      <th>q</th>\n      <th>accuracy (mean)</th>\n      <th>accuracy (std)</th>\n    </tr>\n  </thead>\n  <tbody>\n    <tr>\n      <th>0</th>\n      <td>0.2</td>\n      <td>0.2</td>\n      <td>0.755474</td>\n      <td>0.025458</td>\n    </tr>\n    <tr>\n      <th>1</th>\n      <td>0.4</td>\n      <td>0.2</td>\n      <td>0.754448</td>\n      <td>0.026905</td>\n    </tr>\n    <tr>\n      <th>2</th>\n      <td>0.6</td>\n      <td>0.2</td>\n      <td>0.753115</td>\n      <td>0.022557</td>\n    </tr>\n    <tr>\n      <th>3</th>\n      <td>0.8</td>\n      <td>0.2</td>\n      <td>0.753269</td>\n      <td>0.023676</td>\n    </tr>\n    <tr>\n      <th>4</th>\n      <td>1.0</td>\n      <td>0.2</td>\n      <td>0.753269</td>\n      <td>0.023621</td>\n    </tr>\n    <tr>\n      <th>...</th>\n      <td>...</td>\n      <td>...</td>\n      <td>...</td>\n      <td>...</td>\n    </tr>\n    <tr>\n      <th>59</th>\n      <td>0.8</td>\n      <td>10.0</td>\n      <td>0.757883</td>\n      <td>0.022453</td>\n    </tr>\n    <tr>\n      <th>60</th>\n      <td>1.0</td>\n      <td>10.0</td>\n      <td>0.757473</td>\n      <td>0.026049</td>\n    </tr>\n    <tr>\n      <th>61</th>\n      <td>4.0</td>\n      <td>10.0</td>\n      <td>0.756345</td>\n      <td>0.023831</td>\n    </tr>\n    <tr>\n      <th>62</th>\n      <td>7.0</td>\n      <td>10.0</td>\n      <td>0.757063</td>\n      <td>0.022390</td>\n    </tr>\n    <tr>\n      <th>63</th>\n      <td>10.0</td>\n      <td>10.0</td>\n      <td>0.758499</td>\n      <td>0.025377</td>\n    </tr>\n  </tbody>\n</table>\n<p>64 rows × 4 columns</p>\n</div>"
     },
     "execution_count": 220,
     "metadata": {},
     "output_type": "execute_result"
    }
   ],
   "source": [
    "results_table"
   ],
   "metadata": {
    "collapsed": false,
    "pycharm": {
     "name": "#%%\n"
    }
   }
  },
  {
   "cell_type": "code",
   "execution_count": 223,
   "outputs": [
    {
     "name": "stdout",
     "output_type": "stream",
     "text": [
      "link_classification: using 'dot' method to combine node embeddings into edge embeddings\n"
     ]
    },
    {
     "ename": "KeyboardInterrupt",
     "evalue": "",
     "output_type": "error",
     "traceback": [
      "\u001B[0;31m---------------------------------------------------------------------------\u001B[0m",
      "\u001B[0;31mKeyboardInterrupt\u001B[0m                         Traceback (most recent call last)",
      "Input \u001B[0;32mIn [223]\u001B[0m, in \u001B[0;36m<cell line: 9>\u001B[0;34m()\u001B[0m\n\u001B[1;32m      9\u001B[0m \u001B[38;5;28;01mfor\u001B[39;00m q \u001B[38;5;129;01min\u001B[39;00m q_values:\n\u001B[1;32m     10\u001B[0m     \u001B[38;5;28;01mfor\u001B[39;00m p \u001B[38;5;129;01min\u001B[39;00m p_values:\n\u001B[1;32m     11\u001B[0m \n\u001B[1;32m     12\u001B[0m         \u001B[38;5;66;03m# calculate embeddings\u001B[39;00m\n\u001B[0;32m---> 13\u001B[0m         word2vec_results \u001B[38;5;241m=\u001B[39m \u001B[43mword2vec_run\u001B[49m\u001B[43m(\u001B[49m\u001B[43mstellarnx\u001B[49m\u001B[43m,\u001B[49m\u001B[43m \u001B[49m\u001B[43mn\u001B[49m\u001B[38;5;241;43m=\u001B[39;49m\u001B[43mn\u001B[49m\u001B[43m,\u001B[49m\u001B[43m \u001B[49m\u001B[43mlength\u001B[49m\u001B[38;5;241;43m=\u001B[39;49m\u001B[43mlength\u001B[49m\u001B[43m,\u001B[49m\u001B[43m \u001B[49m\u001B[43mp\u001B[49m\u001B[38;5;241;43m=\u001B[39;49m\u001B[43mp\u001B[49m\u001B[43m,\u001B[49m\u001B[43m \u001B[49m\u001B[43mq\u001B[49m\u001B[38;5;241;43m=\u001B[39;49m\u001B[43mq\u001B[49m\u001B[43m)\u001B[49m\n\u001B[1;32m     15\u001B[0m         \u001B[38;5;66;03m# calculate average accuracy\u001B[39;00m\n\u001B[1;32m     16\u001B[0m         accuracy \u001B[38;5;241m=\u001B[39m []\n",
      "Input \u001B[0;32mIn [25]\u001B[0m, in \u001B[0;36mword2vec_run\u001B[0;34m(graph, **kwargs)\u001B[0m\n\u001B[1;32m     56\u001B[0m model \u001B[38;5;241m=\u001B[39m keras\u001B[38;5;241m.\u001B[39mModel(inputs\u001B[38;5;241m=\u001B[39mx_inp, outputs\u001B[38;5;241m=\u001B[39mprediction)\n\u001B[1;32m     57\u001B[0m model\u001B[38;5;241m.\u001B[39mcompile(\n\u001B[1;32m     58\u001B[0m     optimizer\u001B[38;5;241m=\u001B[39mkeras\u001B[38;5;241m.\u001B[39moptimizers\u001B[38;5;241m.\u001B[39mAdam(learning_rate\u001B[38;5;241m=\u001B[39m\u001B[38;5;241m1e-3\u001B[39m),\n\u001B[1;32m     59\u001B[0m     loss\u001B[38;5;241m=\u001B[39mkeras\u001B[38;5;241m.\u001B[39mlosses\u001B[38;5;241m.\u001B[39mbinary_crossentropy,\n\u001B[1;32m     60\u001B[0m     metrics\u001B[38;5;241m=\u001B[39m[keras\u001B[38;5;241m.\u001B[39mmetrics\u001B[38;5;241m.\u001B[39mbinary_accuracy],\n\u001B[1;32m     61\u001B[0m )\n\u001B[1;32m     63\u001B[0m history \u001B[38;5;241m=\u001B[39m model\u001B[38;5;241m.\u001B[39mfit(\n\u001B[0;32m---> 64\u001B[0m \u001B[43mgenerator\u001B[49m\u001B[38;5;241;43m.\u001B[39;49m\u001B[43mflow\u001B[49m\u001B[43m(\u001B[49m\u001B[43munsupervised_samples\u001B[49m\u001B[43m)\u001B[49m,\n\u001B[1;32m     65\u001B[0m     epochs\u001B[38;5;241m=\u001B[39mnode2vec_config[\u001B[38;5;124m'\u001B[39m\u001B[38;5;124mepochs\u001B[39m\u001B[38;5;124m'\u001B[39m],\n\u001B[1;32m     66\u001B[0m     verbose\u001B[38;5;241m=\u001B[39m\u001B[38;5;241m1\u001B[39m,\n\u001B[1;32m     67\u001B[0m     use_multiprocessing\u001B[38;5;241m=\u001B[39m\u001B[38;5;28;01mFalse\u001B[39;00m,\n\u001B[1;32m     68\u001B[0m     workers\u001B[38;5;241m=\u001B[39m\u001B[38;5;241m4\u001B[39m,\n\u001B[1;32m     69\u001B[0m     shuffle\u001B[38;5;241m=\u001B[39m\u001B[38;5;28;01mTrue\u001B[39;00m,\n\u001B[1;32m     70\u001B[0m )\n\u001B[1;32m     72\u001B[0m \u001B[38;5;66;03m#\u001B[39;00m\n\u001B[1;32m     73\u001B[0m \u001B[38;5;66;03m# NODE PREDICTION MODEL\u001B[39;00m\n\u001B[1;32m     74\u001B[0m \u001B[38;5;66;03m#\u001B[39;00m\n\u001B[1;32m     76\u001B[0m x_inp_src \u001B[38;5;241m=\u001B[39m x_inp[\u001B[38;5;241m0\u001B[39m]\n",
      "File \u001B[0;32m~/Library/Caches/pypoetry/virtualenvs/graph-classification-experiments-RDFHJCIl-py3.8/lib/python3.8/site-packages/stellargraph/mapper/sampled_link_generators.py:128\u001B[0m, in \u001B[0;36mBatchedLinkGenerator.flow\u001B[0;34m(self, link_ids, targets, shuffle, seed)\u001B[0m\n\u001B[1;32m    126\u001B[0m \u001B[38;5;66;03m# Pass sampler to on-demand link sequence generation\u001B[39;00m\n\u001B[1;32m    127\u001B[0m \u001B[38;5;28;01mif\u001B[39;00m \u001B[38;5;28misinstance\u001B[39m(link_ids, UnsupervisedSampler):\n\u001B[0;32m--> 128\u001B[0m     \u001B[38;5;28;01mreturn\u001B[39;00m \u001B[43mOnDemandLinkSequence\u001B[49m\u001B[43m(\u001B[49m\u001B[38;5;28;43mself\u001B[39;49m\u001B[38;5;241;43m.\u001B[39;49m\u001B[43msample_features\u001B[49m\u001B[43m,\u001B[49m\u001B[43m \u001B[49m\u001B[38;5;28;43mself\u001B[39;49m\u001B[38;5;241;43m.\u001B[39;49m\u001B[43mbatch_size\u001B[49m\u001B[43m,\u001B[49m\u001B[43m \u001B[49m\u001B[43mlink_ids\u001B[49m\u001B[43m)\u001B[49m\n\u001B[1;32m    130\u001B[0m \u001B[38;5;66;03m# Otherwise pass iterable (check?) to standard LinkSequence\u001B[39;00m\n\u001B[1;32m    131\u001B[0m \u001B[38;5;28;01melif\u001B[39;00m \u001B[38;5;28misinstance\u001B[39m(link_ids, collections\u001B[38;5;241m.\u001B[39mabc\u001B[38;5;241m.\u001B[39mIterable):\n\u001B[1;32m    132\u001B[0m     \u001B[38;5;66;03m# Check all IDs are actually in the graph and are of expected type\u001B[39;00m\n",
      "File \u001B[0;32m~/Library/Caches/pypoetry/virtualenvs/graph-classification-experiments-RDFHJCIl-py3.8/lib/python3.8/site-packages/stellargraph/mapper/sequences.py:289\u001B[0m, in \u001B[0;36mOnDemandLinkSequence.__init__\u001B[0;34m(self, sample_function, batch_size, walker, shuffle)\u001B[0m\n\u001B[1;32m    287\u001B[0m \u001B[38;5;28mself\u001B[39m\u001B[38;5;241m.\u001B[39mshuffle \u001B[38;5;241m=\u001B[39m shuffle\n\u001B[1;32m    288\u001B[0m \u001B[38;5;66;03m# FIXME(#681): all batches are created at once, so this is no longer \"on demand\"\u001B[39;00m\n\u001B[0;32m--> 289\u001B[0m \u001B[38;5;28mself\u001B[39m\u001B[38;5;241m.\u001B[39m_batches \u001B[38;5;241m=\u001B[39m \u001B[38;5;28;43mself\u001B[39;49m\u001B[38;5;241;43m.\u001B[39;49m\u001B[43m_create_batches\u001B[49m\u001B[43m(\u001B[49m\u001B[43m)\u001B[49m\n\u001B[1;32m    290\u001B[0m \u001B[38;5;28mself\u001B[39m\u001B[38;5;241m.\u001B[39mlength \u001B[38;5;241m=\u001B[39m \u001B[38;5;28mlen\u001B[39m(\u001B[38;5;28mself\u001B[39m\u001B[38;5;241m.\u001B[39m_batches)\n\u001B[1;32m    291\u001B[0m \u001B[38;5;28mself\u001B[39m\u001B[38;5;241m.\u001B[39mdata_size \u001B[38;5;241m=\u001B[39m \u001B[38;5;28msum\u001B[39m(\u001B[38;5;28mlen\u001B[39m(batch[\u001B[38;5;241m0\u001B[39m]) \u001B[38;5;28;01mfor\u001B[39;00m batch \u001B[38;5;129;01min\u001B[39;00m \u001B[38;5;28mself\u001B[39m\u001B[38;5;241m.\u001B[39m_batches)\n",
      "File \u001B[0;32m~/Library/Caches/pypoetry/virtualenvs/graph-classification-experiments-RDFHJCIl-py3.8/lib/python3.8/site-packages/stellargraph/mapper/sequences.py:326\u001B[0m, in \u001B[0;36mOnDemandLinkSequence._create_batches\u001B[0;34m(self)\u001B[0m\n\u001B[1;32m    325\u001B[0m \u001B[38;5;28;01mdef\u001B[39;00m \u001B[38;5;21m_create_batches\u001B[39m(\u001B[38;5;28mself\u001B[39m):\n\u001B[0;32m--> 326\u001B[0m     \u001B[38;5;28;01mreturn\u001B[39;00m \u001B[38;5;28;43mself\u001B[39;49m\u001B[38;5;241;43m.\u001B[39;49m\u001B[43mwalker\u001B[49m\u001B[38;5;241;43m.\u001B[39;49m\u001B[43mrun\u001B[49m\u001B[43m(\u001B[49m\u001B[38;5;28;43mself\u001B[39;49m\u001B[38;5;241;43m.\u001B[39;49m\u001B[43mbatch_size\u001B[49m\u001B[43m)\u001B[49m\n",
      "File \u001B[0;32m~/Library/Caches/pypoetry/virtualenvs/graph-classification-experiments-RDFHJCIl-py3.8/lib/python3.8/site-packages/stellargraph/data/unsupervised_sampler.py:154\u001B[0m, in \u001B[0;36mUnsupervisedSampler.run\u001B[0;34m(self, batch_size)\u001B[0m\n\u001B[1;32m    149\u001B[0m sampling_distribution \u001B[38;5;241m=\u001B[39m np\u001B[38;5;241m.\u001B[39marray([degrees[n] \u001B[38;5;241m*\u001B[39m\u001B[38;5;241m*\u001B[39m \u001B[38;5;241m0.75\u001B[39m \u001B[38;5;28;01mfor\u001B[39;00m n \u001B[38;5;129;01min\u001B[39;00m all_nodes])\n\u001B[1;32m    150\u001B[0m sampling_distribution_norm \u001B[38;5;241m=\u001B[39m sampling_distribution \u001B[38;5;241m/\u001B[39m np\u001B[38;5;241m.\u001B[39msum(\n\u001B[1;32m    151\u001B[0m     sampling_distribution\n\u001B[1;32m    152\u001B[0m )\n\u001B[0;32m--> 154\u001B[0m walks \u001B[38;5;241m=\u001B[39m \u001B[38;5;28;43mself\u001B[39;49m\u001B[38;5;241;43m.\u001B[39;49m\u001B[43mwalker\u001B[49m\u001B[38;5;241;43m.\u001B[39;49m\u001B[43mrun\u001B[49m\u001B[43m(\u001B[49m\u001B[43mnodes\u001B[49m\u001B[38;5;241;43m=\u001B[39;49m\u001B[38;5;28;43mself\u001B[39;49m\u001B[38;5;241;43m.\u001B[39;49m\u001B[43mnodes\u001B[49m\u001B[43m)\u001B[49m\n\u001B[1;32m    156\u001B[0m \u001B[38;5;66;03m# first item in each walk is the target/head node\u001B[39;00m\n\u001B[1;32m    157\u001B[0m targets \u001B[38;5;241m=\u001B[39m [walk[\u001B[38;5;241m0\u001B[39m] \u001B[38;5;28;01mfor\u001B[39;00m walk \u001B[38;5;129;01min\u001B[39;00m walks]\n",
      "File \u001B[0;32m~/Library/Caches/pypoetry/virtualenvs/graph-classification-experiments-RDFHJCIl-py3.8/lib/python3.8/site-packages/stellargraph/data/explorer.py:500\u001B[0m, in \u001B[0;36mBiasedRandomWalk.run\u001B[0;34m(self, nodes, n, length, p, q, seed, weighted)\u001B[0m\n\u001B[1;32m    498\u001B[0m mask \u001B[38;5;241m=\u001B[39m neighbours \u001B[38;5;241m==\u001B[39m previous_node\n\u001B[1;32m    499\u001B[0m weights[mask] \u001B[38;5;241m*\u001B[39m\u001B[38;5;241m=\u001B[39m ip\n\u001B[0;32m--> 500\u001B[0m mask \u001B[38;5;241m|\u001B[39m\u001B[38;5;241m=\u001B[39m \u001B[43mnp\u001B[49m\u001B[38;5;241;43m.\u001B[39;49m\u001B[43misin\u001B[49m\u001B[43m(\u001B[49m\u001B[43mneighbours\u001B[49m\u001B[43m,\u001B[49m\u001B[43m \u001B[49m\u001B[43mprevious_node_neighbours\u001B[49m\u001B[43m)\u001B[49m\n\u001B[1;32m    501\u001B[0m weights[\u001B[38;5;241m~\u001B[39mmask] \u001B[38;5;241m*\u001B[39m\u001B[38;5;241m=\u001B[39m iq\n\u001B[1;32m    503\u001B[0m choice \u001B[38;5;241m=\u001B[39m naive_weighted_choices(rs, weights)\n",
      "File \u001B[0;32m<__array_function__ internals>:180\u001B[0m, in \u001B[0;36misin\u001B[0;34m(*args, **kwargs)\u001B[0m\n",
      "File \u001B[0;32m~/Library/Caches/pypoetry/virtualenvs/graph-classification-experiments-RDFHJCIl-py3.8/lib/python3.8/site-packages/numpy/lib/arraysetops.py:735\u001B[0m, in \u001B[0;36misin\u001B[0;34m(element, test_elements, assume_unique, invert)\u001B[0m\n\u001B[1;32m    642\u001B[0m \u001B[38;5;124;03m\"\"\"\u001B[39;00m\n\u001B[1;32m    643\u001B[0m \u001B[38;5;124;03mCalculates `element in test_elements`, broadcasting over `element` only.\u001B[39;00m\n\u001B[1;32m    644\u001B[0m \u001B[38;5;124;03mReturns a boolean array of the same shape as `element` that is True\u001B[39;00m\n\u001B[0;32m   (...)\u001B[0m\n\u001B[1;32m    732\u001B[0m \u001B[38;5;124;03m       [ True, False]])\u001B[39;00m\n\u001B[1;32m    733\u001B[0m \u001B[38;5;124;03m\"\"\"\u001B[39;00m\n\u001B[1;32m    734\u001B[0m element \u001B[38;5;241m=\u001B[39m np\u001B[38;5;241m.\u001B[39masarray(element)\n\u001B[0;32m--> 735\u001B[0m \u001B[38;5;28;01mreturn\u001B[39;00m \u001B[43min1d\u001B[49m\u001B[43m(\u001B[49m\u001B[43melement\u001B[49m\u001B[43m,\u001B[49m\u001B[43m \u001B[49m\u001B[43mtest_elements\u001B[49m\u001B[43m,\u001B[49m\u001B[43m \u001B[49m\u001B[43massume_unique\u001B[49m\u001B[38;5;241;43m=\u001B[39;49m\u001B[43massume_unique\u001B[49m\u001B[43m,\u001B[49m\n\u001B[1;32m    736\u001B[0m \u001B[43m            \u001B[49m\u001B[43minvert\u001B[49m\u001B[38;5;241;43m=\u001B[39;49m\u001B[43minvert\u001B[49m\u001B[43m)\u001B[49m\u001B[38;5;241m.\u001B[39mreshape(element\u001B[38;5;241m.\u001B[39mshape)\n",
      "File \u001B[0;32m<__array_function__ internals>:180\u001B[0m, in \u001B[0;36min1d\u001B[0;34m(*args, **kwargs)\u001B[0m\n",
      "File \u001B[0;32m~/Library/Caches/pypoetry/virtualenvs/graph-classification-experiments-RDFHJCIl-py3.8/lib/python3.8/site-packages/numpy/lib/arraysetops.py:614\u001B[0m, in \u001B[0;36min1d\u001B[0;34m(ar1, ar2, assume_unique, invert)\u001B[0m\n\u001B[1;32m    612\u001B[0m \u001B[38;5;28;01mif\u001B[39;00m \u001B[38;5;129;01mnot\u001B[39;00m assume_unique:\n\u001B[1;32m    613\u001B[0m     ar1, rev_idx \u001B[38;5;241m=\u001B[39m np\u001B[38;5;241m.\u001B[39munique(ar1, return_inverse\u001B[38;5;241m=\u001B[39m\u001B[38;5;28;01mTrue\u001B[39;00m)\n\u001B[0;32m--> 614\u001B[0m     ar2 \u001B[38;5;241m=\u001B[39m \u001B[43mnp\u001B[49m\u001B[38;5;241;43m.\u001B[39;49m\u001B[43munique\u001B[49m\u001B[43m(\u001B[49m\u001B[43mar2\u001B[49m\u001B[43m)\u001B[49m\n\u001B[1;32m    616\u001B[0m ar \u001B[38;5;241m=\u001B[39m np\u001B[38;5;241m.\u001B[39mconcatenate((ar1, ar2))\n\u001B[1;32m    617\u001B[0m \u001B[38;5;66;03m# We need this to be a stable sort, so always use 'mergesort'\u001B[39;00m\n\u001B[1;32m    618\u001B[0m \u001B[38;5;66;03m# here. The values from the first array should always come before\u001B[39;00m\n\u001B[1;32m    619\u001B[0m \u001B[38;5;66;03m# the values from the second array.\u001B[39;00m\n",
      "File \u001B[0;32m<__array_function__ internals>:180\u001B[0m, in \u001B[0;36munique\u001B[0;34m(*args, **kwargs)\u001B[0m\n",
      "File \u001B[0;32m~/Library/Caches/pypoetry/virtualenvs/graph-classification-experiments-RDFHJCIl-py3.8/lib/python3.8/site-packages/numpy/lib/arraysetops.py:272\u001B[0m, in \u001B[0;36munique\u001B[0;34m(ar, return_index, return_inverse, return_counts, axis)\u001B[0m\n\u001B[1;32m    270\u001B[0m ar \u001B[38;5;241m=\u001B[39m np\u001B[38;5;241m.\u001B[39masanyarray(ar)\n\u001B[1;32m    271\u001B[0m \u001B[38;5;28;01mif\u001B[39;00m axis \u001B[38;5;129;01mis\u001B[39;00m \u001B[38;5;28;01mNone\u001B[39;00m:\n\u001B[0;32m--> 272\u001B[0m     ret \u001B[38;5;241m=\u001B[39m \u001B[43m_unique1d\u001B[49m\u001B[43m(\u001B[49m\u001B[43mar\u001B[49m\u001B[43m,\u001B[49m\u001B[43m \u001B[49m\u001B[43mreturn_index\u001B[49m\u001B[43m,\u001B[49m\u001B[43m \u001B[49m\u001B[43mreturn_inverse\u001B[49m\u001B[43m,\u001B[49m\u001B[43m \u001B[49m\u001B[43mreturn_counts\u001B[49m\u001B[43m)\u001B[49m\n\u001B[1;32m    273\u001B[0m     \u001B[38;5;28;01mreturn\u001B[39;00m _unpack_tuple(ret)\n\u001B[1;32m    275\u001B[0m \u001B[38;5;66;03m# axis was specified and not None\u001B[39;00m\n",
      "File \u001B[0;32m~/Library/Caches/pypoetry/virtualenvs/graph-classification-experiments-RDFHJCIl-py3.8/lib/python3.8/site-packages/numpy/lib/arraysetops.py:325\u001B[0m, in \u001B[0;36m_unique1d\u001B[0;34m(ar, return_index, return_inverse, return_counts)\u001B[0m\n\u001B[1;32m    320\u001B[0m \u001B[38;5;28;01mdef\u001B[39;00m \u001B[38;5;21m_unique1d\u001B[39m(ar, return_index\u001B[38;5;241m=\u001B[39m\u001B[38;5;28;01mFalse\u001B[39;00m, return_inverse\u001B[38;5;241m=\u001B[39m\u001B[38;5;28;01mFalse\u001B[39;00m,\n\u001B[1;32m    321\u001B[0m               return_counts\u001B[38;5;241m=\u001B[39m\u001B[38;5;28;01mFalse\u001B[39;00m):\n\u001B[1;32m    322\u001B[0m     \u001B[38;5;124;03m\"\"\"\u001B[39;00m\n\u001B[1;32m    323\u001B[0m \u001B[38;5;124;03m    Find the unique elements of an array, ignoring shape.\u001B[39;00m\n\u001B[1;32m    324\u001B[0m \u001B[38;5;124;03m    \"\"\"\u001B[39;00m\n\u001B[0;32m--> 325\u001B[0m     ar \u001B[38;5;241m=\u001B[39m \u001B[43mnp\u001B[49m\u001B[38;5;241;43m.\u001B[39;49m\u001B[43masanyarray\u001B[49m\u001B[43m(\u001B[49m\u001B[43mar\u001B[49m\u001B[43m)\u001B[49m\u001B[38;5;241;43m.\u001B[39;49m\u001B[43mflatten\u001B[49m\u001B[43m(\u001B[49m\u001B[43m)\u001B[49m\n\u001B[1;32m    327\u001B[0m     optional_indices \u001B[38;5;241m=\u001B[39m return_index \u001B[38;5;129;01mor\u001B[39;00m return_inverse\n\u001B[1;32m    329\u001B[0m     \u001B[38;5;28;01mif\u001B[39;00m optional_indices:\n",
      "\u001B[0;31mKeyboardInterrupt\u001B[0m: "
     ]
    }
   ],
   "source": [
    "n = 5\n",
    "length = 50\n",
    "\n",
    "q_values = np.array([0.2, 1.0, 5.0, 10.0])\n",
    "p_values = np.array([0.2, 1.0, 5.0, 10.0])\n",
    "\n",
    "results2 = None\n",
    "\n",
    "for q in q_values:\n",
    "    for p in p_values:\n",
    "\n",
    "        # calculate embeddings\n",
    "        word2vec_results = word2vec_run(stellarnx, n=n, length=length, p=p, q=q)\n",
    "\n",
    "        # calculate average accuracy\n",
    "        accuracy = []\n",
    "        for i in np.arange(1,100):\n",
    "            classification_performance = predict_node_classes(balanced_embeddings, balanced_labels)\n",
    "            accuracy = np.append(accuracy, [classification_performance.accuracy])\n",
    "        mean = np.mean(accuracy)\n",
    "        std = np.std(accuracy)\n",
    "\n",
    "        # output the results\n",
    "        # print(\"Word2Vec performance for p={} and q={} --> {} (std: {})\".format(p, q, mean, std))\n",
    "\n",
    "        if results2 is None:\n",
    "            results2 = np.array([[p, q, mean, std]])\n",
    "        else:\n",
    "            results2 = np.append(results2, np.array([[p, q, mean, std]]), axis=0)\n",
    "        results_table2 = pd.DataFrame(data=results2, columns=['p', 'q', 'accuracy (mean)', 'accuracy (std)'])\n",
    "\n",
    "        clear_output(wait=True)\n",
    "        # print(results)\n",
    "        display(results_table2)"
   ],
   "metadata": {
    "collapsed": false,
    "pycharm": {
     "name": "#%%\n"
    }
   }
  },
  {
   "cell_type": "code",
   "execution_count": null,
   "outputs": [],
   "source": [],
   "metadata": {
    "collapsed": false,
    "pycharm": {
     "name": "#%%\n"
    }
   }
  }
 ],
 "metadata": {
  "kernelspec": {
   "display_name": "Python 3",
   "language": "python",
   "name": "python3"
  },
  "language_info": {
   "codemirror_mode": {
    "name": "ipython",
    "version": 2
   },
   "file_extension": ".py",
   "mimetype": "text/x-python",
   "name": "python",
   "nbconvert_exporter": "python",
   "pygments_lexer": "ipython2",
   "version": "2.7.6"
  }
 },
 "nbformat": 4,
 "nbformat_minor": 0
}