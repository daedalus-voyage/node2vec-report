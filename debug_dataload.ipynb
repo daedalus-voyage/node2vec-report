{
 "cells": [
  {
   "cell_type": "code",
   "execution_count": 19,
   "metadata": {
    "collapsed": true,
    "pycharm": {
     "name": "#%%\n"
    }
   },
   "outputs": [
    {
     "data": {
      "text/plain": "dict_keys(['__header__', '__version__', '__globals__', 'group', 'network'])"
     },
     "execution_count": 19,
     "metadata": {},
     "output_type": "execute_result"
    }
   ],
   "source": [
    "import numpy as np\n",
    "from scipy import sparse\n",
    "from scipy.io import loadmat\n",
    "\n",
    "fn = './data/Homo_sapiens.mat'\n",
    "# hs = loadmat(fn, matlab_compatible=True, verify_compressed_data_integrity=True)\n",
    "hs = loadmat(fn, verify_compressed_data_integrity=True)\n",
    "hs1 = loadmat(fn, matlab_compatible=True, verify_compressed_data_integrity=True)\n",
    "hs2 = loadmat(fn, verify_compressed_data_integrity=True)\n",
    "hs.keys()"
   ]
  },
  {
   "cell_type": "code",
   "execution_count": 20,
   "outputs": [
    {
     "data": {
      "text/plain": "<3890x3890 sparse matrix of type '<class 'numpy.float64'>'\n\twith 76584 stored elements in Compressed Sparse Column format>"
     },
     "execution_count": 20,
     "metadata": {},
     "output_type": "execute_result"
    }
   ],
   "source": [
    "hs['network']"
   ],
   "metadata": {
    "collapsed": false,
    "pycharm": {
     "name": "#%%\n"
    }
   }
  },
  {
   "cell_type": "code",
   "execution_count": 23,
   "outputs": [
    {
     "ename": "TypeError",
     "evalue": "no supported conversion for types: (dtype('O'),)",
     "output_type": "error",
     "traceback": [
      "\u001B[0;31m---------------------------------------------------------------------------\u001B[0m",
      "\u001B[0;31mTypeError\u001B[0m                                 Traceback (most recent call last)",
      "File \u001B[0;32m~/Library/Caches/pypoetry/virtualenvs/graph-classification-experiments-RDFHJCIl-py3.8/lib/python3.8/site-packages/scipy/sparse/_base.py:376\u001B[0m, in \u001B[0;36mspmatrix.asformat\u001B[0;34m(self, format, copy)\u001B[0m\n\u001B[1;32m    375\u001B[0m \u001B[38;5;28;01mtry\u001B[39;00m:\n\u001B[0;32m--> 376\u001B[0m     \u001B[38;5;28;01mreturn\u001B[39;00m \u001B[43mconvert_method\u001B[49m\u001B[43m(\u001B[49m\u001B[43mcopy\u001B[49m\u001B[38;5;241;43m=\u001B[39;49m\u001B[43mcopy\u001B[49m\u001B[43m)\u001B[49m\n\u001B[1;32m    377\u001B[0m \u001B[38;5;28;01mexcept\u001B[39;00m \u001B[38;5;167;01mTypeError\u001B[39;00m:\n",
      "File \u001B[0;32m~/Library/Caches/pypoetry/virtualenvs/graph-classification-experiments-RDFHJCIl-py3.8/lib/python3.8/site-packages/scipy/sparse/_coo.py:402\u001B[0m, in \u001B[0;36mcoo_matrix.tocsr\u001B[0;34m(self, copy)\u001B[0m\n\u001B[1;32m    401\u001B[0m indices \u001B[38;5;241m=\u001B[39m np\u001B[38;5;241m.\u001B[39mempty_like(col, dtype\u001B[38;5;241m=\u001B[39midx_dtype)\n\u001B[0;32m--> 402\u001B[0m data \u001B[38;5;241m=\u001B[39m np\u001B[38;5;241m.\u001B[39mempty_like(\u001B[38;5;28mself\u001B[39m\u001B[38;5;241m.\u001B[39mdata, dtype\u001B[38;5;241m=\u001B[39m\u001B[43mupcast\u001B[49m\u001B[43m(\u001B[49m\u001B[38;5;28;43mself\u001B[39;49m\u001B[38;5;241;43m.\u001B[39;49m\u001B[43mdtype\u001B[49m\u001B[43m)\u001B[49m)\n\u001B[1;32m    404\u001B[0m coo_tocsr(M, N, \u001B[38;5;28mself\u001B[39m\u001B[38;5;241m.\u001B[39mnnz, row, col, \u001B[38;5;28mself\u001B[39m\u001B[38;5;241m.\u001B[39mdata,\n\u001B[1;32m    405\u001B[0m           indptr, indices, data)\n",
      "File \u001B[0;32m~/Library/Caches/pypoetry/virtualenvs/graph-classification-experiments-RDFHJCIl-py3.8/lib/python3.8/site-packages/scipy/sparse/_sputils.py:51\u001B[0m, in \u001B[0;36mupcast\u001B[0;34m(*args)\u001B[0m\n\u001B[1;32m     49\u001B[0m         \u001B[38;5;28;01mreturn\u001B[39;00m t\n\u001B[0;32m---> 51\u001B[0m \u001B[38;5;28;01mraise\u001B[39;00m \u001B[38;5;167;01mTypeError\u001B[39;00m(\u001B[38;5;124m'\u001B[39m\u001B[38;5;124mno supported conversion for types: \u001B[39m\u001B[38;5;132;01m%r\u001B[39;00m\u001B[38;5;124m'\u001B[39m \u001B[38;5;241m%\u001B[39m (args,))\n",
      "\u001B[0;31mTypeError\u001B[0m: no supported conversion for types: (dtype('O'),)",
      "\nDuring handling of the above exception, another exception occurred:\n",
      "\u001B[0;31mTypeError\u001B[0m                                 Traceback (most recent call last)",
      "Input \u001B[0;32mIn [23]\u001B[0m, in \u001B[0;36m<cell line: 4>\u001B[0;34m()\u001B[0m\n\u001B[1;32m      1\u001B[0m \u001B[38;5;28;01mfrom\u001B[39;00m \u001B[38;5;21;01migraph\u001B[39;00m \u001B[38;5;28;01mimport\u001B[39;00m Graph\n\u001B[1;32m      3\u001B[0m data \u001B[38;5;241m=\u001B[39m hs1\n\u001B[0;32m----> 4\u001B[0m network \u001B[38;5;241m=\u001B[39m np\u001B[38;5;241m.\u001B[39marray(\u001B[43msparse\u001B[49m\u001B[38;5;241;43m.\u001B[39;49m\u001B[43mcsr_matrix\u001B[49m\u001B[43m(\u001B[49m\u001B[43mdata\u001B[49m\u001B[43m)\u001B[49m\u001B[38;5;241m.\u001B[39mtodense())\n\u001B[1;32m      5\u001B[0m \u001B[38;5;66;03m# group = np.array(sparse.csr_matrix(data).todense())\u001B[39;00m\n\u001B[1;32m      7\u001B[0m graph: Graph \u001B[38;5;241m=\u001B[39m Graph\u001B[38;5;241m.\u001B[39mAdjacency(network)\n",
      "File \u001B[0;32m~/Library/Caches/pypoetry/virtualenvs/graph-classification-experiments-RDFHJCIl-py3.8/lib/python3.8/site-packages/scipy/sparse/_compressed.py:84\u001B[0m, in \u001B[0;36m_cs_matrix.__init__\u001B[0;34m(self, arg1, shape, dtype, copy)\u001B[0m\n\u001B[1;32m     81\u001B[0m     \u001B[38;5;28;01mexcept\u001B[39;00m \u001B[38;5;167;01mException\u001B[39;00m \u001B[38;5;28;01mas\u001B[39;00m e:\n\u001B[1;32m     82\u001B[0m         \u001B[38;5;28;01mraise\u001B[39;00m \u001B[38;5;167;01mValueError\u001B[39;00m(\u001B[38;5;124m\"\u001B[39m\u001B[38;5;124munrecognized \u001B[39m\u001B[38;5;132;01m{}\u001B[39;00m\u001B[38;5;124m_matrix constructor usage\u001B[39m\u001B[38;5;124m\"\u001B[39m\n\u001B[1;32m     83\u001B[0m                          \u001B[38;5;124m\"\u001B[39m\u001B[38;5;124m\"\u001B[39m\u001B[38;5;241m.\u001B[39mformat(\u001B[38;5;28mself\u001B[39m\u001B[38;5;241m.\u001B[39mformat)) \u001B[38;5;28;01mfrom\u001B[39;00m \u001B[38;5;21;01me\u001B[39;00m\n\u001B[0;32m---> 84\u001B[0m     \u001B[38;5;28mself\u001B[39m\u001B[38;5;241m.\u001B[39m_set_self(\u001B[38;5;28;43mself\u001B[39;49m\u001B[38;5;241;43m.\u001B[39;49m\u001B[38;5;18;43m__class__\u001B[39;49m\u001B[43m(\u001B[49m\n\u001B[1;32m     85\u001B[0m \u001B[43m        \u001B[49m\u001B[38;5;28;43mself\u001B[39;49m\u001B[38;5;241;43m.\u001B[39;49m\u001B[43m_coo_container\u001B[49m\u001B[43m(\u001B[49m\u001B[43marg1\u001B[49m\u001B[43m,\u001B[49m\u001B[43m \u001B[49m\u001B[43mdtype\u001B[49m\u001B[38;5;241;43m=\u001B[39;49m\u001B[43mdtype\u001B[49m\u001B[43m)\u001B[49m\n\u001B[1;32m     86\u001B[0m \u001B[43m    \u001B[49m\u001B[43m)\u001B[49m)\n\u001B[1;32m     88\u001B[0m \u001B[38;5;66;03m# Read matrix dimensions given, if any\u001B[39;00m\n\u001B[1;32m     89\u001B[0m \u001B[38;5;28;01mif\u001B[39;00m shape \u001B[38;5;129;01mis\u001B[39;00m \u001B[38;5;129;01mnot\u001B[39;00m \u001B[38;5;28;01mNone\u001B[39;00m:\n",
      "File \u001B[0;32m~/Library/Caches/pypoetry/virtualenvs/graph-classification-experiments-RDFHJCIl-py3.8/lib/python3.8/site-packages/scipy/sparse/_compressed.py:33\u001B[0m, in \u001B[0;36m_cs_matrix.__init__\u001B[0;34m(self, arg1, shape, dtype, copy)\u001B[0m\n\u001B[1;32m     31\u001B[0m         arg1 \u001B[38;5;241m=\u001B[39m arg1\u001B[38;5;241m.\u001B[39mcopy()\n\u001B[1;32m     32\u001B[0m     \u001B[38;5;28;01melse\u001B[39;00m:\n\u001B[0;32m---> 33\u001B[0m         arg1 \u001B[38;5;241m=\u001B[39m \u001B[43marg1\u001B[49m\u001B[38;5;241;43m.\u001B[39;49m\u001B[43masformat\u001B[49m\u001B[43m(\u001B[49m\u001B[38;5;28;43mself\u001B[39;49m\u001B[38;5;241;43m.\u001B[39;49m\u001B[43mformat\u001B[49m\u001B[43m)\u001B[49m\n\u001B[1;32m     34\u001B[0m     \u001B[38;5;28mself\u001B[39m\u001B[38;5;241m.\u001B[39m_set_self(arg1)\n\u001B[1;32m     36\u001B[0m \u001B[38;5;28;01melif\u001B[39;00m \u001B[38;5;28misinstance\u001B[39m(arg1, \u001B[38;5;28mtuple\u001B[39m):\n",
      "File \u001B[0;32m~/Library/Caches/pypoetry/virtualenvs/graph-classification-experiments-RDFHJCIl-py3.8/lib/python3.8/site-packages/scipy/sparse/_base.py:378\u001B[0m, in \u001B[0;36mspmatrix.asformat\u001B[0;34m(self, format, copy)\u001B[0m\n\u001B[1;32m    376\u001B[0m     \u001B[38;5;28;01mreturn\u001B[39;00m convert_method(copy\u001B[38;5;241m=\u001B[39mcopy)\n\u001B[1;32m    377\u001B[0m \u001B[38;5;28;01mexcept\u001B[39;00m \u001B[38;5;167;01mTypeError\u001B[39;00m:\n\u001B[0;32m--> 378\u001B[0m     \u001B[38;5;28;01mreturn\u001B[39;00m \u001B[43mconvert_method\u001B[49m\u001B[43m(\u001B[49m\u001B[43m)\u001B[49m\n",
      "File \u001B[0;32m~/Library/Caches/pypoetry/virtualenvs/graph-classification-experiments-RDFHJCIl-py3.8/lib/python3.8/site-packages/scipy/sparse/_coo.py:402\u001B[0m, in \u001B[0;36mcoo_matrix.tocsr\u001B[0;34m(self, copy)\u001B[0m\n\u001B[1;32m    400\u001B[0m indptr \u001B[38;5;241m=\u001B[39m np\u001B[38;5;241m.\u001B[39mempty(M \u001B[38;5;241m+\u001B[39m \u001B[38;5;241m1\u001B[39m, dtype\u001B[38;5;241m=\u001B[39midx_dtype)\n\u001B[1;32m    401\u001B[0m indices \u001B[38;5;241m=\u001B[39m np\u001B[38;5;241m.\u001B[39mempty_like(col, dtype\u001B[38;5;241m=\u001B[39midx_dtype)\n\u001B[0;32m--> 402\u001B[0m data \u001B[38;5;241m=\u001B[39m np\u001B[38;5;241m.\u001B[39mempty_like(\u001B[38;5;28mself\u001B[39m\u001B[38;5;241m.\u001B[39mdata, dtype\u001B[38;5;241m=\u001B[39m\u001B[43mupcast\u001B[49m\u001B[43m(\u001B[49m\u001B[38;5;28;43mself\u001B[39;49m\u001B[38;5;241;43m.\u001B[39;49m\u001B[43mdtype\u001B[49m\u001B[43m)\u001B[49m)\n\u001B[1;32m    404\u001B[0m coo_tocsr(M, N, \u001B[38;5;28mself\u001B[39m\u001B[38;5;241m.\u001B[39mnnz, row, col, \u001B[38;5;28mself\u001B[39m\u001B[38;5;241m.\u001B[39mdata,\n\u001B[1;32m    405\u001B[0m           indptr, indices, data)\n\u001B[1;32m    407\u001B[0m x \u001B[38;5;241m=\u001B[39m \u001B[38;5;28mself\u001B[39m\u001B[38;5;241m.\u001B[39m_csr_container((data, indices, indptr), shape\u001B[38;5;241m=\u001B[39m\u001B[38;5;28mself\u001B[39m\u001B[38;5;241m.\u001B[39mshape)\n",
      "File \u001B[0;32m~/Library/Caches/pypoetry/virtualenvs/graph-classification-experiments-RDFHJCIl-py3.8/lib/python3.8/site-packages/scipy/sparse/_sputils.py:51\u001B[0m, in \u001B[0;36mupcast\u001B[0;34m(*args)\u001B[0m\n\u001B[1;32m     48\u001B[0m         _upcast_memo[\u001B[38;5;28mhash\u001B[39m(args)] \u001B[38;5;241m=\u001B[39m t\n\u001B[1;32m     49\u001B[0m         \u001B[38;5;28;01mreturn\u001B[39;00m t\n\u001B[0;32m---> 51\u001B[0m \u001B[38;5;28;01mraise\u001B[39;00m \u001B[38;5;167;01mTypeError\u001B[39;00m(\u001B[38;5;124m'\u001B[39m\u001B[38;5;124mno supported conversion for types: \u001B[39m\u001B[38;5;132;01m%r\u001B[39;00m\u001B[38;5;124m'\u001B[39m \u001B[38;5;241m%\u001B[39m (args,))\n",
      "\u001B[0;31mTypeError\u001B[0m: no supported conversion for types: (dtype('O'),)"
     ]
    }
   ],
   "source": [
    "from igraph import Graph\n",
    "\n",
    "data = hs1\n",
    "network = np.array(sparse.csr_matrix(data).todense())\n",
    "# group = np.array(sparse.csr_matrix(data).todense())\n",
    "\n",
    "graph: Graph = Graph.Adjacency(network)\n",
    "graph.summary()"
   ],
   "metadata": {
    "collapsed": false,
    "pycharm": {
     "name": "#%%\n"
    }
   }
  },
  {
   "cell_type": "code",
   "execution_count": 36,
   "outputs": [
    {
     "data": {
      "text/plain": "'IGRAPH D--- 3890 76584 -- '"
     },
     "execution_count": 36,
     "metadata": {},
     "output_type": "execute_result"
    }
   ],
   "source": [
    "fn = '././data/Homo_sapiens.mat'\n",
    "data = loadmat(fn, matlab_compatible=True)\n",
    "\n",
    "network = np.array(sparse.csr_matrix(data['network'], dtype=float).todense())\n",
    "group = np.array(sparse.csr_matrix(data['group'], dtype=int).todense())\n",
    "\n",
    "graph: Graph = Graph.Adjacency(network)\n",
    "graph.summary()"
   ],
   "metadata": {
    "collapsed": false,
    "pycharm": {
     "name": "#%%\n"
    }
   }
  },
  {
   "cell_type": "code",
   "execution_count": null,
   "outputs": [],
   "source": [],
   "metadata": {
    "collapsed": false,
    "pycharm": {
     "name": "#%%\n"
    }
   }
  }
 ],
 "metadata": {
  "kernelspec": {
   "display_name": "Python 3",
   "language": "python",
   "name": "python3"
  },
  "language_info": {
   "codemirror_mode": {
    "name": "ipython",
    "version": 2
   },
   "file_extension": ".py",
   "mimetype": "text/x-python",
   "name": "python",
   "nbconvert_exporter": "python",
   "pygments_lexer": "ipython2",
   "version": "2.7.6"
  }
 },
 "nbformat": 4,
 "nbformat_minor": 0
}