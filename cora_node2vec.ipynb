{
 "cells": [
  {
   "cell_type": "markdown",
   "source": [
    "# Node2Vec using the cora dataset"
   ],
   "metadata": {
    "collapsed": false,
    "pycharm": {
     "name": "#%% md\n"
    }
   }
  },
  {
   "cell_type": "code",
   "execution_count": 2,
   "outputs": [
    {
     "name": "stderr",
     "output_type": "stream",
     "text": [
      "2022-05-26 16:39:26.172505: I tensorflow/core/platform/cpu_feature_guard.cc:151] This TensorFlow binary is optimized with oneAPI Deep Neural Network Library (oneDNN) to use the following CPU instructions in performance-critical operations:  AVX2 FMA\n",
      "To enable them in other operations, rebuild TensorFlow with the appropriate compiler flags.\n"
     ]
    }
   ],
   "source": [
    "import matplotlib.pyplot as plt\n",
    "\n",
    "from sklearn.manifold import TSNE\n",
    "from sklearn.model_selection import train_test_split\n",
    "from sklearn.linear_model import LogisticRegressionCV\n",
    "from sklearn.metrics import accuracy_score\n",
    "\n",
    "import os\n",
    "import networkx as nx\n",
    "import numpy as np\n",
    "import pandas as pd\n",
    "from tensorflow import keras\n",
    "\n",
    "from stellargraph import StellarGraph\n",
    "from stellargraph.data import BiasedRandomWalk\n",
    "from stellargraph.data import UnsupervisedSampler\n",
    "from stellargraph.data import BiasedRandomWalk\n",
    "from stellargraph.mapper import Node2VecLinkGenerator, Node2VecNodeGenerator\n",
    "from stellargraph.layer import Node2Vec, link_classification\n",
    "\n",
    "from stellargraph import datasets\n",
    "from IPython.display import display, HTML\n",
    "\n",
    "%matplotlib inline"
   ],
   "metadata": {
    "collapsed": false,
    "pycharm": {
     "name": "#%%\n"
    }
   }
  },
  {
   "cell_type": "markdown",
   "source": [
    "## Dataset\n",
    "Load in cora dataset"
   ],
   "metadata": {
    "collapsed": false,
    "pycharm": {
     "name": "#%% md\n"
    }
   }
  },
  {
   "cell_type": "code",
   "execution_count": 3,
   "outputs": [],
   "source": [
    "def get_cora_data() -> (StellarGraph, pd.Series):\n",
    "\n",
    "    dataset = datasets.Cora()\n",
    "    display(HTML(dataset.description))\n",
    "    G, subjects = dataset.load(largest_connected_component_only=True)\n",
    "\n",
    "    return G, subjects"
   ],
   "metadata": {
    "collapsed": false,
    "pycharm": {
     "name": "#%%\n"
    }
   }
  },
  {
   "cell_type": "code",
   "execution_count": 4,
   "outputs": [
    {
     "data": {
      "text/plain": "<IPython.core.display.HTML object>",
      "text/html": "The Cora dataset consists of 2708 scientific publications classified into one of seven classes. The citation network consists of 5429 links. Each publication in the dataset is described by a 0/1-valued word vector indicating the absence/presence of the corresponding word from the dictionary. The dictionary consists of 1433 unique words."
     },
     "metadata": {},
     "output_type": "display_data"
    },
    {
     "name": "stdout",
     "output_type": "stream",
     "text": [
      "StellarGraph: Undirected multigraph\n",
      " Nodes: 2485, Edges: 5209\n",
      "\n",
      " Node types:\n",
      "  paper: [2485]\n",
      "    Features: float32 vector, length 1433\n",
      "    Edge types: paper-cites->paper\n",
      "\n",
      " Edge types:\n",
      "    paper-cites->paper: [5209]\n",
      "        Weights: all 1 (default)\n",
      "        Features: none\n"
     ]
    }
   ],
   "source": [
    "G, subjects = get_cora_data()\n",
    "print(G.info())"
   ],
   "metadata": {
    "collapsed": false,
    "pycharm": {
     "name": "#%%\n"
    }
   }
  },
  {
   "cell_type": "markdown",
   "source": [
    "## Node2Vec Algorithm"
   ],
   "metadata": {
    "collapsed": false,
    "pycharm": {
     "name": "#%% md\n"
    }
   }
  },
  {
   "cell_type": "code",
   "execution_count": 5,
   "outputs": [],
   "source": [
    "def run_node2vec(graph: StellarGraph, p: float, q: float, walk_number: int = 100, walk_length: int = 5, batch_size: int = 50, epochs: int = 2, emb_size: int = 128):\n",
    "\n",
    "    # create walker\n",
    "    walker = BiasedRandomWalk(\n",
    "        graph,\n",
    "        n=walk_number,\n",
    "        length=walk_length,\n",
    "        p=p,  # defines probability, 1/p, of returning to source node\n",
    "        q=q,  # defines probability, 1/q, for moving to a node away from the source node\n",
    "    )\n",
    "\n",
    "    # samples walks in a graph\n",
    "    unsupervised_samples = UnsupervisedSampler(graph, nodes=list(graph.nodes()), walker=walker)\n",
    "\n",
    "    # generates data for context link prediction\n",
    "    generator = Node2VecLinkGenerator(graph, batch_size)\n",
    "\n",
    "    # implementation of the node2vec algorithm\n",
    "    node2vec = Node2Vec(emb_size, generator=generator)\n",
    "\n",
    "    # get input/output to hook up to keras model\n",
    "    x_inp, x_out = node2vec.in_out_tensors()\n",
    "\n",
    "    #\n",
    "    prediction = link_classification(\n",
    "        output_dim=1, output_act=\"sigmoid\", edge_embedding_method=\"dot\"\n",
    "    )(x_out)\n",
    "\n",
    "    # composes the keras mmodel\n",
    "    model = keras.Model(inputs=x_inp, outputs=prediction)\n",
    "    model.compile(\n",
    "        optimizer=keras.optimizers.Adam(lr=1e-3),\n",
    "        loss=keras.losses.binary_crossentropy,\n",
    "        metrics=[keras.metrics.binary_accuracy],\n",
    "    )\n",
    "\n",
    "    # fit the model\n",
    "    history = model.fit(\n",
    "        generator.flow(unsupervised_samples),\n",
    "        epochs=epochs,\n",
    "        verbose=1,\n",
    "        use_multiprocessing=False,\n",
    "        workers=4,\n",
    "        shuffle=True,\n",
    "    )\n",
    "\n",
    "    # generates the node embeddings\n",
    "    x_inp_src = x_inp[0]\n",
    "    x_out_src = x_out[0]\n",
    "    embedding_model = keras.Model(inputs=x_inp_src, outputs=x_out_src)\n",
    "    node_gen = Node2VecNodeGenerator(G, batch_size).flow(subjects.index)\n",
    "    node_embeddings = embedding_model.predict(node_gen, workers=4, verbose=1)\n",
    "\n",
    "    return node_embeddings"
   ],
   "metadata": {
    "collapsed": false,
    "pycharm": {
     "name": "#%%\n"
    }
   }
  },
  {
   "cell_type": "code",
   "execution_count": 6,
   "outputs": [
    {
     "name": "stdout",
     "output_type": "stream",
     "text": [
      "link_classification: using 'dot' method to combine node embeddings into edge embeddings\n"
     ]
    },
    {
     "name": "stderr",
     "output_type": "stream",
     "text": [
      "/Users/jamescauwelier/Library/Caches/pypoetry/virtualenvs/graph-classification-experiments-RDFHJCIl-py3.8/lib/python3.8/site-packages/keras/optimizer_v2/adam.py:105: UserWarning: The `lr` argument is deprecated, use `learning_rate` instead.\n",
      "  super(Adam, self).__init__(name, **kwargs)\n"
     ]
    },
    {
     "name": "stdout",
     "output_type": "stream",
     "text": [
      "Epoch 1/2\n",
      "39760/39760 [==============================] - 47s 1ms/step - loss: 0.4427 - binary_accuracy: 0.7642\n",
      "Epoch 2/2\n",
      "39760/39760 [==============================] - 50s 1ms/step - loss: 0.1342 - binary_accuracy: 0.9541\n",
      "50/50 [==============================] - 0s 3ms/step\n"
     ]
    }
   ],
   "source": [
    "embeddings = run_node2vec(G, p=0.5, q=2.0, emb_size=32)"
   ],
   "metadata": {
    "collapsed": false,
    "pycharm": {
     "name": "#%%\n"
    }
   }
  },
  {
   "cell_type": "markdown",
   "source": [
    "## Optional visualisation"
   ],
   "metadata": {
    "collapsed": false,
    "pycharm": {
     "name": "#%% md\n"
    }
   }
  },
  {
   "cell_type": "code",
   "execution_count": 7,
   "outputs": [
    {
     "name": "stderr",
     "output_type": "stream",
     "text": [
      "/Users/jamescauwelier/Library/Caches/pypoetry/virtualenvs/graph-classification-experiments-RDFHJCIl-py3.8/lib/python3.8/site-packages/sklearn/manifold/_t_sne.py:780: FutureWarning: The default initialization in TSNE will change from 'random' to 'pca' in 1.2.\n",
      "  warnings.warn(\n",
      "/Users/jamescauwelier/Library/Caches/pypoetry/virtualenvs/graph-classification-experiments-RDFHJCIl-py3.8/lib/python3.8/site-packages/sklearn/manifold/_t_sne.py:790: FutureWarning: The default learning rate in TSNE will change from 200.0 to 'auto' in 1.2.\n",
      "  warnings.warn(\n"
     ]
    },
    {
     "data": {
      "text/plain": "<Figure size 504x504 with 1 Axes>",
      "image/png": "[encoded data removed]"
     },
     "metadata": {
      "needs_background": "light"
     },
     "output_type": "display_data"
    }
   ],
   "source": [
    "transform = TSNE  # PCA\n",
    "\n",
    "trans = transform(n_components=2)\n",
    "node_embeddings_2d = trans.fit_transform(embeddings)\n",
    "\n",
    "# draw the embedding points, coloring them by the target label (paper subject)\n",
    "alpha = 0.7\n",
    "label_map = {l: i for i, l in enumerate(np.unique(subjects))}\n",
    "node_colours = [label_map[target] for target in subjects]\n",
    "\n",
    "plt.figure(figsize=(7, 7))\n",
    "plt.axes().set(aspect=\"equal\")\n",
    "plt.scatter(\n",
    "    node_embeddings_2d[:, 0],\n",
    "    node_embeddings_2d[:, 1],\n",
    "    c=node_colours,\n",
    "    cmap=\"jet\",\n",
    "    alpha=alpha,\n",
    ")\n",
    "plt.title(\"{} visualization of node embeddings\".format(transform.__name__))\n",
    "plt.show()"
   ],
   "metadata": {
    "collapsed": false,
    "pycharm": {
     "name": "#%%\n"
    }
   }
  },
  {
   "cell_type": "markdown",
   "source": [
    "## Node classification"
   ],
   "metadata": {
    "collapsed": false,
    "pycharm": {
     "name": "#%% md\n"
    }
   }
  },
  {
   "cell_type": "markdown",
   "source": [
    "### Classification function"
   ],
   "metadata": {
    "collapsed": false,
    "pycharm": {
     "name": "#%% md\n"
    }
   }
  },
  {
   "cell_type": "code",
   "execution_count": 30,
   "outputs": [],
   "source": [
    "from typing import Any\n",
    "from sklearn.metrics import f1_score, multilabel_confusion_matrix\n",
    "\n",
    "\n",
    "def run_classifier(X, y) -> (float, float, float, Any):\n",
    "\n",
    "    # splits data into test vs train\n",
    "    X_train, X_test, y_train, y_test = train_test_split(X, y, train_size=0.1, test_size=0.1)\n",
    "    print(\n",
    "        \"Array shapes:\\n X_train = {}\\n y_train = {}\\n X_test = {}\\n y_test = {}\".format(\n",
    "            X_train.shape, y_train.shape, X_test.shape, y_test.shape\n",
    "        )\n",
    "    )\n",
    "\n",
    "    # classifier training\n",
    "    clf = LogisticRegressionCV(\n",
    "        Cs=10, cv=10, scoring=\"accuracy\", verbose=False, multi_class=\"ovr\", max_iter=300\n",
    "    )\n",
    "    clf.fit(X_train, y_train)\n",
    "\n",
    "    # predict hold-out test set\n",
    "    y_pred = clf.predict(X_test)\n",
    "\n",
    "    # calculate performance\n",
    "    accuracy = accuracy_score(y_test, y_pred)\n",
    "    f1_micro = f1_score(y_test, y_pred, average=\"micro\")\n",
    "    f1_macro = f1_score(y_test, y_pred, average=\"macro\")\n",
    "    confusion = multilabel_confusion_matrix(y_test, y_pred)\n",
    "\n",
    "    return accuracy, f1_micro, f1_macro, confusion"
   ],
   "metadata": {
    "collapsed": false,
    "pycharm": {
     "name": "#%%\n"
    }
   }
  },
  {
   "cell_type": "markdown",
   "source": [
    "### Testing (default parameters)"
   ],
   "metadata": {
    "collapsed": false,
    "pycharm": {
     "name": "#%% md\n"
    }
   }
  },
  {
   "cell_type": "code",
   "execution_count": 9,
   "outputs": [
    {
     "name": "stdout",
     "output_type": "stream",
     "text": [
      "Array shapes:\n",
      " X_train = (248, 32)\n",
      " y_train = (248,)\n",
      " X_test = (2237, 32)\n",
      " y_test = (2237,)\n"
     ]
    },
    {
     "name": "stderr",
     "output_type": "stream",
     "text": [
      "/Users/jamescauwelier/Library/Caches/pypoetry/virtualenvs/graph-classification-experiments-RDFHJCIl-py3.8/lib/python3.8/site-packages/sklearn/linear_model/_logistic.py:814: ConvergenceWarning: lbfgs failed to converge (status=1):\n",
      "STOP: TOTAL NO. of ITERATIONS REACHED LIMIT.\n",
      "\n",
      "Increase the number of iterations (max_iter) or scale the data as shown in:\n",
      "    https://scikit-learn.org/stable/modules/preprocessing.html\n",
      "Please also refer to the documentation for alternative solver options:\n",
      "    https://scikit-learn.org/stable/modules/linear_model.html#logistic-regression\n",
      "  n_iter_i = _check_optimize_result(\n",
      "/Users/jamescauwelier/Library/Caches/pypoetry/virtualenvs/graph-classification-experiments-RDFHJCIl-py3.8/lib/python3.8/site-packages/sklearn/linear_model/_logistic.py:814: ConvergenceWarning: lbfgs failed to converge (status=1):\n",
      "STOP: TOTAL NO. of ITERATIONS REACHED LIMIT.\n",
      "\n",
      "Increase the number of iterations (max_iter) or scale the data as shown in:\n",
      "    https://scikit-learn.org/stable/modules/preprocessing.html\n",
      "Please also refer to the documentation for alternative solver options:\n",
      "    https://scikit-learn.org/stable/modules/linear_model.html#logistic-regression\n",
      "  n_iter_i = _check_optimize_result(\n"
     ]
    }
   ],
   "source": [
    "accuracy, f1_micro, f1_macro, confusion = run_classifier(X=embeddings, y=np.array(subjects))"
   ],
   "metadata": {
    "collapsed": false,
    "pycharm": {
     "name": "#%%\n"
    }
   }
  },
  {
   "cell_type": "code",
   "execution_count": 10,
   "outputs": [
    {
     "data": {
      "text/plain": "0.7165847116674117"
     },
     "execution_count": 10,
     "metadata": {},
     "output_type": "execute_result"
    }
   ],
   "source": [
    "accuracy"
   ],
   "metadata": {
    "collapsed": false,
    "pycharm": {
     "name": "#%%\n"
    }
   }
  },
  {
   "cell_type": "code",
   "execution_count": 11,
   "outputs": [
    {
     "data": {
      "text/plain": "0.7165847116674118"
     },
     "execution_count": 11,
     "metadata": {},
     "output_type": "execute_result"
    }
   ],
   "source": [
    "f1_micro"
   ],
   "metadata": {
    "collapsed": false,
    "pycharm": {
     "name": "#%%\n"
    }
   }
  },
  {
   "cell_type": "code",
   "execution_count": 12,
   "outputs": [
    {
     "data": {
      "text/plain": "0.7036413953163102"
     },
     "execution_count": 12,
     "metadata": {},
     "output_type": "execute_result"
    }
   ],
   "source": [
    "f1_macro"
   ],
   "metadata": {
    "collapsed": false,
    "pycharm": {
     "name": "#%%\n"
    }
   }
  },
  {
   "cell_type": "code",
   "execution_count": 13,
   "outputs": [
    {
     "data": {
      "text/plain": "array([[[1910,   71],\n        [  74,  182]],\n\n       [[1820,   51],\n        [  36,  330]],\n\n       [[1373,  216],\n        [ 163,  485]],\n\n       [[1764,  132],\n        [ 110,  231]],\n\n       [[2013,   28],\n        [  69,  127]],\n\n       [[2087,   30],\n        [  52,   68]],\n\n       [[1821,  106],\n        [ 130,  180]]])"
     },
     "execution_count": 13,
     "metadata": {},
     "output_type": "execute_result"
    }
   ],
   "source": [
    "np.array(confusion)"
   ],
   "metadata": {
    "collapsed": false,
    "pycharm": {
     "name": "#%%\n"
    }
   }
  },
  {
   "cell_type": "markdown",
   "source": [
    "## Experimenting with input values"
   ],
   "metadata": {
    "collapsed": false,
    "pycharm": {
     "name": "#%% md\n"
    }
   }
  },
  {
   "cell_type": "markdown",
   "source": [
    "### Defining experiment function"
   ],
   "metadata": {
    "collapsed": false,
    "pycharm": {
     "name": "#%% md\n"
    }
   }
  },
  {
   "cell_type": "code",
   "execution_count": 14,
   "outputs": [],
   "source": [
    "from IPython.core.display_functions import clear_output, display\n",
    "\n",
    "\n",
    "def experiment(experiment_graph: StellarGraph, experiment_subjects, walk_number_values=None, walk_length_values=None, q_values=None,\n",
    "               p_values=None, embedding_size=128, classification_repeats=100, split=1, experiment_repeats=1) -> pd.DataFrame:\n",
    "\n",
    "    # default values\n",
    "    if p_values is None:\n",
    "        p_values = [1.0]\n",
    "    if q_values is None:\n",
    "        q_values = [1.0]\n",
    "    if walk_length_values is None:\n",
    "        walk_length_values = [3]\n",
    "    if walk_number_values is None:\n",
    "        walk_number_values = [20]\n",
    "\n",
    "    # iterate through our variables\n",
    "    results = None\n",
    "    for walk_number in walk_number_values:\n",
    "        for walk_length in walk_length_values:\n",
    "            for q in q_values:\n",
    "                for p in p_values:\n",
    "\n",
    "                    accuracies = np.array([])\n",
    "                    micros = np.array([])\n",
    "                    macros = np.array([])\n",
    "\n",
    "                    for r in np.arange(0, experiment_repeats):\n",
    "\n",
    "                        # run experiment\n",
    "                        embeddings = run_node2vec(experiment_graph, p=p, q=q, walk_number=walk_number, walk_length=walk_length)\n",
    "                        accuracy, f1_micro, f1_macro, _ = run_classifier(X=embeddings, y=np.array(experiment_subjects))\n",
    "\n",
    "                        accuracies = np.append(accuracies, [accuracy])\n",
    "                        micros = np.append(micros, [f1_micro])\n",
    "                        macros = np.append(macros, [f1_macro])\n",
    "\n",
    "                    mean_accuracy = np.mean(accuracies)\n",
    "                    std_accuracy = np.std(accuracies)\n",
    "                    mean_f1_micro = np.mean(micros)\n",
    "                    std_f1_micro = np.std(micros)\n",
    "                    mean_f1_macro = np.mean(macros)\n",
    "                    std_f1_macro = np.std(macros)\n",
    "\n",
    "                    # collect metrics\n",
    "                    metrics_data_row = np.array([[walk_number, walk_length, p, q, mean_accuracy, std_accuracy, mean_f1_micro, std_f1_micro, mean_f1_macro, std_f1_macro]])\n",
    "                    if results is None:\n",
    "                        results = metrics_data_row\n",
    "                    else:\n",
    "                        results = np.append(results, metrics_data_row, axis=0)\n",
    "\n",
    "                    results_table = pd.DataFrame(data=results, columns=['walk number', 'walk length', 'p', 'q', 'accuracy (mean)','accuracy (std)', 'f1_micro (mean)', 'f1_micro (std)', 'f1_macro (mean)', 'f1_macro (std)'])\n",
    "\n",
    "                    clear_output(wait=True)\n",
    "                    display(results_table)\n",
    "\n",
    "    return results_table"
   ],
   "metadata": {
    "collapsed": false,
    "pycharm": {
     "name": "#%%\n"
    }
   }
  },
  {
   "cell_type": "markdown",
   "source": [
    "### Running experiments\n",
    "\n",
    "Notes that more experiments were run than what is visible here by adjusting parameters. See the report file for those details"
   ],
   "metadata": {
    "collapsed": false,
    "pycharm": {
     "name": "#%% md\n"
    }
   }
  },
  {
   "cell_type": "markdown",
   "source": [
    "### Walk number"
   ],
   "metadata": {
    "collapsed": false,
    "pycharm": {
     "name": "#%% md\n"
    }
   }
  },
  {
   "cell_type": "code",
   "execution_count": 15,
   "outputs": [
    {
     "data": {
      "text/plain": "   walk number  walk length    p    q  accuracy (mean)  accuracy (std)  \\\n0         20.0          6.0  1.0  1.0         0.470571        0.033373   \n1         40.0          6.0  1.0  1.0         0.702578        0.011682   \n2         60.0          6.0  1.0  1.0         0.744002        0.012304   \n3         80.0          6.0  1.0  1.0         0.739681        0.006209   \n4        100.0          6.0  1.0  1.0         0.758009        0.003692   \n5        120.0          6.0  1.0  1.0         0.772165        0.009911   \n\n   f1_micro (mean)  f1_micro (std)  f1_macro (mean)  f1_macro (std)  \n0         0.470571        0.033373         0.365682        0.057431  \n1         0.702578        0.011682         0.651025        0.036635  \n2         0.744002        0.012304         0.722553        0.010958  \n3         0.739681        0.006209         0.710963        0.002363  \n4         0.758009        0.003692         0.729154        0.018884  \n5         0.772165        0.009911         0.747256        0.011559  ",
      "text/html": "<div>\n<style scoped>\n    .dataframe tbody tr th:only-of-type {\n        vertical-align: middle;\n    }\n\n    .dataframe tbody tr th {\n        vertical-align: top;\n    }\n\n    .dataframe thead th {\n        text-align: right;\n    }\n</style>\n<table border=\"1\" class=\"dataframe\">\n  <thead>\n    <tr style=\"text-align: right;\">\n      <th></th>\n      <th>walk number</th>\n      <th>walk length</th>\n      <th>p</th>\n      <th>q</th>\n      <th>accuracy (mean)</th>\n      <th>accuracy (std)</th>\n      <th>f1_micro (mean)</th>\n      <th>f1_micro (std)</th>\n      <th>f1_macro (mean)</th>\n      <th>f1_macro (std)</th>\n    </tr>\n  </thead>\n  <tbody>\n    <tr>\n      <th>0</th>\n      <td>20.0</td>\n      <td>6.0</td>\n      <td>1.0</td>\n      <td>1.0</td>\n      <td>0.470571</td>\n      <td>0.033373</td>\n      <td>0.470571</td>\n      <td>0.033373</td>\n      <td>0.365682</td>\n      <td>0.057431</td>\n    </tr>\n    <tr>\n      <th>1</th>\n      <td>40.0</td>\n      <td>6.0</td>\n      <td>1.0</td>\n      <td>1.0</td>\n      <td>0.702578</td>\n      <td>0.011682</td>\n      <td>0.702578</td>\n      <td>0.011682</td>\n      <td>0.651025</td>\n      <td>0.036635</td>\n    </tr>\n    <tr>\n      <th>2</th>\n      <td>60.0</td>\n      <td>6.0</td>\n      <td>1.0</td>\n      <td>1.0</td>\n      <td>0.744002</td>\n      <td>0.012304</td>\n      <td>0.744002</td>\n      <td>0.012304</td>\n      <td>0.722553</td>\n      <td>0.010958</td>\n    </tr>\n    <tr>\n      <th>3</th>\n      <td>80.0</td>\n      <td>6.0</td>\n      <td>1.0</td>\n      <td>1.0</td>\n      <td>0.739681</td>\n      <td>0.006209</td>\n      <td>0.739681</td>\n      <td>0.006209</td>\n      <td>0.710963</td>\n      <td>0.002363</td>\n    </tr>\n    <tr>\n      <th>4</th>\n      <td>100.0</td>\n      <td>6.0</td>\n      <td>1.0</td>\n      <td>1.0</td>\n      <td>0.758009</td>\n      <td>0.003692</td>\n      <td>0.758009</td>\n      <td>0.003692</td>\n      <td>0.729154</td>\n      <td>0.018884</td>\n    </tr>\n    <tr>\n      <th>5</th>\n      <td>120.0</td>\n      <td>6.0</td>\n      <td>1.0</td>\n      <td>1.0</td>\n      <td>0.772165</td>\n      <td>0.009911</td>\n      <td>0.772165</td>\n      <td>0.009911</td>\n      <td>0.747256</td>\n      <td>0.011559</td>\n    </tr>\n  </tbody>\n</table>\n</div>"
     },
     "metadata": {},
     "output_type": "display_data"
    }
   ],
   "source": [
    "# experiment parameters\n",
    "walk_length_values = [6]\n",
    "walk_number_values = [20, 40, 60, 80, 100, 120]\n",
    "q_values = np.array([1.0])\n",
    "p_values = np.array([1.0])\n",
    "\n",
    "# run the experiments\n",
    "graph, subjects = get_cora_data()\n",
    "experiment_results = experiment(graph, subjects, p_values=p_values, q_values=q_values, walk_length_values=walk_length_values, walk_number_values=walk_number_values, experiment_repeats=3)"
   ],
   "metadata": {
    "collapsed": false,
    "pycharm": {
     "name": "#%%\n"
    }
   }
  },
  {
   "cell_type": "code",
   "execution_count": 28,
   "outputs": [],
   "source": [
    "from typing import TextIO\n",
    "\n",
    "postfix = '-walk-number'\n",
    "experiment_results.to_excel('./results/cora-experiments{}.xlsx'.format(postfix))\n",
    "experiment_results.to_pickle('./results/cora-experiments{}.pkl'.format(postfix))\n",
    "experiment_results.to_csv('./results/cora-experiments{}.csv'.format(postfix))\n",
    "experiment_results.style.to_latex('./results/cora-experiments{}.tex'.format(postfix))"
   ],
   "metadata": {
    "collapsed": false,
    "pycharm": {
     "name": "#%%\n"
    }
   }
  },
  {
   "cell_type": "markdown",
   "source": [
    "### Walk length"
   ],
   "metadata": {
    "collapsed": false,
    "pycharm": {
     "name": "#%% md\n"
    }
   }
  },
  {
   "cell_type": "code",
   "execution_count": null,
   "outputs": [
    {
     "data": {
      "text/plain": "   walk number  walk length    p    q  accuracy (mean)  accuracy (std)  \\\n0         20.0          3.0  1.0  1.0         0.307898        0.019765   \n1         20.0          6.0  1.0  1.0         0.536814        0.089942   \n\n   f1_micro (mean)  f1_micro (std)  f1_macro (mean)  f1_macro (std)  \n0         0.307898        0.019765         0.108502        0.037160  \n1         0.536814        0.089942         0.441175        0.100466  ",
      "text/html": "<div>\n<style scoped>\n    .dataframe tbody tr th:only-of-type {\n        vertical-align: middle;\n    }\n\n    .dataframe tbody tr th {\n        vertical-align: top;\n    }\n\n    .dataframe thead th {\n        text-align: right;\n    }\n</style>\n<table border=\"1\" class=\"dataframe\">\n  <thead>\n    <tr style=\"text-align: right;\">\n      <th></th>\n      <th>walk number</th>\n      <th>walk length</th>\n      <th>p</th>\n      <th>q</th>\n      <th>accuracy (mean)</th>\n      <th>accuracy (std)</th>\n      <th>f1_micro (mean)</th>\n      <th>f1_micro (std)</th>\n      <th>f1_macro (mean)</th>\n      <th>f1_macro (std)</th>\n    </tr>\n  </thead>\n  <tbody>\n    <tr>\n      <th>0</th>\n      <td>20.0</td>\n      <td>3.0</td>\n      <td>1.0</td>\n      <td>1.0</td>\n      <td>0.307898</td>\n      <td>0.019765</td>\n      <td>0.307898</td>\n      <td>0.019765</td>\n      <td>0.108502</td>\n      <td>0.037160</td>\n    </tr>\n    <tr>\n      <th>1</th>\n      <td>20.0</td>\n      <td>6.0</td>\n      <td>1.0</td>\n      <td>1.0</td>\n      <td>0.536814</td>\n      <td>0.089942</td>\n      <td>0.536814</td>\n      <td>0.089942</td>\n      <td>0.441175</td>\n      <td>0.100466</td>\n    </tr>\n  </tbody>\n</table>\n</div>"
     },
     "metadata": {},
     "output_type": "display_data"
    },
    {
     "name": "stdout",
     "output_type": "stream",
     "text": [
      "link_classification: using 'dot' method to combine node embeddings into edge embeddings\n"
     ]
    },
    {
     "name": "stderr",
     "output_type": "stream",
     "text": [
      "/Users/jamescauwelier/Library/Caches/pypoetry/virtualenvs/graph-classification-experiments-RDFHJCIl-py3.8/lib/python3.8/site-packages/keras/optimizer_v2/adam.py:105: UserWarning: The `lr` argument is deprecated, use `learning_rate` instead.\n",
      "  super(Adam, self).__init__(name, **kwargs)\n"
     ]
    },
    {
     "name": "stdout",
     "output_type": "stream",
     "text": [
      "Epoch 1/2\n",
      "15904/15904 [==============================] - 36s 2ms/step - loss: 0.5593 - binary_accuracy: 0.6747\n",
      "Epoch 2/2\n",
      "15904/15904 [==============================] - 37s 2ms/step - loss: 0.3529 - binary_accuracy: 0.8409\n",
      "50/50 [==============================] - 0s 3ms/step\n",
      "Array shapes:\n",
      " X_train = (248, 128)\n",
      " y_train = (248,)\n",
      " X_test = (249, 128)\n",
      " y_test = (249,)\n",
      "link_classification: using 'dot' method to combine node embeddings into edge embeddings\n"
     ]
    },
    {
     "name": "stderr",
     "output_type": "stream",
     "text": [
      "/Users/jamescauwelier/Library/Caches/pypoetry/virtualenvs/graph-classification-experiments-RDFHJCIl-py3.8/lib/python3.8/site-packages/keras/optimizer_v2/adam.py:105: UserWarning: The `lr` argument is deprecated, use `learning_rate` instead.\n",
      "  super(Adam, self).__init__(name, **kwargs)\n"
     ]
    },
    {
     "name": "stdout",
     "output_type": "stream",
     "text": [
      "Epoch 1/2\n",
      "15904/15904 [==============================] - 37s 2ms/step - loss: 0.5606 - binary_accuracy: 0.6733\n"
     ]
    }
   ],
   "source": [
    "# experiment parameters\n",
    "walk_length_values = [3, 6, 9, 12]\n",
    "walk_number_values = [20]\n",
    "q_values = np.array([1.0])\n",
    "p_values = np.array([1.0])\n",
    "\n",
    "# run the experiments\n",
    "graph, subjects = get_cora_data()\n",
    "experiment_results = experiment(graph, subjects, p_values=p_values, q_values=q_values, walk_length_values=walk_length_values, walk_number_values=walk_number_values, experiment_repeats=3)"
   ],
   "metadata": {
    "collapsed": false,
    "pycharm": {
     "name": "#%%\n",
     "is_executing": true
    }
   }
  },
  {
   "cell_type": "code",
   "execution_count": null,
   "outputs": [],
   "source": [
    "postfix = '-walk-length'\n",
    "experiment_results.to_excel('./results/cora-experiments{}.xlsx'.format(postfix))\n",
    "experiment_results.to_pickle('./results/cora-experiments{}.pkl'.format(postfix))\n",
    "experiment_results.to_csv('./results/cora-experiments{}.csv'.format(postfix))\n",
    "experiment_results.style.to_latex('./results/cora-experiments{}.tex'.format(postfix))"
   ],
   "metadata": {
    "collapsed": false,
    "pycharm": {
     "name": "#%%\n"
    }
   }
  },
  {
   "cell_type": "markdown",
   "source": [
    "### Q values"
   ],
   "metadata": {
    "collapsed": false,
    "pycharm": {
     "name": "#%% md\n"
    }
   }
  },
  {
   "cell_type": "code",
   "execution_count": 71,
   "outputs": [
    {
     "data": {
      "text/plain": "   walk number  walk length    p      q  accuracy  f1_micro  f1_macro\n0         60.0          9.0  1.0   0.01  0.749516  0.749516  0.723009\n1         60.0          9.0  1.0   0.10  0.741916  0.741916  0.695959\n2         60.0          9.0  1.0   0.50  0.762032  0.762032  0.742093\n3         60.0          9.0  1.0   1.00  0.754731  0.754731  0.734202\n4         60.0          9.0  1.0   5.00  0.727313  0.727313  0.705508\n5         60.0          9.0  1.0  10.00  0.679928  0.679928  0.625904\n6         60.0          9.0  1.0  50.00  0.669498  0.669498  0.648523",
      "text/html": "<div>\n<style scoped>\n    .dataframe tbody tr th:only-of-type {\n        vertical-align: middle;\n    }\n\n    .dataframe tbody tr th {\n        vertical-align: top;\n    }\n\n    .dataframe thead th {\n        text-align: right;\n    }\n</style>\n<table border=\"1\" class=\"dataframe\">\n  <thead>\n    <tr style=\"text-align: right;\">\n      <th></th>\n      <th>walk number</th>\n      <th>walk length</th>\n      <th>p</th>\n      <th>q</th>\n      <th>accuracy</th>\n      <th>f1_micro</th>\n      <th>f1_macro</th>\n    </tr>\n  </thead>\n  <tbody>\n    <tr>\n      <th>0</th>\n      <td>60.0</td>\n      <td>9.0</td>\n      <td>1.0</td>\n      <td>0.01</td>\n      <td>0.749516</td>\n      <td>0.749516</td>\n      <td>0.723009</td>\n    </tr>\n    <tr>\n      <th>1</th>\n      <td>60.0</td>\n      <td>9.0</td>\n      <td>1.0</td>\n      <td>0.10</td>\n      <td>0.741916</td>\n      <td>0.741916</td>\n      <td>0.695959</td>\n    </tr>\n    <tr>\n      <th>2</th>\n      <td>60.0</td>\n      <td>9.0</td>\n      <td>1.0</td>\n      <td>0.50</td>\n      <td>0.762032</td>\n      <td>0.762032</td>\n      <td>0.742093</td>\n    </tr>\n    <tr>\n      <th>3</th>\n      <td>60.0</td>\n      <td>9.0</td>\n      <td>1.0</td>\n      <td>1.00</td>\n      <td>0.754731</td>\n      <td>0.754731</td>\n      <td>0.734202</td>\n    </tr>\n    <tr>\n      <th>4</th>\n      <td>60.0</td>\n      <td>9.0</td>\n      <td>1.0</td>\n      <td>5.00</td>\n      <td>0.727313</td>\n      <td>0.727313</td>\n      <td>0.705508</td>\n    </tr>\n    <tr>\n      <th>5</th>\n      <td>60.0</td>\n      <td>9.0</td>\n      <td>1.0</td>\n      <td>10.00</td>\n      <td>0.679928</td>\n      <td>0.679928</td>\n      <td>0.625904</td>\n    </tr>\n    <tr>\n      <th>6</th>\n      <td>60.0</td>\n      <td>9.0</td>\n      <td>1.0</td>\n      <td>50.00</td>\n      <td>0.669498</td>\n      <td>0.669498</td>\n      <td>0.648523</td>\n    </tr>\n  </tbody>\n</table>\n</div>"
     },
     "metadata": {},
     "output_type": "display_data"
    }
   ],
   "source": [
    "# experiment parameters\n",
    "walk_length_values = [9]\n",
    "walk_number_values = [60]\n",
    "p_values = np.array([1.0])\n",
    "q_values = np.array([0.01, 0.1, 0.5, 1.0, 5.0, 10.0, 50.0])\n",
    "\n",
    "# run the experiments\n",
    "graph, subjects = get_cora_data()\n",
    "experiment_results = experiment(graph, subjects, p_values=p_values, q_values=q_values, walk_length_values=walk_length_values, walk_number_values=walk_number_values, experiment_repeats=3)"
   ],
   "metadata": {
    "collapsed": false,
    "pycharm": {
     "name": "#%%\n"
    }
   }
  },
  {
   "cell_type": "code",
   "execution_count": 72,
   "outputs": [],
   "source": [
    "postfix = '-qvals-l9-n60'\n",
    "experiment_results.to_excel('./cora-experiments{}.xlsx'.format(postfix))\n",
    "experiment_results.to_pickle('./cora-experiments{}.pkl'.format(postfix))\n",
    "experiment_results.to_csv('./cora-experiments{}.csv'.format(postfix))\n",
    "experiment_results.style.to_latex('./results/cora-experiments{}.tex'.format(postfix))"
   ],
   "metadata": {
    "collapsed": false,
    "pycharm": {
     "name": "#%%\n"
    }
   }
  },
  {
   "cell_type": "markdown",
   "source": [
    "### P values"
   ],
   "metadata": {
    "collapsed": false,
    "pycharm": {
     "name": "#%% md\n"
    }
   }
  },
  {
   "cell_type": "code",
   "execution_count": null,
   "outputs": [],
   "source": [
    "# experiment parameters\n",
    "walk_length_values = [9]\n",
    "walk_number_values = [60]\n",
    "q_values = np.array([1.0])\n",
    "p_values = np.array([0.01, 0.1, 0.5, 1.0, 5.0, 10.0, 50.0])\n",
    "\n",
    "# run the experiments\n",
    "graph, subjects = get_cora_data()\n",
    "experiment_results = experiment(graph, subjects, p_values=p_values, q_values=q_values, walk_length_values=walk_length_values, walk_number_values=walk_number_values, experiment_repeats=3)"
   ],
   "metadata": {
    "collapsed": false,
    "pycharm": {
     "name": "#%%\n"
    }
   }
  },
  {
   "cell_type": "code",
   "execution_count": null,
   "outputs": [],
   "source": [
    "postfix = '-pvals-l9-n60'\n",
    "experiment_results.to_excel('./cora-experiments{}.xlsx'.format(postfix))\n",
    "experiment_results.to_pickle('./cora-experiments{}.pkl'.format(postfix))\n",
    "experiment_results.to_csv('./cora-experiments{}.csv'.format(postfix))\n",
    "experiment_results.style.to_latex('./results/cora-experiments{}.tex'.format(postfix))"
   ],
   "metadata": {
    "collapsed": false,
    "pycharm": {
     "name": "#%%\n"
    }
   }
  }
 ],
 "metadata": {
  "kernelspec": {
   "display_name": "Python 3",
   "language": "python",
   "name": "python3"
  },
  "language_info": {
   "codemirror_mode": {
    "name": "ipython",
    "version": 2
   },
   "file_extension": ".py",
   "mimetype": "text/x-python",
   "name": "python",
   "nbconvert_exporter": "python",
   "pygments_lexer": "ipython2",
   "version": "2.7.6"
  }
 },
 "nbformat": 4,
 "nbformat_minor": 0
}